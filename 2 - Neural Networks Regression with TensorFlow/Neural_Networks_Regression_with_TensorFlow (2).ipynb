{
  "nbformat": 4,
  "nbformat_minor": 0,
  "metadata": {
    "colab": {
      "provenance": [],
      "gpuType": "T4"
    },
    "kernelspec": {
      "name": "python3",
      "display_name": "Python 3"
    },
    "language_info": {
      "name": "python"
    },
    "accelerator": "GPU"
  },
  "cells": [
    {
      "cell_type": "markdown",
      "source": [
        "# Introduction to Regression with Neural Networks in TensorFlow\n",
        "- There are many definitions for a regression problem but in our case, we're going to simplify it: predicting a numerical variable based on some other combination of variables."
      ],
      "metadata": {
        "id": "c2dIRamFITSW"
      }
    },
    {
      "cell_type": "markdown",
      "source": [
        "## Import TensorFlow\n"
      ],
      "metadata": {
        "id": "d_2n5SSwJCDY"
      }
    },
    {
      "cell_type": "code",
      "execution_count": 1,
      "metadata": {
        "colab": {
          "base_uri": "https://localhost:8080/",
          "height": 35
        },
        "id": "vl8-GxuwICqo",
        "outputId": "078ebfca-4415-41c3-d173-0794415eb759"
      },
      "outputs": [
        {
          "output_type": "execute_result",
          "data": {
            "text/plain": [
              "'2.14.0'"
            ],
            "application/vnd.google.colaboratory.intrinsic+json": {
              "type": "string"
            }
          },
          "metadata": {},
          "execution_count": 1
        }
      ],
      "source": [
        "import tensorflow as tf\n",
        "tf.__version__"
      ]
    },
    {
      "cell_type": "markdown",
      "source": [
        "## Creating a data to fit"
      ],
      "metadata": {
        "id": "xhCssMgiJBER"
      }
    },
    {
      "cell_type": "code",
      "source": [
        "import numpy as np\n",
        "import matplotlib.pyplot as plt\n",
        "\n",
        "X = np.array([-7., -4., -1., 2., 5., 8., 11., 14.])\n",
        "y = np.array([3., 6., 9., 12., 15., 18., 21., 24. ])\n",
        "\n",
        "# Visualize\n",
        "plt.scatter(X, y)\n",
        "plt.plot(X, y, color=\"red\")\n",
        "plt.xlabel(\"X\")\n",
        "plt.ylabel(\"y\")\n",
        "plt.show()"
      ],
      "metadata": {
        "colab": {
          "base_uri": "https://localhost:8080/",
          "height": 454
        },
        "id": "F73pE9-LIMvK",
        "outputId": "e8da49ad-a188-4546-dd7c-2ad79dda9447"
      },
      "execution_count": 2,
      "outputs": [
        {
          "output_type": "display_data",
          "data": {
            "text/plain": [
              "<Figure size 640x480 with 1 Axes>"
            ],
            "image/png": "[encoded data removed]"
          },
          "metadata": {}
        }
      ]
    },
    {
      "cell_type": "markdown",
      "source": [
        "- From graph, it can be seen that, y = X + 10.\n",
        "\n",
        "X -> input features, independent variable\n",
        "y -> output feature, dependent variable"
      ],
      "metadata": {
        "id": "D8JTRPZlJzYs"
      }
    },
    {
      "cell_type": "markdown",
      "source": [
        "## Input and output shapes\n"
      ],
      "metadata": {
        "id": "0cWSNJbqKcBf"
      }
    },
    {
      "cell_type": "code",
      "source": [
        "# Create a demo tensor for our housing price prediction problem\n",
        "\n",
        "house_info = tf.constant([\"bedroom\", \"bathroom\", \"garage\"])\n",
        "house_price = tf.constant([939700])\n",
        "\n",
        "house_info, house_price"
      ],
      "metadata": {
        "colab": {
          "base_uri": "https://localhost:8080/"
        },
        "id": "G-hntZ_8JeaH",
        "outputId": "8ed67afa-b8af-4341-9aa6-d1c9826ad73d"
      },
      "execution_count": 3,
      "outputs": [
        {
          "output_type": "execute_result",
          "data": {
            "text/plain": [
              "(<tf.Tensor: shape=(3,), dtype=string, numpy=array([b'bedroom', b'bathroom', b'garage'], dtype=object)>,\n",
              " <tf.Tensor: shape=(1,), dtype=int32, numpy=array([939700], dtype=int32)>)"
            ]
          },
          "metadata": {},
          "execution_count": 3
        }
      ]
    },
    {
      "cell_type": "code",
      "source": [
        "input_shape = X.shape\n",
        "output_shape = y.shape\n",
        "input_shape, output_shape"
      ],
      "metadata": {
        "colab": {
          "base_uri": "https://localhost:8080/"
        },
        "id": "l4B3sVtrKKL-",
        "outputId": "db12940e-01ab-4b7f-80d3-05851d21ba1f"
      },
      "execution_count": 4,
      "outputs": [
        {
          "output_type": "execute_result",
          "data": {
            "text/plain": [
              "((8,), (8,))"
            ]
          },
          "metadata": {},
          "execution_count": 4
        }
      ]
    },
    {
      "cell_type": "markdown",
      "source": [
        "## Turn our Numpy array into tensors"
      ],
      "metadata": {
        "id": "zeTZRnVVHij_"
      }
    },
    {
      "cell_type": "code",
      "source": [
        "X = tf.cast(tf.constant(X), dtype=tf.float32)\n",
        "y = tf.cast(tf.constant(y), dtype=tf.float32)\n",
        "X, y"
      ],
      "metadata": {
        "colab": {
          "base_uri": "https://localhost:8080/"
        },
        "id": "1HOrk95hK6Ci",
        "outputId": "46b55dcf-4b80-4a28-d533-a184503afaf0"
      },
      "execution_count": 5,
      "outputs": [
        {
          "output_type": "execute_result",
          "data": {
            "text/plain": [
              "(<tf.Tensor: shape=(8,), dtype=float32, numpy=array([-7., -4., -1.,  2.,  5.,  8., 11., 14.], dtype=float32)>,\n",
              " <tf.Tensor: shape=(8,), dtype=float32, numpy=array([ 3.,  6.,  9., 12., 15., 18., 21., 24.], dtype=float32)>)"
            ]
          },
          "metadata": {},
          "execution_count": 5
        }
      ]
    },
    {
      "cell_type": "markdown",
      "source": [
        "## Steps in modelling with TensorFlow\n",
        "\n",
        "\n",
        "1.   Creating a model - define the input and output layers, as well as the hidden layers of a deep learning\n",
        "2.   Compiling a model - define  the loss function ( in other words, the function that tells our model how wrong it is) and the optimizer ( tells our model how to improve the patterns its learning) and evalution metrics ( what we can use to interpret the performance of our model)\n",
        "3. Fittin a model - letting the model try to find patterns betwene X & y (features and labels).\n",
        "\n"
      ],
      "metadata": {
        "id": "MIvvMAcfIMdL"
      }
    },
    {
      "cell_type": "code",
      "source": [
        "# Set random seed\n",
        "\n",
        "tf.random.set_seed(42)\n",
        "\n",
        "# 1. Create a model using the Sequential API\n",
        "\n",
        "# Sequential groups a linear stack of layers into a tf.keras.Model.\n",
        "# Sequential provides training and inference features on this model\n",
        "model = tf.keras.Sequential([\n",
        "    tf.keras.layers.Dense(1) # we have 1 input and want 1 output. that's why it's 1\n",
        "])\n",
        "\n",
        "# 2. Compile the model\n",
        "model.compile(\n",
        "    loss=tf.keras.losses.mae, # mae => mean absolute error\n",
        "    optimizer=tf.keras.optimizers.SGD(), # SGD => stochastic gradient descent\n",
        "    metrics=[\"mae\"]\n",
        "              )\n",
        "\n",
        "# 3. Fit the model\n",
        "model.fit(tf.expand_dims(X, axis=-1), y, epochs=5)\n"
      ],
      "metadata": {
        "colab": {
          "base_uri": "https://localhost:8080/"
        },
        "id": "2kdDyNSdH466",
        "outputId": "a28ca9b3-273d-497f-f681-7a22ae4f2fa7"
      },
      "execution_count": 6,
      "outputs": [
        {
          "output_type": "stream",
          "name": "stdout",
          "text": [
            "Epoch 1/5\n",
            "1/1 [==============================] - 7s 7s/step - loss: 14.7785 - mae: 14.7785\n",
            "Epoch 2/5\n",
            "1/1 [==============================] - 0s 28ms/step - loss: 14.6460 - mae: 14.6460\n",
            "Epoch 3/5\n",
            "1/1 [==============================] - 0s 15ms/step - loss: 14.5135 - mae: 14.5135\n",
            "Epoch 4/5\n",
            "1/1 [==============================] - 0s 21ms/step - loss: 14.3810 - mae: 14.3810\n",
            "Epoch 5/5\n",
            "1/1 [==============================] - 0s 14ms/step - loss: 14.2485 - mae: 14.2485\n"
          ]
        },
        {
          "output_type": "execute_result",
          "data": {
            "text/plain": [
              "<keras.src.callbacks.History at 0x7ce84ead3790>"
            ]
          },
          "metadata": {},
          "execution_count": 6
        }
      ]
    },
    {
      "cell_type": "code",
      "source": [
        "# Check out X, y\n",
        "\n",
        "X, y"
      ],
      "metadata": {
        "colab": {
          "base_uri": "https://localhost:8080/"
        },
        "id": "btxirzTlIG_R",
        "outputId": "628839bb-203f-47a1-e973-cd322517c970"
      },
      "execution_count": 7,
      "outputs": [
        {
          "output_type": "execute_result",
          "data": {
            "text/plain": [
              "(<tf.Tensor: shape=(8,), dtype=float32, numpy=array([-7., -4., -1.,  2.,  5.,  8., 11., 14.], dtype=float32)>,\n",
              " <tf.Tensor: shape=(8,), dtype=float32, numpy=array([ 3.,  6.,  9., 12., 15., 18., 21., 24.], dtype=float32)>)"
            ]
          },
          "metadata": {},
          "execution_count": 7
        }
      ]
    },
    {
      "cell_type": "markdown",
      "source": [
        "## Try and make a prediction using our model"
      ],
      "metadata": {
        "id": "fdhHlKl1NZ0t"
      }
    },
    {
      "cell_type": "code",
      "source": [
        "y_pred = model.predict([17.])\n",
        "y_pred"
      ],
      "metadata": {
        "colab": {
          "base_uri": "https://localhost:8080/"
        },
        "id": "MxvRG0HXNX9R",
        "outputId": "ac8065d3-f2a6-4bd7-d474-d93701815b68"
      },
      "execution_count": 8,
      "outputs": [
        {
          "output_type": "stream",
          "name": "stdout",
          "text": [
            "1/1 [==============================] - 0s 82ms/step\n"
          ]
        },
        {
          "output_type": "execute_result",
          "data": {
            "text/plain": [
              "array([[-3.185071]], dtype=float32)"
            ]
          },
          "metadata": {},
          "execution_count": 8
        }
      ]
    },
    {
      "cell_type": "markdown",
      "source": [
        "- Performance of our model is worse than shit. We have to improve it."
      ],
      "metadata": {
        "id": "fkIyMBaNN0ew"
      }
    },
    {
      "cell_type": "markdown",
      "source": [
        "## Improve our model\n",
        "\n",
        "we can improve our model, by altering the steps we took to create a model\n",
        "\n",
        "1.   **Creating a model** - here we might add more layers, increase the number of hidden units (all called neurons) within each of the hidden layers, change the activation function of each layer.\n",
        "2.   **Compiling a model** - here we might change the optimization function or perhaps the **learning rate** of the optimization function.\n",
        "3. **Fitting a model** - here we might fit a model for more **epochs** (leave it traning for longer) or on more data (give the model more examples to learn from)"
      ],
      "metadata": {
        "id": "CRk4tslVE4zD"
      }
    },
    {
      "cell_type": "code",
      "source": [
        "# Let's rebuild our model\n",
        "\n",
        "# 1. Create the model\n",
        "\n",
        "model = tf.keras.Sequential([\n",
        "    tf.keras.layers.Dense(1)\n",
        "])\n",
        "\n",
        "# 2. Compile the model\n",
        "\n",
        "model.compile(\n",
        "    loss=tf.keras.losses.mae,\n",
        "    optimizer=tf.keras.optimizers.SGD(),\n",
        "    metrics=[\"mae\"])\n",
        "\n",
        "# 3. Fit the model (this time we'll train for longer)\n",
        "\n",
        "model.fit(tf.expand_dims(X, axis=-1), y, epochs=100)"
      ],
      "metadata": {
        "colab": {
          "base_uri": "https://localhost:8080/"
        },
        "id": "nylMtQ7rNgRi",
        "outputId": "72ae94d7-5af2-4e4d-dd1c-e1bdefda75ad"
      },
      "execution_count": 9,
      "outputs": [
        {
          "output_type": "stream",
          "name": "stdout",
          "text": [
            "Epoch 1/100\n",
            "1/1 [==============================] - 0s 385ms/step - loss: 13.0505 - mae: 13.0505\n",
            "Epoch 2/100\n",
            "1/1 [==============================] - 0s 12ms/step - loss: 12.9180 - mae: 12.9180\n",
            "Epoch 3/100\n",
            "1/1 [==============================] - 0s 13ms/step - loss: 12.7855 - mae: 12.7855\n",
            "Epoch 4/100\n",
            "1/1 [==============================] - 0s 12ms/step - loss: 12.6530 - mae: 12.6530\n",
            "Epoch 5/100\n",
            "1/1 [==============================] - 0s 12ms/step - loss: 12.5205 - mae: 12.5205\n",
            "Epoch 6/100\n",
            "1/1 [==============================] - 0s 11ms/step - loss: 12.3880 - mae: 12.3880\n",
            "Epoch 7/100\n",
            "1/1 [==============================] - 0s 12ms/step - loss: 12.2555 - mae: 12.2555\n",
            "Epoch 8/100\n",
            "1/1 [==============================] - 0s 12ms/step - loss: 12.1230 - mae: 12.1230\n",
            "Epoch 9/100\n",
            "1/1 [==============================] - 0s 12ms/step - loss: 11.9905 - mae: 11.9905\n",
            "Epoch 10/100\n",
            "1/1 [==============================] - 0s 12ms/step - loss: 11.8580 - mae: 11.8580\n",
            "Epoch 11/100\n",
            "1/1 [==============================] - 0s 12ms/step - loss: 11.7255 - mae: 11.7255\n",
            "Epoch 12/100\n",
            "1/1 [==============================] - 0s 12ms/step - loss: 11.5930 - mae: 11.5930\n",
            "Epoch 13/100\n",
            "1/1 [==============================] - 0s 13ms/step - loss: 11.4605 - mae: 11.4605\n",
            "Epoch 14/100\n",
            "1/1 [==============================] - 0s 11ms/step - loss: 11.3280 - mae: 11.3280\n",
            "Epoch 15/100\n",
            "1/1 [==============================] - 0s 12ms/step - loss: 11.1955 - mae: 11.1955\n",
            "Epoch 16/100\n",
            "1/1 [==============================] - 0s 12ms/step - loss: 11.0630 - mae: 11.0630\n",
            "Epoch 17/100\n",
            "1/1 [==============================] - 0s 10ms/step - loss: 10.9305 - mae: 10.9305\n",
            "Epoch 18/100\n",
            "1/1 [==============================] - 0s 11ms/step - loss: 10.7980 - mae: 10.7980\n",
            "Epoch 19/100\n",
            "1/1 [==============================] - 0s 12ms/step - loss: 10.6655 - mae: 10.6655\n",
            "Epoch 20/100\n",
            "1/1 [==============================] - 0s 12ms/step - loss: 10.5330 - mae: 10.5330\n",
            "Epoch 21/100\n",
            "1/1 [==============================] - 0s 13ms/step - loss: 10.4005 - mae: 10.4005\n",
            "Epoch 22/100\n",
            "1/1 [==============================] - 0s 20ms/step - loss: 10.2680 - mae: 10.2680\n",
            "Epoch 23/100\n",
            "1/1 [==============================] - 0s 16ms/step - loss: 10.1355 - mae: 10.1355\n",
            "Epoch 24/100\n",
            "1/1 [==============================] - 0s 10ms/step - loss: 10.0030 - mae: 10.0030\n",
            "Epoch 25/100\n",
            "1/1 [==============================] - 0s 11ms/step - loss: 9.8705 - mae: 9.8705\n",
            "Epoch 26/100\n",
            "1/1 [==============================] - 0s 11ms/step - loss: 9.7380 - mae: 9.7380\n",
            "Epoch 27/100\n",
            "1/1 [==============================] - 0s 10ms/step - loss: 9.6055 - mae: 9.6055\n",
            "Epoch 28/100\n",
            "1/1 [==============================] - 0s 12ms/step - loss: 9.4730 - mae: 9.4730\n",
            "Epoch 29/100\n",
            "1/1 [==============================] - 0s 11ms/step - loss: 9.3405 - mae: 9.3405\n",
            "Epoch 30/100\n",
            "1/1 [==============================] - 0s 12ms/step - loss: 9.2080 - mae: 9.2080\n",
            "Epoch 31/100\n",
            "1/1 [==============================] - 0s 12ms/step - loss: 9.0755 - mae: 9.0755\n",
            "Epoch 32/100\n",
            "1/1 [==============================] - 0s 10ms/step - loss: 8.9430 - mae: 8.9430\n",
            "Epoch 33/100\n",
            "1/1 [==============================] - 0s 12ms/step - loss: 8.8105 - mae: 8.8105\n",
            "Epoch 34/100\n",
            "1/1 [==============================] - 0s 10ms/step - loss: 8.6780 - mae: 8.6780\n",
            "Epoch 35/100\n",
            "1/1 [==============================] - 0s 10ms/step - loss: 8.5455 - mae: 8.5455\n",
            "Epoch 36/100\n",
            "1/1 [==============================] - 0s 10ms/step - loss: 8.4130 - mae: 8.4130\n",
            "Epoch 37/100\n",
            "1/1 [==============================] - 0s 13ms/step - loss: 8.2805 - mae: 8.2805\n",
            "Epoch 38/100\n",
            "1/1 [==============================] - 0s 12ms/step - loss: 8.1480 - mae: 8.1480\n",
            "Epoch 39/100\n",
            "1/1 [==============================] - 0s 12ms/step - loss: 8.0155 - mae: 8.0155\n",
            "Epoch 40/100\n",
            "1/1 [==============================] - 0s 15ms/step - loss: 7.8830 - mae: 7.8830\n",
            "Epoch 41/100\n",
            "1/1 [==============================] - 0s 12ms/step - loss: 7.7505 - mae: 7.7505\n",
            "Epoch 42/100\n",
            "1/1 [==============================] - 0s 10ms/step - loss: 7.6180 - mae: 7.6180\n",
            "Epoch 43/100\n",
            "1/1 [==============================] - 0s 10ms/step - loss: 7.4855 - mae: 7.4855\n",
            "Epoch 44/100\n",
            "1/1 [==============================] - 0s 15ms/step - loss: 7.3530 - mae: 7.3530\n",
            "Epoch 45/100\n",
            "1/1 [==============================] - 0s 11ms/step - loss: 7.2205 - mae: 7.2205\n",
            "Epoch 46/100\n",
            "1/1 [==============================] - 0s 12ms/step - loss: 7.1625 - mae: 7.1625\n",
            "Epoch 47/100\n",
            "1/1 [==============================] - 0s 11ms/step - loss: 7.1569 - mae: 7.1569\n",
            "Epoch 48/100\n",
            "1/1 [==============================] - 0s 15ms/step - loss: 7.1512 - mae: 7.1512\n",
            "Epoch 49/100\n",
            "1/1 [==============================] - 0s 10ms/step - loss: 7.1456 - mae: 7.1456\n",
            "Epoch 50/100\n",
            "1/1 [==============================] - 0s 9ms/step - loss: 7.1400 - mae: 7.1400\n",
            "Epoch 51/100\n",
            "1/1 [==============================] - 0s 12ms/step - loss: 7.1344 - mae: 7.1344\n",
            "Epoch 52/100\n",
            "1/1 [==============================] - 0s 10ms/step - loss: 7.1287 - mae: 7.1287\n",
            "Epoch 53/100\n",
            "1/1 [==============================] - 0s 11ms/step - loss: 7.1231 - mae: 7.1231\n",
            "Epoch 54/100\n",
            "1/1 [==============================] - 0s 13ms/step - loss: 7.1175 - mae: 7.1175\n",
            "Epoch 55/100\n",
            "1/1 [==============================] - 0s 12ms/step - loss: 7.1119 - mae: 7.1119\n",
            "Epoch 56/100\n",
            "1/1 [==============================] - 0s 11ms/step - loss: 7.1063 - mae: 7.1063\n",
            "Epoch 57/100\n",
            "1/1 [==============================] - 0s 16ms/step - loss: 7.1006 - mae: 7.1006\n",
            "Epoch 58/100\n",
            "1/1 [==============================] - 0s 11ms/step - loss: 7.0950 - mae: 7.0950\n",
            "Epoch 59/100\n",
            "1/1 [==============================] - 0s 11ms/step - loss: 7.0894 - mae: 7.0894\n",
            "Epoch 60/100\n",
            "1/1 [==============================] - 0s 10ms/step - loss: 7.0837 - mae: 7.0837\n",
            "Epoch 61/100\n",
            "1/1 [==============================] - 0s 16ms/step - loss: 7.0781 - mae: 7.0781\n",
            "Epoch 62/100\n",
            "1/1 [==============================] - 0s 13ms/step - loss: 7.0725 - mae: 7.0725\n",
            "Epoch 63/100\n",
            "1/1 [==============================] - 0s 12ms/step - loss: 7.0669 - mae: 7.0669\n",
            "Epoch 64/100\n",
            "1/1 [==============================] - 0s 12ms/step - loss: 7.0613 - mae: 7.0613\n",
            "Epoch 65/100\n",
            "1/1 [==============================] - 0s 12ms/step - loss: 7.0556 - mae: 7.0556\n",
            "Epoch 66/100\n",
            "1/1 [==============================] - 0s 12ms/step - loss: 7.0500 - mae: 7.0500\n",
            "Epoch 67/100\n",
            "1/1 [==============================] - 0s 13ms/step - loss: 7.0444 - mae: 7.0444\n",
            "Epoch 68/100\n",
            "1/1 [==============================] - 0s 12ms/step - loss: 7.0388 - mae: 7.0388\n",
            "Epoch 69/100\n",
            "1/1 [==============================] - 0s 12ms/step - loss: 7.0331 - mae: 7.0331\n",
            "Epoch 70/100\n",
            "1/1 [==============================] - 0s 13ms/step - loss: 7.0275 - mae: 7.0275\n",
            "Epoch 71/100\n",
            "1/1 [==============================] - 0s 12ms/step - loss: 7.0219 - mae: 7.0219\n",
            "Epoch 72/100\n",
            "1/1 [==============================] - 0s 14ms/step - loss: 7.0163 - mae: 7.0163\n",
            "Epoch 73/100\n",
            "1/1 [==============================] - 0s 13ms/step - loss: 7.0106 - mae: 7.0106\n",
            "Epoch 74/100\n",
            "1/1 [==============================] - 0s 11ms/step - loss: 7.0050 - mae: 7.0050\n",
            "Epoch 75/100\n",
            "1/1 [==============================] - 0s 12ms/step - loss: 6.9994 - mae: 6.9994\n",
            "Epoch 76/100\n",
            "1/1 [==============================] - 0s 13ms/step - loss: 6.9938 - mae: 6.9938\n",
            "Epoch 77/100\n",
            "1/1 [==============================] - 0s 13ms/step - loss: 6.9881 - mae: 6.9881\n",
            "Epoch 78/100\n",
            "1/1 [==============================] - 0s 12ms/step - loss: 6.9825 - mae: 6.9825\n",
            "Epoch 79/100\n",
            "1/1 [==============================] - 0s 13ms/step - loss: 6.9769 - mae: 6.9769\n",
            "Epoch 80/100\n",
            "1/1 [==============================] - 0s 12ms/step - loss: 6.9713 - mae: 6.9713\n",
            "Epoch 81/100\n",
            "1/1 [==============================] - 0s 14ms/step - loss: 6.9656 - mae: 6.9656\n",
            "Epoch 82/100\n",
            "1/1 [==============================] - 0s 12ms/step - loss: 6.9600 - mae: 6.9600\n",
            "Epoch 83/100\n",
            "1/1 [==============================] - 0s 12ms/step - loss: 6.9544 - mae: 6.9544\n",
            "Epoch 84/100\n",
            "1/1 [==============================] - 0s 14ms/step - loss: 6.9488 - mae: 6.9488\n",
            "Epoch 85/100\n",
            "1/1 [==============================] - 0s 15ms/step - loss: 6.9431 - mae: 6.9431\n",
            "Epoch 86/100\n",
            "1/1 [==============================] - 0s 12ms/step - loss: 6.9375 - mae: 6.9375\n",
            "Epoch 87/100\n",
            "1/1 [==============================] - 0s 12ms/step - loss: 6.9319 - mae: 6.9319\n",
            "Epoch 88/100\n",
            "1/1 [==============================] - 0s 12ms/step - loss: 6.9263 - mae: 6.9263\n",
            "Epoch 89/100\n",
            "1/1 [==============================] - 0s 16ms/step - loss: 6.9206 - mae: 6.9206\n",
            "Epoch 90/100\n",
            "1/1 [==============================] - 0s 11ms/step - loss: 6.9150 - mae: 6.9150\n",
            "Epoch 91/100\n",
            "1/1 [==============================] - 0s 10ms/step - loss: 6.9094 - mae: 6.9094\n",
            "Epoch 92/100\n",
            "1/1 [==============================] - 0s 13ms/step - loss: 6.9038 - mae: 6.9038\n",
            "Epoch 93/100\n",
            "1/1 [==============================] - 0s 13ms/step - loss: 6.8981 - mae: 6.8981\n",
            "Epoch 94/100\n",
            "1/1 [==============================] - 0s 12ms/step - loss: 6.8925 - mae: 6.8925\n",
            "Epoch 95/100\n",
            "1/1 [==============================] - 0s 13ms/step - loss: 6.8869 - mae: 6.8869\n",
            "Epoch 96/100\n",
            "1/1 [==============================] - 0s 16ms/step - loss: 6.8813 - mae: 6.8813\n",
            "Epoch 97/100\n",
            "1/1 [==============================] - 0s 11ms/step - loss: 6.8756 - mae: 6.8756\n",
            "Epoch 98/100\n",
            "1/1 [==============================] - 0s 12ms/step - loss: 6.8700 - mae: 6.8700\n",
            "Epoch 99/100\n",
            "1/1 [==============================] - 0s 14ms/step - loss: 6.8644 - mae: 6.8644\n",
            "Epoch 100/100\n",
            "1/1 [==============================] - 0s 16ms/step - loss: 6.8588 - mae: 6.8588\n"
          ]
        },
        {
          "output_type": "execute_result",
          "data": {
            "text/plain": [
              "<keras.src.callbacks.History at 0x7ce848d2ceb0>"
            ]
          },
          "metadata": {},
          "execution_count": 9
        }
      ]
    },
    {
      "cell_type": "markdown",
      "source": [
        "## Try and make a prediction using our new model"
      ],
      "metadata": {
        "id": "15eb95siIOeo"
      }
    },
    {
      "cell_type": "code",
      "source": [
        "y_pred = model.predict([17.])\n",
        "y_pred"
      ],
      "metadata": {
        "colab": {
          "base_uri": "https://localhost:8080/"
        },
        "id": "qmZRIiNXHl0E",
        "outputId": "a6f38ed2-e3ab-4d40-a26c-ce46f808a73b"
      },
      "execution_count": 10,
      "outputs": [
        {
          "output_type": "stream",
          "name": "stdout",
          "text": [
            "1/1 [==============================] - 0s 56ms/step\n"
          ]
        },
        {
          "output_type": "execute_result",
          "data": {
            "text/plain": [
              "array([[29.820974]], dtype=float32)"
            ]
          },
          "metadata": {},
          "execution_count": 10
        }
      ]
    },
    {
      "cell_type": "markdown",
      "source": [
        "- ***It's much better than before. Let's continue to improve our model***"
      ],
      "metadata": {
        "id": "1Mg-oDhIIpjr"
      }
    },
    {
      "cell_type": "code",
      "source": [
        "# 1. Create the model with an extra hidden layer with 100 hidden units\n",
        "model = tf.keras.Sequential([\n",
        "    tf.keras.layers.Dense(100, activation=\"relu\"),\n",
        "    tf.keras.layers.Dense(100, activation=None),\n",
        "    tf.keras.layers.Dense(100, activation=None),\n",
        "    tf.keras.layers.Dense(1)\n",
        "])\n",
        "\n",
        "# 2. Compile the model\n",
        "model.compile(\n",
        "    loss=tf.keras.losses.mae,\n",
        "    optimizer=tf.keras.optimizers.Adam(lr=0.001),\n",
        "    metrics=[\"mae\"]\n",
        "    )\n",
        "\n",
        "# 3. Fit the model\n",
        "\n",
        "model.fit(tf.expand_dims(X, axis=-1), y, epochs=100)"
      ],
      "metadata": {
        "colab": {
          "base_uri": "https://localhost:8080/"
        },
        "id": "n-aofDusInT4",
        "outputId": "26357fc0-543a-4de9-b201-bcf5994f3516"
      },
      "execution_count": 20,
      "outputs": [
        {
          "output_type": "stream",
          "name": "stderr",
          "text": [
            "WARNING:absl:`lr` is deprecated in Keras optimizer, please use `learning_rate` or use the legacy optimizer, e.g.,tf.keras.optimizers.legacy.Adam.\n"
          ]
        },
        {
          "output_type": "stream",
          "name": "stdout",
          "text": [
            "Epoch 1/100\n",
            "1/1 [==============================] - 3s 3s/step - loss: 12.8317 - mae: 12.8317\n",
            "Epoch 2/100\n",
            "1/1 [==============================] - 0s 19ms/step - loss: 11.9529 - mae: 11.9529\n",
            "Epoch 3/100\n",
            "1/1 [==============================] - 0s 18ms/step - loss: 11.0418 - mae: 11.0418\n",
            "Epoch 4/100\n",
            "1/1 [==============================] - 0s 17ms/step - loss: 10.2020 - mae: 10.2020\n",
            "Epoch 5/100\n",
            "1/1 [==============================] - 0s 22ms/step - loss: 9.4090 - mae: 9.4090\n",
            "Epoch 6/100\n",
            "1/1 [==============================] - 0s 21ms/step - loss: 8.5680 - mae: 8.5680\n",
            "Epoch 7/100\n",
            "1/1 [==============================] - 0s 20ms/step - loss: 7.6757 - mae: 7.6757\n",
            "Epoch 8/100\n",
            "1/1 [==============================] - 0s 19ms/step - loss: 6.7270 - mae: 6.7270\n",
            "Epoch 9/100\n",
            "1/1 [==============================] - 0s 24ms/step - loss: 5.7158 - mae: 5.7158\n",
            "Epoch 10/100\n",
            "1/1 [==============================] - 0s 20ms/step - loss: 4.6353 - mae: 4.6353\n",
            "Epoch 11/100\n",
            "1/1 [==============================] - 0s 26ms/step - loss: 4.0037 - mae: 4.0037\n",
            "Epoch 12/100\n",
            "1/1 [==============================] - 0s 20ms/step - loss: 4.1686 - mae: 4.1686\n",
            "Epoch 13/100\n",
            "1/1 [==============================] - 0s 25ms/step - loss: 4.5344 - mae: 4.5344\n",
            "Epoch 14/100\n",
            "1/1 [==============================] - 0s 20ms/step - loss: 4.9578 - mae: 4.9578\n",
            "Epoch 15/100\n",
            "1/1 [==============================] - 0s 17ms/step - loss: 5.1951 - mae: 5.1951\n",
            "Epoch 16/100\n",
            "1/1 [==============================] - 0s 18ms/step - loss: 5.2719 - mae: 5.2719\n",
            "Epoch 17/100\n",
            "1/1 [==============================] - 0s 21ms/step - loss: 5.2145 - mae: 5.2145\n",
            "Epoch 18/100\n",
            "1/1 [==============================] - 0s 18ms/step - loss: 5.0478 - mae: 5.0478\n",
            "Epoch 19/100\n",
            "1/1 [==============================] - 0s 18ms/step - loss: 4.8370 - mae: 4.8370\n",
            "Epoch 20/100\n",
            "1/1 [==============================] - 0s 18ms/step - loss: 4.5559 - mae: 4.5559\n",
            "Epoch 21/100\n",
            "1/1 [==============================] - 0s 18ms/step - loss: 4.1721 - mae: 4.1721\n",
            "Epoch 22/100\n",
            "1/1 [==============================] - 0s 18ms/step - loss: 4.0044 - mae: 4.0044\n",
            "Epoch 23/100\n",
            "1/1 [==============================] - 0s 31ms/step - loss: 3.8683 - mae: 3.8683\n",
            "Epoch 24/100\n",
            "1/1 [==============================] - 0s 17ms/step - loss: 3.7358 - mae: 3.7358\n",
            "Epoch 25/100\n",
            "1/1 [==============================] - 0s 22ms/step - loss: 3.8771 - mae: 3.8771\n",
            "Epoch 26/100\n",
            "1/1 [==============================] - 0s 18ms/step - loss: 3.9876 - mae: 3.9876\n",
            "Epoch 27/100\n",
            "1/1 [==============================] - 0s 18ms/step - loss: 4.2554 - mae: 4.2554\n",
            "Epoch 28/100\n",
            "1/1 [==============================] - 0s 17ms/step - loss: 4.3410 - mae: 4.3410\n",
            "Epoch 29/100\n",
            "1/1 [==============================] - 0s 14ms/step - loss: 4.2694 - mae: 4.2694\n",
            "Epoch 30/100\n",
            "1/1 [==============================] - 0s 14ms/step - loss: 4.0600 - mae: 4.0600\n",
            "Epoch 31/100\n",
            "1/1 [==============================] - 0s 19ms/step - loss: 3.8854 - mae: 3.8854\n",
            "Epoch 32/100\n",
            "1/1 [==============================] - 0s 20ms/step - loss: 3.7670 - mae: 3.7670\n",
            "Epoch 33/100\n",
            "1/1 [==============================] - 0s 22ms/step - loss: 3.6649 - mae: 3.6649\n",
            "Epoch 34/100\n",
            "1/1 [==============================] - 0s 14ms/step - loss: 3.7224 - mae: 3.7224\n",
            "Epoch 35/100\n",
            "1/1 [==============================] - 0s 22ms/step - loss: 3.7634 - mae: 3.7634\n",
            "Epoch 36/100\n",
            "1/1 [==============================] - 0s 16ms/step - loss: 3.7886 - mae: 3.7886\n",
            "Epoch 37/100\n",
            "1/1 [==============================] - 0s 16ms/step - loss: 3.7992 - mae: 3.7992\n",
            "Epoch 38/100\n",
            "1/1 [==============================] - 0s 17ms/step - loss: 3.7963 - mae: 3.7963\n",
            "Epoch 39/100\n",
            "1/1 [==============================] - 0s 22ms/step - loss: 3.7811 - mae: 3.7811\n",
            "Epoch 40/100\n",
            "1/1 [==============================] - 0s 19ms/step - loss: 3.7548 - mae: 3.7548\n",
            "Epoch 41/100\n",
            "1/1 [==============================] - 0s 21ms/step - loss: 3.7322 - mae: 3.7322\n",
            "Epoch 42/100\n",
            "1/1 [==============================] - 0s 21ms/step - loss: 3.6854 - mae: 3.6854\n",
            "Epoch 43/100\n",
            "1/1 [==============================] - 0s 20ms/step - loss: 3.6436 - mae: 3.6436\n",
            "Epoch 44/100\n",
            "1/1 [==============================] - 0s 20ms/step - loss: 3.5984 - mae: 3.5984\n",
            "Epoch 45/100\n",
            "1/1 [==============================] - 0s 20ms/step - loss: 3.5484 - mae: 3.5484\n",
            "Epoch 46/100\n",
            "1/1 [==============================] - 0s 13ms/step - loss: 3.4969 - mae: 3.4969\n",
            "Epoch 47/100\n",
            "1/1 [==============================] - 0s 13ms/step - loss: 3.4712 - mae: 3.4712\n",
            "Epoch 48/100\n",
            "1/1 [==============================] - 0s 13ms/step - loss: 3.5010 - mae: 3.5010\n",
            "Epoch 49/100\n",
            "1/1 [==============================] - 0s 12ms/step - loss: 3.5063 - mae: 3.5063\n",
            "Epoch 50/100\n",
            "1/1 [==============================] - 0s 14ms/step - loss: 3.4893 - mae: 3.4893\n",
            "Epoch 51/100\n",
            "1/1 [==============================] - 0s 16ms/step - loss: 3.4515 - mae: 3.4515\n",
            "Epoch 52/100\n",
            "1/1 [==============================] - 0s 11ms/step - loss: 3.3947 - mae: 3.3947\n",
            "Epoch 53/100\n",
            "1/1 [==============================] - 0s 14ms/step - loss: 3.3803 - mae: 3.3803\n",
            "Epoch 54/100\n",
            "1/1 [==============================] - 0s 12ms/step - loss: 3.3845 - mae: 3.3845\n",
            "Epoch 55/100\n",
            "1/1 [==============================] - 0s 13ms/step - loss: 3.3761 - mae: 3.3761\n",
            "Epoch 56/100\n",
            "1/1 [==============================] - 0s 12ms/step - loss: 3.3589 - mae: 3.3589\n",
            "Epoch 57/100\n",
            "1/1 [==============================] - 0s 13ms/step - loss: 3.3373 - mae: 3.3373\n",
            "Epoch 58/100\n",
            "1/1 [==============================] - 0s 14ms/step - loss: 3.3082 - mae: 3.3082\n",
            "Epoch 59/100\n",
            "1/1 [==============================] - 0s 12ms/step - loss: 3.2694 - mae: 3.2694\n",
            "Epoch 60/100\n",
            "1/1 [==============================] - 0s 13ms/step - loss: 3.2269 - mae: 3.2269\n",
            "Epoch 61/100\n",
            "1/1 [==============================] - 0s 17ms/step - loss: 3.2213 - mae: 3.2213\n",
            "Epoch 62/100\n",
            "1/1 [==============================] - 0s 13ms/step - loss: 3.1902 - mae: 3.1902\n",
            "Epoch 63/100\n",
            "1/1 [==============================] - 0s 21ms/step - loss: 3.1840 - mae: 3.1840\n",
            "Epoch 64/100\n",
            "1/1 [==============================] - 0s 15ms/step - loss: 3.1642 - mae: 3.1642\n",
            "Epoch 65/100\n",
            "1/1 [==============================] - 0s 21ms/step - loss: 3.1476 - mae: 3.1476\n",
            "Epoch 66/100\n",
            "1/1 [==============================] - 0s 17ms/step - loss: 3.1201 - mae: 3.1201\n",
            "Epoch 67/100\n",
            "1/1 [==============================] - 0s 15ms/step - loss: 3.0866 - mae: 3.0866\n",
            "Epoch 68/100\n",
            "1/1 [==============================] - 0s 17ms/step - loss: 3.0634 - mae: 3.0634\n",
            "Epoch 69/100\n",
            "1/1 [==============================] - 0s 16ms/step - loss: 3.0510 - mae: 3.0510\n",
            "Epoch 70/100\n",
            "1/1 [==============================] - 0s 16ms/step - loss: 3.0299 - mae: 3.0299\n",
            "Epoch 71/100\n",
            "1/1 [==============================] - 0s 17ms/step - loss: 2.9977 - mae: 2.9977\n",
            "Epoch 72/100\n",
            "1/1 [==============================] - 0s 16ms/step - loss: 2.9553 - mae: 2.9553\n",
            "Epoch 73/100\n",
            "1/1 [==============================] - 0s 17ms/step - loss: 2.9817 - mae: 2.9817\n",
            "Epoch 74/100\n",
            "1/1 [==============================] - 0s 14ms/step - loss: 2.9353 - mae: 2.9353\n",
            "Epoch 75/100\n",
            "1/1 [==============================] - 0s 13ms/step - loss: 2.8854 - mae: 2.8854\n",
            "Epoch 76/100\n",
            "1/1 [==============================] - 0s 14ms/step - loss: 2.8726 - mae: 2.8726\n",
            "Epoch 77/100\n",
            "1/1 [==============================] - 0s 11ms/step - loss: 2.8611 - mae: 2.8611\n",
            "Epoch 78/100\n",
            "1/1 [==============================] - 0s 13ms/step - loss: 2.8364 - mae: 2.8364\n",
            "Epoch 79/100\n",
            "1/1 [==============================] - 0s 57ms/step - loss: 2.7995 - mae: 2.7995\n",
            "Epoch 80/100\n",
            "1/1 [==============================] - 0s 22ms/step - loss: 2.7513 - mae: 2.7513\n",
            "Epoch 81/100\n",
            "1/1 [==============================] - 0s 25ms/step - loss: 2.6928 - mae: 2.6928\n",
            "Epoch 82/100\n",
            "1/1 [==============================] - 0s 34ms/step - loss: 2.7094 - mae: 2.7094\n",
            "Epoch 83/100\n",
            "1/1 [==============================] - 0s 31ms/step - loss: 2.6566 - mae: 2.6566\n",
            "Epoch 84/100\n",
            "1/1 [==============================] - 0s 20ms/step - loss: 2.6032 - mae: 2.6032\n",
            "Epoch 85/100\n",
            "1/1 [==============================] - 0s 18ms/step - loss: 2.5564 - mae: 2.5564\n",
            "Epoch 86/100\n",
            "1/1 [==============================] - 0s 14ms/step - loss: 2.5329 - mae: 2.5329\n",
            "Epoch 87/100\n",
            "1/1 [==============================] - 0s 12ms/step - loss: 2.4951 - mae: 2.4951\n",
            "Epoch 88/100\n",
            "1/1 [==============================] - 0s 13ms/step - loss: 2.4441 - mae: 2.4441\n",
            "Epoch 89/100\n",
            "1/1 [==============================] - 0s 15ms/step - loss: 2.3806 - mae: 2.3806\n",
            "Epoch 90/100\n",
            "1/1 [==============================] - 0s 13ms/step - loss: 2.3355 - mae: 2.3355\n",
            "Epoch 91/100\n",
            "1/1 [==============================] - 0s 14ms/step - loss: 2.2827 - mae: 2.2827\n",
            "Epoch 92/100\n",
            "1/1 [==============================] - 0s 12ms/step - loss: 2.2572 - mae: 2.2572\n",
            "Epoch 93/100\n",
            "1/1 [==============================] - 0s 12ms/step - loss: 2.1692 - mae: 2.1692\n",
            "Epoch 94/100\n",
            "1/1 [==============================] - 0s 14ms/step - loss: 2.1128 - mae: 2.1128\n",
            "Epoch 95/100\n",
            "1/1 [==============================] - 0s 14ms/step - loss: 2.0568 - mae: 2.0568\n",
            "Epoch 96/100\n",
            "1/1 [==============================] - 0s 32ms/step - loss: 1.9896 - mae: 1.9896\n",
            "Epoch 97/100\n",
            "1/1 [==============================] - 0s 21ms/step - loss: 1.9195 - mae: 1.9195\n",
            "Epoch 98/100\n",
            "1/1 [==============================] - 0s 20ms/step - loss: 1.8622 - mae: 1.8622\n",
            "Epoch 99/100\n",
            "1/1 [==============================] - 0s 20ms/step - loss: 1.7683 - mae: 1.7683\n",
            "Epoch 100/100\n",
            "1/1 [==============================] - 0s 19ms/step - loss: 1.6872 - mae: 1.6872\n"
          ]
        },
        {
          "output_type": "execute_result",
          "data": {
            "text/plain": [
              "<keras.src.callbacks.History at 0x7ce7a4769570>"
            ]
          },
          "metadata": {},
          "execution_count": 20
        }
      ]
    },
    {
      "cell_type": "code",
      "source": [
        "y_pred = model.predict([17.])\n",
        "y_pred"
      ],
      "metadata": {
        "colab": {
          "base_uri": "https://localhost:8080/"
        },
        "id": "8GMSgwfxJjam",
        "outputId": "a1f19d67-226a-43d0-cd50-d4ab53ede814"
      },
      "execution_count": 21,
      "outputs": [
        {
          "output_type": "stream",
          "name": "stderr",
          "text": [
            "WARNING:tensorflow:5 out of the last 6 calls to <function Model.make_predict_function.<locals>.predict_function at 0x7ce7a479d5a0> triggered tf.function retracing. Tracing is expensive and the excessive number of tracings could be due to (1) creating @tf.function repeatedly in a loop, (2) passing tensors with different shapes, (3) passing Python objects instead of tensors. For (1), please define your @tf.function outside of the loop. For (2), @tf.function has reduce_retracing=True option that can avoid unnecessary retracing. For (3), please refer to https://www.tensorflow.org/guide/function#controlling_retracing and https://www.tensorflow.org/api_docs/python/tf/function for  more details.\n"
          ]
        },
        {
          "output_type": "stream",
          "name": "stdout",
          "text": [
            "1/1 [==============================] - 0s 80ms/step\n"
          ]
        },
        {
          "output_type": "execute_result",
          "data": {
            "text/plain": [
              "array([[29.347176]], dtype=float32)"
            ]
          },
          "metadata": {},
          "execution_count": 21
        }
      ]
    },
    {
      "cell_type": "markdown",
      "source": [
        "**It is worse than before model. Because our model is overfitted**\n",
        "\n",
        "Common ways to improve a deep model:\n",
        "1.   Adding layers\n",
        "2.   Increase the number of hidden units\n",
        "3.   Change the activation function\n",
        "4.   Change the optimization function\n",
        "5.   Change the learning rate\n",
        "6.   Fitting on more data\n",
        "7. Fitting for longer\n",
        "\n",
        "\n"
      ],
      "metadata": {
        "id": "BLCXtC-JKPXp"
      }
    },
    {
      "cell_type": "code",
      "source": [],
      "metadata": {
        "id": "d2eT_CPAYDrv"
      },
      "execution_count": 12,
      "outputs": []
    }
  ]
}