{
  "nbformat": 4,
  "nbformat_minor": 0,
  "metadata": {
    "colab": {
      "provenance": [],
      "gpuType": "T4"
    },
    "kernelspec": {
      "name": "python3",
      "display_name": "Python 3"
    },
    "language_info": {
      "name": "python"
    },
    "accelerator": "GPU"
  },
  "cells": [
    {
      "cell_type": "markdown",
      "source": [
        "# Introduction to Regression with Neural Networks in TensorFlow\n",
        "- There are many definitions for a regression problem but in our case, we're going to simplify it: predicting a numerical variable based on some other combination of variables."
      ],
      "metadata": {
        "id": "c2dIRamFITSW"
      }
    },
    {
      "cell_type": "markdown",
      "source": [
        "## Import TensorFlow\n"
      ],
      "metadata": {
        "id": "d_2n5SSwJCDY"
      }
    },
    {
      "cell_type": "code",
      "execution_count": 2,
      "metadata": {
        "colab": {
          "base_uri": "https://localhost:8080/",
          "height": 35
        },
        "id": "vl8-GxuwICqo",
        "outputId": "00577151-1ab0-419b-9094-7c74b6d6e3a0"
      },
      "outputs": [
        {
          "output_type": "execute_result",
          "data": {
            "text/plain": [
              "'2.14.0'"
            ],
            "application/vnd.google.colaboratory.intrinsic+json": {
              "type": "string"
            }
          },
          "metadata": {},
          "execution_count": 2
        }
      ],
      "source": [
        "import tensorflow as tf\n",
        "tf.__version__"
      ]
    },
    {
      "cell_type": "markdown",
      "source": [
        "## Creating a data to fit"
      ],
      "metadata": {
        "id": "xhCssMgiJBER"
      }
    },
    {
      "cell_type": "code",
      "source": [
        "import numpy as np\n",
        "import matplotlib.pyplot as plt\n",
        "\n",
        "X = np.array([-7., -4., -1., 2., 5., 8., 11., 14.])\n",
        "y = np.array([3., 6., 9., 12., 15., 18., 21., 24. ])\n",
        "\n",
        "# Visualize\n",
        "plt.scatter(X, y)\n",
        "plt.plot(X, y, color=\"red\")\n",
        "plt.xlabel(\"X\")\n",
        "plt.ylabel(\"y\")\n",
        "plt.show()"
      ],
      "metadata": {
        "colab": {
          "base_uri": "https://localhost:8080/",
          "height": 454
        },
        "id": "F73pE9-LIMvK",
        "outputId": "8ccfc546-0319-4345-942b-0776f4676aaf"
      },
      "execution_count": 3,
      "outputs": [
        {
          "output_type": "display_data",
          "data": {
            "text/plain": [
              "<Figure size 640x480 with 1 Axes>"
            ],
            "image/png": "[encoded data removed]"
          },
          "metadata": {}
        }
      ]
    },
    {
      "cell_type": "markdown",
      "source": [
        "- From graph, it can be seen that, y = X + 10.\n",
        "\n",
        "X -> input features, independent variable\n",
        "y -> output feature, dependent variable"
      ],
      "metadata": {
        "id": "D8JTRPZlJzYs"
      }
    },
    {
      "cell_type": "markdown",
      "source": [
        "## Input and output shapes\n"
      ],
      "metadata": {
        "id": "0cWSNJbqKcBf"
      }
    },
    {
      "cell_type": "code",
      "source": [
        "# Create a demo tensor for our housing price prediction problem\n",
        "\n",
        "house_info = tf.constant([\"bedroom\", \"bathroom\", \"garage\"])\n",
        "house_price = tf.constant([939700])\n",
        "\n",
        "house_info, house_price"
      ],
      "metadata": {
        "colab": {
          "base_uri": "https://localhost:8080/"
        },
        "id": "G-hntZ_8JeaH",
        "outputId": "b0c63b92-e62f-4553-b417-3f8a71e998e0"
      },
      "execution_count": 4,
      "outputs": [
        {
          "output_type": "execute_result",
          "data": {
            "text/plain": [
              "(<tf.Tensor: shape=(3,), dtype=string, numpy=array([b'bedroom', b'bathroom', b'garage'], dtype=object)>,\n",
              " <tf.Tensor: shape=(1,), dtype=int32, numpy=array([939700], dtype=int32)>)"
            ]
          },
          "metadata": {},
          "execution_count": 4
        }
      ]
    },
    {
      "cell_type": "code",
      "source": [
        "input_shape = X.shape\n",
        "output_shape = y.shape\n",
        "input_shape, output_shape"
      ],
      "metadata": {
        "colab": {
          "base_uri": "https://localhost:8080/"
        },
        "id": "l4B3sVtrKKL-",
        "outputId": "ecad1f47-a421-46a6-efcf-d6d4df8014d2"
      },
      "execution_count": 5,
      "outputs": [
        {
          "output_type": "execute_result",
          "data": {
            "text/plain": [
              "((8,), (8,))"
            ]
          },
          "metadata": {},
          "execution_count": 5
        }
      ]
    },
    {
      "cell_type": "markdown",
      "source": [
        "## Turn our Numpy array into tensors"
      ],
      "metadata": {
        "id": "zeTZRnVVHij_"
      }
    },
    {
      "cell_type": "code",
      "source": [
        "X = tf.cast(tf.constant(X), dtype=tf.float32)\n",
        "y = tf.cast(tf.constant(y), dtype=tf.float32)\n",
        "X, y"
      ],
      "metadata": {
        "colab": {
          "base_uri": "https://localhost:8080/"
        },
        "id": "1HOrk95hK6Ci",
        "outputId": "6cb8ae8e-a633-4b98-8d60-741f89a15af2"
      },
      "execution_count": 6,
      "outputs": [
        {
          "output_type": "execute_result",
          "data": {
            "text/plain": [
              "(<tf.Tensor: shape=(8,), dtype=float32, numpy=array([-7., -4., -1.,  2.,  5.,  8., 11., 14.], dtype=float32)>,\n",
              " <tf.Tensor: shape=(8,), dtype=float32, numpy=array([ 3.,  6.,  9., 12., 15., 18., 21., 24.], dtype=float32)>)"
            ]
          },
          "metadata": {},
          "execution_count": 6
        }
      ]
    },
    {
      "cell_type": "markdown",
      "source": [
        "## Steps in modelling with TensorFlow\n",
        "\n",
        "\n",
        "1.   Creating a model - define the input and output layers, as well as the hidden layers of a deep learning\n",
        "2.   Compiling a model - define  the loss function ( in other words, the function that tells our model how wrong it is) and the optimizer ( tells our model how to improve the patterns its learning) and evalution metrics ( what we can use to interpret the performance of our model)\n",
        "3. Fittin a model - letting the model try to find patterns betwene X & y (features and labels).\n",
        "\n"
      ],
      "metadata": {
        "id": "MIvvMAcfIMdL"
      }
    },
    {
      "cell_type": "code",
      "source": [
        "# Set random seed\n",
        "\n",
        "tf.random.set_seed(42)\n",
        "\n",
        "# 1. Create a model using the Sequential API\n",
        "\n",
        "# Sequential groups a linear stack of layers into a tf.keras.Model.\n",
        "# Sequential provides training and inference features on this model\n",
        "model = tf.keras.Sequential([\n",
        "    tf.keras.layers.Dense(1) # we have 1 input and want 1 output. that's why it's 1\n",
        "])\n",
        "\n",
        "# 2. Compile the model\n",
        "model.compile(\n",
        "    loss=tf.keras.losses.mae, # mae => mean absolute error\n",
        "    optimizer=tf.keras.optimizers.SGD(), # SGD => stochastic gradient descent\n",
        "    metrics=[\"mae\"]\n",
        "              )\n",
        "\n",
        "# 3. Fit the model\n",
        "model.fit(tf.expand_dims(X, axis=-1), y, epochs=5)\n"
      ],
      "metadata": {
        "colab": {
          "base_uri": "https://localhost:8080/"
        },
        "id": "2kdDyNSdH466",
        "outputId": "bfc75025-f32e-4037-c0fd-7554148245af"
      },
      "execution_count": 7,
      "outputs": [
        {
          "output_type": "stream",
          "name": "stdout",
          "text": [
            "Epoch 1/5\n",
            "1/1 [==============================] - 6s 6s/step - loss: 13.9684 - mae: 13.9684\n",
            "Epoch 2/5\n",
            "1/1 [==============================] - 0s 13ms/step - loss: 13.8359 - mae: 13.8359\n",
            "Epoch 3/5\n",
            "1/1 [==============================] - 0s 12ms/step - loss: 13.7034 - mae: 13.7034\n",
            "Epoch 4/5\n",
            "1/1 [==============================] - 0s 12ms/step - loss: 13.5709 - mae: 13.5709\n",
            "Epoch 5/5\n",
            "1/1 [==============================] - 0s 11ms/step - loss: 13.4384 - mae: 13.4384\n"
          ]
        },
        {
          "output_type": "execute_result",
          "data": {
            "text/plain": [
              "<keras.src.callbacks.History at 0x787b900c9540>"
            ]
          },
          "metadata": {},
          "execution_count": 7
        }
      ]
    },
    {
      "cell_type": "code",
      "source": [
        "# Check out X, y\n",
        "\n",
        "X, y"
      ],
      "metadata": {
        "colab": {
          "base_uri": "https://localhost:8080/"
        },
        "id": "btxirzTlIG_R",
        "outputId": "187d5413-5121-4340-a334-28878d3855ac"
      },
      "execution_count": 8,
      "outputs": [
        {
          "output_type": "execute_result",
          "data": {
            "text/plain": [
              "(<tf.Tensor: shape=(8,), dtype=float32, numpy=array([-7., -4., -1.,  2.,  5.,  8., 11., 14.], dtype=float32)>,\n",
              " <tf.Tensor: shape=(8,), dtype=float32, numpy=array([ 3.,  6.,  9., 12., 15., 18., 21., 24.], dtype=float32)>)"
            ]
          },
          "metadata": {},
          "execution_count": 8
        }
      ]
    },
    {
      "cell_type": "markdown",
      "source": [
        "## Try and make a prediction using our model"
      ],
      "metadata": {
        "id": "fdhHlKl1NZ0t"
      }
    },
    {
      "cell_type": "code",
      "source": [
        "y_pred = model.predict([17.])\n",
        "y_pred"
      ],
      "metadata": {
        "colab": {
          "base_uri": "https://localhost:8080/"
        },
        "id": "MxvRG0HXNX9R",
        "outputId": "04f87127-7f53-4e7c-8166-3ca6a4a8f17e"
      },
      "execution_count": 9,
      "outputs": [
        {
          "output_type": "stream",
          "name": "stdout",
          "text": [
            "1/1 [==============================] - 0s 126ms/step\n"
          ]
        },
        {
          "output_type": "execute_result",
          "data": {
            "text/plain": [
              "array([[0.7497671]], dtype=float32)"
            ]
          },
          "metadata": {},
          "execution_count": 9
        }
      ]
    },
    {
      "cell_type": "markdown",
      "source": [
        "- Performance of our model is worse than shit. We have to improve it."
      ],
      "metadata": {
        "id": "fkIyMBaNN0ew"
      }
    },
    {
      "cell_type": "markdown",
      "source": [
        "## Improve our model\n",
        "\n",
        "we can improve our model, by altering the steps we took to create a model\n",
        "\n",
        "1.   **Creating a model** - here we might add more layers, increase the number of hidden units (all called neurons) within each of the hidden layers, change the activation function of each layer.\n",
        "2.   **Compiling a model** - here we might change the optimization function or perhaps the **learning rate** of the optimization function.\n",
        "3. **Fitting a model** - here we might fit a model for more **epochs** (leave it traning for longer) or on more data (give the model more examples to learn from)"
      ],
      "metadata": {
        "id": "CRk4tslVE4zD"
      }
    },
    {
      "cell_type": "code",
      "source": [
        "# Let's rebuild our model\n",
        "\n",
        "# 1. Create the model\n",
        "\n",
        "model = tf.keras.Sequential([\n",
        "    tf.keras.layers.Dense(1)\n",
        "])\n",
        "\n",
        "# 2. Compile the model\n",
        "\n",
        "model.compile(\n",
        "    loss=tf.keras.losses.mae,\n",
        "    optimizer=tf.keras.optimizers.SGD(),\n",
        "    metrics=[\"mae\"])\n",
        "\n",
        "# 3. Fit the model (this time we'll train for longer)\n",
        "\n",
        "model.fit(tf.expand_dims(X, axis=-1), y, epochs=100)"
      ],
      "metadata": {
        "colab": {
          "base_uri": "https://localhost:8080/"
        },
        "id": "nylMtQ7rNgRi",
        "outputId": "5c58b6e9-78e3-43a3-b7f8-356cbefc11d9"
      },
      "execution_count": 10,
      "outputs": [
        {
          "output_type": "stream",
          "name": "stdout",
          "text": [
            "Epoch 1/100\n",
            "1/1 [==============================] - 1s 735ms/step - loss: 13.1770 - mae: 13.1770\n",
            "Epoch 2/100\n",
            "1/1 [==============================] - 0s 12ms/step - loss: 13.0445 - mae: 13.0445\n",
            "Epoch 3/100\n",
            "1/1 [==============================] - 0s 17ms/step - loss: 12.9120 - mae: 12.9120\n",
            "Epoch 4/100\n",
            "1/1 [==============================] - 0s 11ms/step - loss: 12.7795 - mae: 12.7795\n",
            "Epoch 5/100\n",
            "1/1 [==============================] - 0s 21ms/step - loss: 12.6470 - mae: 12.6470\n",
            "Epoch 6/100\n",
            "1/1 [==============================] - 0s 13ms/step - loss: 12.5145 - mae: 12.5145\n",
            "Epoch 7/100\n",
            "1/1 [==============================] - 0s 13ms/step - loss: 12.3820 - mae: 12.3820\n",
            "Epoch 8/100\n",
            "1/1 [==============================] - 0s 17ms/step - loss: 12.2495 - mae: 12.2495\n",
            "Epoch 9/100\n",
            "1/1 [==============================] - 0s 13ms/step - loss: 12.1170 - mae: 12.1170\n",
            "Epoch 10/100\n",
            "1/1 [==============================] - 0s 20ms/step - loss: 11.9845 - mae: 11.9845\n",
            "Epoch 11/100\n",
            "1/1 [==============================] - 0s 16ms/step - loss: 11.8520 - mae: 11.8520\n",
            "Epoch 12/100\n",
            "1/1 [==============================] - 0s 17ms/step - loss: 11.7195 - mae: 11.7195\n",
            "Epoch 13/100\n",
            "1/1 [==============================] - 0s 14ms/step - loss: 11.5870 - mae: 11.5870\n",
            "Epoch 14/100\n",
            "1/1 [==============================] - 0s 21ms/step - loss: 11.4545 - mae: 11.4545\n",
            "Epoch 15/100\n",
            "1/1 [==============================] - 0s 13ms/step - loss: 11.3220 - mae: 11.3220\n",
            "Epoch 16/100\n",
            "1/1 [==============================] - 0s 12ms/step - loss: 11.1895 - mae: 11.1895\n",
            "Epoch 17/100\n",
            "1/1 [==============================] - 0s 17ms/step - loss: 11.0570 - mae: 11.0570\n",
            "Epoch 18/100\n",
            "1/1 [==============================] - 0s 12ms/step - loss: 10.9245 - mae: 10.9245\n",
            "Epoch 19/100\n",
            "1/1 [==============================] - 0s 16ms/step - loss: 10.7920 - mae: 10.7920\n",
            "Epoch 20/100\n",
            "1/1 [==============================] - 0s 12ms/step - loss: 10.6595 - mae: 10.6595\n",
            "Epoch 21/100\n",
            "1/1 [==============================] - 0s 12ms/step - loss: 10.5270 - mae: 10.5270\n",
            "Epoch 22/100\n",
            "1/1 [==============================] - 0s 13ms/step - loss: 10.3945 - mae: 10.3945\n",
            "Epoch 23/100\n",
            "1/1 [==============================] - 0s 14ms/step - loss: 10.2620 - mae: 10.2620\n",
            "Epoch 24/100\n",
            "1/1 [==============================] - 0s 18ms/step - loss: 10.1295 - mae: 10.1295\n",
            "Epoch 25/100\n",
            "1/1 [==============================] - 0s 14ms/step - loss: 9.9970 - mae: 9.9970\n",
            "Epoch 26/100\n",
            "1/1 [==============================] - 0s 21ms/step - loss: 9.8645 - mae: 9.8645\n",
            "Epoch 27/100\n",
            "1/1 [==============================] - 0s 14ms/step - loss: 9.7320 - mae: 9.7320\n",
            "Epoch 28/100\n",
            "1/1 [==============================] - 0s 37ms/step - loss: 9.5995 - mae: 9.5995\n",
            "Epoch 29/100\n",
            "1/1 [==============================] - 0s 13ms/step - loss: 9.4670 - mae: 9.4670\n",
            "Epoch 30/100\n",
            "1/1 [==============================] - 0s 13ms/step - loss: 9.3345 - mae: 9.3345\n",
            "Epoch 31/100\n",
            "1/1 [==============================] - 0s 10ms/step - loss: 9.2020 - mae: 9.2020\n",
            "Epoch 32/100\n",
            "1/1 [==============================] - 0s 10ms/step - loss: 9.0695 - mae: 9.0695\n",
            "Epoch 33/100\n",
            "1/1 [==============================] - 0s 12ms/step - loss: 8.9370 - mae: 8.9370\n",
            "Epoch 34/100\n",
            "1/1 [==============================] - 0s 12ms/step - loss: 8.8045 - mae: 8.8045\n",
            "Epoch 35/100\n",
            "1/1 [==============================] - 0s 12ms/step - loss: 8.6720 - mae: 8.6720\n",
            "Epoch 36/100\n",
            "1/1 [==============================] - 0s 12ms/step - loss: 8.5395 - mae: 8.5395\n",
            "Epoch 37/100\n",
            "1/1 [==============================] - 0s 12ms/step - loss: 8.4070 - mae: 8.4070\n",
            "Epoch 38/100\n",
            "1/1 [==============================] - 0s 15ms/step - loss: 8.2745 - mae: 8.2745\n",
            "Epoch 39/100\n",
            "1/1 [==============================] - 0s 11ms/step - loss: 8.1420 - mae: 8.1420\n",
            "Epoch 40/100\n",
            "1/1 [==============================] - 0s 12ms/step - loss: 8.0095 - mae: 8.0095\n",
            "Epoch 41/100\n",
            "1/1 [==============================] - 0s 13ms/step - loss: 7.8770 - mae: 7.8770\n",
            "Epoch 42/100\n",
            "1/1 [==============================] - 0s 15ms/step - loss: 7.7445 - mae: 7.7445\n",
            "Epoch 43/100\n",
            "1/1 [==============================] - 0s 12ms/step - loss: 7.6120 - mae: 7.6120\n",
            "Epoch 44/100\n",
            "1/1 [==============================] - 0s 12ms/step - loss: 7.4795 - mae: 7.4795\n",
            "Epoch 45/100\n",
            "1/1 [==============================] - 0s 10ms/step - loss: 7.3470 - mae: 7.3470\n",
            "Epoch 46/100\n",
            "1/1 [==============================] - 0s 9ms/step - loss: 7.2145 - mae: 7.2145\n",
            "Epoch 47/100\n",
            "1/1 [==============================] - 0s 11ms/step - loss: 7.1550 - mae: 7.1550\n",
            "Epoch 48/100\n",
            "1/1 [==============================] - 0s 26ms/step - loss: 7.1494 - mae: 7.1494\n",
            "Epoch 49/100\n",
            "1/1 [==============================] - 0s 15ms/step - loss: 7.1438 - mae: 7.1438\n",
            "Epoch 50/100\n",
            "1/1 [==============================] - 0s 18ms/step - loss: 7.1381 - mae: 7.1381\n",
            "Epoch 51/100\n",
            "1/1 [==============================] - 0s 11ms/step - loss: 7.1325 - mae: 7.1325\n",
            "Epoch 52/100\n",
            "1/1 [==============================] - 0s 13ms/step - loss: 7.1269 - mae: 7.1269\n",
            "Epoch 53/100\n",
            "1/1 [==============================] - 0s 10ms/step - loss: 7.1213 - mae: 7.1213\n",
            "Epoch 54/100\n",
            "1/1 [==============================] - 0s 10ms/step - loss: 7.1156 - mae: 7.1156\n",
            "Epoch 55/100\n",
            "1/1 [==============================] - 0s 10ms/step - loss: 7.1100 - mae: 7.1100\n",
            "Epoch 56/100\n",
            "1/1 [==============================] - 0s 12ms/step - loss: 7.1044 - mae: 7.1044\n",
            "Epoch 57/100\n",
            "1/1 [==============================] - 0s 9ms/step - loss: 7.0988 - mae: 7.0988\n",
            "Epoch 58/100\n",
            "1/1 [==============================] - 0s 10ms/step - loss: 7.0931 - mae: 7.0931\n",
            "Epoch 59/100\n",
            "1/1 [==============================] - 0s 10ms/step - loss: 7.0875 - mae: 7.0875\n",
            "Epoch 60/100\n",
            "1/1 [==============================] - 0s 22ms/step - loss: 7.0819 - mae: 7.0819\n",
            "Epoch 61/100\n",
            "1/1 [==============================] - 0s 23ms/step - loss: 7.0763 - mae: 7.0763\n",
            "Epoch 62/100\n",
            "1/1 [==============================] - 0s 17ms/step - loss: 7.0706 - mae: 7.0706\n",
            "Epoch 63/100\n",
            "1/1 [==============================] - 0s 29ms/step - loss: 7.0650 - mae: 7.0650\n",
            "Epoch 64/100\n",
            "1/1 [==============================] - 0s 16ms/step - loss: 7.0594 - mae: 7.0594\n",
            "Epoch 65/100\n",
            "1/1 [==============================] - 0s 17ms/step - loss: 7.0538 - mae: 7.0538\n",
            "Epoch 66/100\n",
            "1/1 [==============================] - 0s 14ms/step - loss: 7.0481 - mae: 7.0481\n",
            "Epoch 67/100\n",
            "1/1 [==============================] - 0s 8ms/step - loss: 7.0425 - mae: 7.0425\n",
            "Epoch 68/100\n",
            "1/1 [==============================] - 0s 28ms/step - loss: 7.0369 - mae: 7.0369\n",
            "Epoch 69/100\n",
            "1/1 [==============================] - 0s 20ms/step - loss: 7.0312 - mae: 7.0312\n",
            "Epoch 70/100\n",
            "1/1 [==============================] - 0s 13ms/step - loss: 7.0256 - mae: 7.0256\n",
            "Epoch 71/100\n",
            "1/1 [==============================] - 0s 14ms/step - loss: 7.0200 - mae: 7.0200\n",
            "Epoch 72/100\n",
            "1/1 [==============================] - 0s 22ms/step - loss: 7.0144 - mae: 7.0144\n",
            "Epoch 73/100\n",
            "1/1 [==============================] - 0s 15ms/step - loss: 7.0087 - mae: 7.0087\n",
            "Epoch 74/100\n",
            "1/1 [==============================] - 0s 10ms/step - loss: 7.0031 - mae: 7.0031\n",
            "Epoch 75/100\n",
            "1/1 [==============================] - 0s 9ms/step - loss: 6.9975 - mae: 6.9975\n",
            "Epoch 76/100\n",
            "1/1 [==============================] - 0s 10ms/step - loss: 6.9919 - mae: 6.9919\n",
            "Epoch 77/100\n",
            "1/1 [==============================] - 0s 10ms/step - loss: 6.9862 - mae: 6.9862\n",
            "Epoch 78/100\n",
            "1/1 [==============================] - 0s 11ms/step - loss: 6.9806 - mae: 6.9806\n",
            "Epoch 79/100\n",
            "1/1 [==============================] - 0s 12ms/step - loss: 6.9750 - mae: 6.9750\n",
            "Epoch 80/100\n",
            "1/1 [==============================] - 0s 10ms/step - loss: 6.9694 - mae: 6.9694\n",
            "Epoch 81/100\n",
            "1/1 [==============================] - 0s 12ms/step - loss: 6.9638 - mae: 6.9638\n",
            "Epoch 82/100\n",
            "1/1 [==============================] - 0s 9ms/step - loss: 6.9581 - mae: 6.9581\n",
            "Epoch 83/100\n",
            "1/1 [==============================] - 0s 11ms/step - loss: 6.9525 - mae: 6.9525\n",
            "Epoch 84/100\n",
            "1/1 [==============================] - 0s 23ms/step - loss: 6.9469 - mae: 6.9469\n",
            "Epoch 85/100\n",
            "1/1 [==============================] - 0s 15ms/step - loss: 6.9413 - mae: 6.9413\n",
            "Epoch 86/100\n",
            "1/1 [==============================] - 0s 10ms/step - loss: 6.9356 - mae: 6.9356\n",
            "Epoch 87/100\n",
            "1/1 [==============================] - 0s 14ms/step - loss: 6.9300 - mae: 6.9300\n",
            "Epoch 88/100\n",
            "1/1 [==============================] - 0s 13ms/step - loss: 6.9244 - mae: 6.9244\n",
            "Epoch 89/100\n",
            "1/1 [==============================] - 0s 28ms/step - loss: 6.9188 - mae: 6.9188\n",
            "Epoch 90/100\n",
            "1/1 [==============================] - 0s 35ms/step - loss: 6.9131 - mae: 6.9131\n",
            "Epoch 91/100\n",
            "1/1 [==============================] - 0s 21ms/step - loss: 6.9075 - mae: 6.9075\n",
            "Epoch 92/100\n",
            "1/1 [==============================] - 0s 24ms/step - loss: 6.9019 - mae: 6.9019\n",
            "Epoch 93/100\n",
            "1/1 [==============================] - 0s 13ms/step - loss: 6.8963 - mae: 6.8963\n",
            "Epoch 94/100\n",
            "1/1 [==============================] - 0s 10ms/step - loss: 6.8906 - mae: 6.8906\n",
            "Epoch 95/100\n",
            "1/1 [==============================] - 0s 11ms/step - loss: 6.8850 - mae: 6.8850\n",
            "Epoch 96/100\n",
            "1/1 [==============================] - 0s 12ms/step - loss: 6.8794 - mae: 6.8794\n",
            "Epoch 97/100\n",
            "1/1 [==============================] - 0s 11ms/step - loss: 6.8738 - mae: 6.8738\n",
            "Epoch 98/100\n",
            "1/1 [==============================] - 0s 11ms/step - loss: 6.8681 - mae: 6.8681\n",
            "Epoch 99/100\n",
            "1/1 [==============================] - 0s 28ms/step - loss: 6.8625 - mae: 6.8625\n",
            "Epoch 100/100\n",
            "1/1 [==============================] - 0s 38ms/step - loss: 6.8569 - mae: 6.8569\n"
          ]
        },
        {
          "output_type": "execute_result",
          "data": {
            "text/plain": [
              "<keras.src.callbacks.History at 0x787b581b4f70>"
            ]
          },
          "metadata": {},
          "execution_count": 10
        }
      ]
    },
    {
      "cell_type": "markdown",
      "source": [
        "## Try and make a prediction using our new model"
      ],
      "metadata": {
        "id": "15eb95siIOeo"
      }
    },
    {
      "cell_type": "code",
      "source": [
        "y_pred = model.predict([17.])\n",
        "y_pred"
      ],
      "metadata": {
        "colab": {
          "base_uri": "https://localhost:8080/"
        },
        "id": "qmZRIiNXHl0E",
        "outputId": "5c0b6662-2d47-40bf-d9b8-95dfc16e5e40"
      },
      "execution_count": 11,
      "outputs": [
        {
          "output_type": "stream",
          "name": "stdout",
          "text": [
            "1/1 [==============================] - 0s 118ms/step\n"
          ]
        },
        {
          "output_type": "execute_result",
          "data": {
            "text/plain": [
              "array([[29.803982]], dtype=float32)"
            ]
          },
          "metadata": {},
          "execution_count": 11
        }
      ]
    },
    {
      "cell_type": "markdown",
      "source": [
        "- ***It's much better than before. Let's continue to improve our model***"
      ],
      "metadata": {
        "id": "1Mg-oDhIIpjr"
      }
    },
    {
      "cell_type": "code",
      "source": [
        "# 1. Create the model with an extra hidden layer with 100 hidden units\n",
        "model = tf.keras.Sequential([\n",
        "    tf.keras.layers.Dense(100, activation=\"relu\"),\n",
        "    tf.keras.layers.Dense(100, activation=None),\n",
        "    tf.keras.layers.Dense(100, activation=None),\n",
        "    tf.keras.layers.Dense(1)\n",
        "])\n",
        "\n",
        "# 2. Compile the model\n",
        "model.compile(\n",
        "    loss=tf.keras.losses.mae,\n",
        "    optimizer=tf.keras.optimizers.Adam(lr=0.001),\n",
        "    metrics=[\"mae\"]\n",
        "    )\n",
        "\n",
        "# 3. Fit the model\n",
        "\n",
        "model.fit(tf.expand_dims(X, axis=-1), y, epochs=100)"
      ],
      "metadata": {
        "colab": {
          "base_uri": "https://localhost:8080/"
        },
        "id": "n-aofDusInT4",
        "outputId": "cda04513-0abc-4c0a-b71c-ba0c1e51031e"
      },
      "execution_count": 12,
      "outputs": [
        {
          "output_type": "stream",
          "name": "stderr",
          "text": [
            "WARNING:absl:`lr` is deprecated in Keras optimizer, please use `learning_rate` or use the legacy optimizer, e.g.,tf.keras.optimizers.legacy.Adam.\n"
          ]
        },
        {
          "output_type": "stream",
          "name": "stdout",
          "text": [
            "Epoch 1/100\n",
            "1/1 [==============================] - 3s 3s/step - loss: 14.2889 - mae: 14.2889\n",
            "Epoch 2/100\n",
            "1/1 [==============================] - 0s 16ms/step - loss: 13.1679 - mae: 13.1679\n",
            "Epoch 3/100\n",
            "1/1 [==============================] - 0s 16ms/step - loss: 12.0536 - mae: 12.0536\n",
            "Epoch 4/100\n",
            "1/1 [==============================] - 0s 22ms/step - loss: 10.9305 - mae: 10.9305\n",
            "Epoch 5/100\n",
            "1/1 [==============================] - 0s 13ms/step - loss: 9.7811 - mae: 9.7811\n",
            "Epoch 6/100\n",
            "1/1 [==============================] - 0s 15ms/step - loss: 8.8371 - mae: 8.8371\n",
            "Epoch 7/100\n",
            "1/1 [==============================] - 0s 13ms/step - loss: 7.9305 - mae: 7.9305\n",
            "Epoch 8/100\n",
            "1/1 [==============================] - 0s 13ms/step - loss: 6.9695 - mae: 6.9695\n",
            "Epoch 9/100\n",
            "1/1 [==============================] - 0s 20ms/step - loss: 5.9469 - mae: 5.9469\n",
            "Epoch 10/100\n",
            "1/1 [==============================] - 0s 13ms/step - loss: 4.8539 - mae: 4.8539\n",
            "Epoch 11/100\n",
            "1/1 [==============================] - 0s 12ms/step - loss: 4.1221 - mae: 4.1221\n",
            "Epoch 12/100\n",
            "1/1 [==============================] - 0s 13ms/step - loss: 4.2473 - mae: 4.2473\n",
            "Epoch 13/100\n",
            "1/1 [==============================] - 0s 12ms/step - loss: 4.6110 - mae: 4.6110\n",
            "Epoch 14/100\n",
            "1/1 [==============================] - 0s 41ms/step - loss: 5.0598 - mae: 5.0598\n",
            "Epoch 15/100\n",
            "1/1 [==============================] - 0s 18ms/step - loss: 5.3129 - mae: 5.3129\n",
            "Epoch 16/100\n",
            "1/1 [==============================] - 0s 17ms/step - loss: 5.3959 - mae: 5.3959\n",
            "Epoch 17/100\n",
            "1/1 [==============================] - 0s 19ms/step - loss: 5.3356 - mae: 5.3356\n",
            "Epoch 18/100\n",
            "1/1 [==============================] - 0s 18ms/step - loss: 5.1578 - mae: 5.1578\n",
            "Epoch 19/100\n",
            "1/1 [==============================] - 0s 13ms/step - loss: 4.8861 - mae: 4.8861\n",
            "Epoch 20/100\n",
            "1/1 [==============================] - 0s 15ms/step - loss: 4.5415 - mae: 4.5415\n",
            "Epoch 21/100\n",
            "1/1 [==============================] - 0s 13ms/step - loss: 4.2084 - mae: 4.2084\n",
            "Epoch 22/100\n",
            "1/1 [==============================] - 0s 12ms/step - loss: 4.0434 - mae: 4.0434\n",
            "Epoch 23/100\n",
            "1/1 [==============================] - 0s 25ms/step - loss: 3.8818 - mae: 3.8818\n",
            "Epoch 24/100\n",
            "1/1 [==============================] - 0s 14ms/step - loss: 3.8439 - mae: 3.8439\n",
            "Epoch 25/100\n",
            "1/1 [==============================] - 0s 12ms/step - loss: 3.9414 - mae: 3.9414\n",
            "Epoch 26/100\n",
            "1/1 [==============================] - 0s 18ms/step - loss: 4.0399 - mae: 4.0399\n",
            "Epoch 27/100\n",
            "1/1 [==============================] - 0s 12ms/step - loss: 4.1063 - mae: 4.1063\n",
            "Epoch 28/100\n",
            "1/1 [==============================] - 0s 12ms/step - loss: 3.9782 - mae: 3.9782\n",
            "Epoch 29/100\n",
            "1/1 [==============================] - 0s 13ms/step - loss: 3.9238 - mae: 3.9238\n",
            "Epoch 30/100\n",
            "1/1 [==============================] - 0s 14ms/step - loss: 3.8535 - mae: 3.8535\n",
            "Epoch 31/100\n",
            "1/1 [==============================] - 0s 14ms/step - loss: 3.7682 - mae: 3.7682\n",
            "Epoch 32/100\n",
            "1/1 [==============================] - 0s 13ms/step - loss: 3.6743 - mae: 3.6743\n",
            "Epoch 33/100\n",
            "1/1 [==============================] - 0s 13ms/step - loss: 3.7116 - mae: 3.7116\n",
            "Epoch 34/100\n",
            "1/1 [==============================] - 0s 13ms/step - loss: 3.7315 - mae: 3.7315\n",
            "Epoch 35/100\n",
            "1/1 [==============================] - 0s 13ms/step - loss: 3.7355 - mae: 3.7355\n",
            "Epoch 36/100\n",
            "1/1 [==============================] - 0s 14ms/step - loss: 3.7246 - mae: 3.7246\n",
            "Epoch 37/100\n",
            "1/1 [==============================] - 0s 15ms/step - loss: 3.7004 - mae: 3.7004\n",
            "Epoch 38/100\n",
            "1/1 [==============================] - 0s 13ms/step - loss: 3.6639 - mae: 3.6639\n",
            "Epoch 39/100\n",
            "1/1 [==============================] - 0s 14ms/step - loss: 3.6218 - mae: 3.6218\n",
            "Epoch 40/100\n",
            "1/1 [==============================] - 0s 15ms/step - loss: 3.5759 - mae: 3.5759\n",
            "Epoch 41/100\n",
            "1/1 [==============================] - 0s 12ms/step - loss: 3.5254 - mae: 3.5254\n",
            "Epoch 42/100\n",
            "1/1 [==============================] - 0s 16ms/step - loss: 3.5677 - mae: 3.5677\n",
            "Epoch 43/100\n",
            "1/1 [==============================] - 0s 11ms/step - loss: 3.5877 - mae: 3.5877\n",
            "Epoch 44/100\n",
            "1/1 [==============================] - 0s 11ms/step - loss: 3.5877 - mae: 3.5877\n",
            "Epoch 45/100\n",
            "1/1 [==============================] - 0s 11ms/step - loss: 3.5622 - mae: 3.5622\n",
            "Epoch 46/100\n",
            "1/1 [==============================] - 0s 12ms/step - loss: 3.5199 - mae: 3.5199\n",
            "Epoch 47/100\n",
            "1/1 [==============================] - 0s 11ms/step - loss: 3.4559 - mae: 3.4559\n",
            "Epoch 48/100\n",
            "1/1 [==============================] - 0s 11ms/step - loss: 3.4739 - mae: 3.4739\n",
            "Epoch 49/100\n",
            "1/1 [==============================] - 0s 17ms/step - loss: 3.4910 - mae: 3.4910\n",
            "Epoch 50/100\n",
            "1/1 [==============================] - 0s 11ms/step - loss: 3.4919 - mae: 3.4919\n",
            "Epoch 51/100\n",
            "1/1 [==============================] - 0s 19ms/step - loss: 3.4777 - mae: 3.4777\n",
            "Epoch 52/100\n",
            "1/1 [==============================] - 0s 11ms/step - loss: 3.4499 - mae: 3.4499\n",
            "Epoch 53/100\n",
            "1/1 [==============================] - 0s 17ms/step - loss: 3.4096 - mae: 3.4096\n",
            "Epoch 54/100\n",
            "1/1 [==============================] - 0s 18ms/step - loss: 3.3657 - mae: 3.3657\n",
            "Epoch 55/100\n",
            "1/1 [==============================] - 0s 17ms/step - loss: 3.3123 - mae: 3.3123\n",
            "Epoch 56/100\n",
            "1/1 [==============================] - 0s 15ms/step - loss: 3.3104 - mae: 3.3104\n",
            "Epoch 57/100\n",
            "1/1 [==============================] - 0s 16ms/step - loss: 3.3221 - mae: 3.3221\n",
            "Epoch 58/100\n",
            "1/1 [==============================] - 0s 17ms/step - loss: 3.3031 - mae: 3.3031\n",
            "Epoch 59/100\n",
            "1/1 [==============================] - 0s 16ms/step - loss: 3.2552 - mae: 3.2552\n",
            "Epoch 60/100\n",
            "1/1 [==============================] - 0s 16ms/step - loss: 3.1929 - mae: 3.1929\n",
            "Epoch 61/100\n",
            "1/1 [==============================] - 0s 17ms/step - loss: 3.2150 - mae: 3.2150\n",
            "Epoch 62/100\n",
            "1/1 [==============================] - 0s 20ms/step - loss: 3.1737 - mae: 3.1737\n",
            "Epoch 63/100\n",
            "1/1 [==============================] - 0s 15ms/step - loss: 3.1489 - mae: 3.1489\n",
            "Epoch 64/100\n",
            "1/1 [==============================] - 0s 17ms/step - loss: 3.1122 - mae: 3.1122\n",
            "Epoch 65/100\n",
            "1/1 [==============================] - 0s 19ms/step - loss: 3.1053 - mae: 3.1053\n",
            "Epoch 66/100\n",
            "1/1 [==============================] - 0s 21ms/step - loss: 3.0856 - mae: 3.0856\n",
            "Epoch 67/100\n",
            "1/1 [==============================] - 0s 17ms/step - loss: 3.0330 - mae: 3.0330\n",
            "Epoch 68/100\n",
            "1/1 [==============================] - 0s 19ms/step - loss: 3.0245 - mae: 3.0245\n",
            "Epoch 69/100\n",
            "1/1 [==============================] - 0s 21ms/step - loss: 3.0390 - mae: 3.0390\n",
            "Epoch 70/100\n",
            "1/1 [==============================] - 0s 24ms/step - loss: 2.9958 - mae: 2.9958\n",
            "Epoch 71/100\n",
            "1/1 [==============================] - 0s 18ms/step - loss: 2.9661 - mae: 2.9661\n",
            "Epoch 72/100\n",
            "1/1 [==============================] - 0s 15ms/step - loss: 2.9219 - mae: 2.9219\n",
            "Epoch 73/100\n",
            "1/1 [==============================] - 0s 23ms/step - loss: 2.8677 - mae: 2.8677\n",
            "Epoch 74/100\n",
            "1/1 [==============================] - 0s 19ms/step - loss: 2.8446 - mae: 2.8446\n",
            "Epoch 75/100\n",
            "1/1 [==============================] - 0s 19ms/step - loss: 2.8071 - mae: 2.8071\n",
            "Epoch 76/100\n",
            "1/1 [==============================] - 0s 18ms/step - loss: 2.7709 - mae: 2.7709\n",
            "Epoch 77/100\n",
            "1/1 [==============================] - 0s 21ms/step - loss: 2.7515 - mae: 2.7515\n",
            "Epoch 78/100\n",
            "1/1 [==============================] - 0s 21ms/step - loss: 2.7283 - mae: 2.7283\n",
            "Epoch 79/100\n",
            "1/1 [==============================] - 0s 20ms/step - loss: 2.6943 - mae: 2.6943\n",
            "Epoch 80/100\n",
            "1/1 [==============================] - 0s 18ms/step - loss: 2.6332 - mae: 2.6332\n",
            "Epoch 81/100\n",
            "1/1 [==============================] - 0s 15ms/step - loss: 2.6038 - mae: 2.6038\n",
            "Epoch 82/100\n",
            "1/1 [==============================] - 0s 22ms/step - loss: 2.5569 - mae: 2.5569\n",
            "Epoch 83/100\n",
            "1/1 [==============================] - 0s 18ms/step - loss: 2.5176 - mae: 2.5176\n",
            "Epoch 84/100\n",
            "1/1 [==============================] - 0s 15ms/step - loss: 2.4557 - mae: 2.4557\n",
            "Epoch 85/100\n",
            "1/1 [==============================] - 0s 13ms/step - loss: 2.4575 - mae: 2.4575\n",
            "Epoch 86/100\n",
            "1/1 [==============================] - 0s 15ms/step - loss: 2.4058 - mae: 2.4058\n",
            "Epoch 87/100\n",
            "1/1 [==============================] - 0s 14ms/step - loss: 2.3629 - mae: 2.3629\n",
            "Epoch 88/100\n",
            "1/1 [==============================] - 0s 13ms/step - loss: 2.3008 - mae: 2.3008\n",
            "Epoch 89/100\n",
            "1/1 [==============================] - 0s 34ms/step - loss: 2.2250 - mae: 2.2250\n",
            "Epoch 90/100\n",
            "1/1 [==============================] - 0s 20ms/step - loss: 2.1664 - mae: 2.1664\n",
            "Epoch 91/100\n",
            "1/1 [==============================] - 0s 29ms/step - loss: 2.1298 - mae: 2.1298\n",
            "Epoch 92/100\n",
            "1/1 [==============================] - 0s 23ms/step - loss: 2.0725 - mae: 2.0725\n",
            "Epoch 93/100\n",
            "1/1 [==============================] - 0s 37ms/step - loss: 2.0160 - mae: 2.0160\n",
            "Epoch 94/100\n",
            "1/1 [==============================] - 0s 23ms/step - loss: 1.9188 - mae: 1.9188\n",
            "Epoch 95/100\n",
            "1/1 [==============================] - 0s 24ms/step - loss: 1.8981 - mae: 1.8981\n",
            "Epoch 96/100\n",
            "1/1 [==============================] - 0s 24ms/step - loss: 1.8381 - mae: 1.8381\n",
            "Epoch 97/100\n",
            "1/1 [==============================] - 0s 16ms/step - loss: 1.7170 - mae: 1.7170\n",
            "Epoch 98/100\n",
            "1/1 [==============================] - 0s 16ms/step - loss: 1.6810 - mae: 1.6810\n",
            "Epoch 99/100\n",
            "1/1 [==============================] - 0s 15ms/step - loss: 1.6271 - mae: 1.6271\n",
            "Epoch 100/100\n",
            "1/1 [==============================] - 0s 16ms/step - loss: 1.5451 - mae: 1.5451\n"
          ]
        },
        {
          "output_type": "execute_result",
          "data": {
            "text/plain": [
              "<keras.src.callbacks.History at 0x787b4718c9a0>"
            ]
          },
          "metadata": {},
          "execution_count": 12
        }
      ]
    },
    {
      "cell_type": "code",
      "source": [
        "y_pred = model.predict([17.])\n",
        "y_pred"
      ],
      "metadata": {
        "colab": {
          "base_uri": "https://localhost:8080/"
        },
        "id": "8GMSgwfxJjam",
        "outputId": "a5a5653b-436e-4cff-8731-ab4d769a0190"
      },
      "execution_count": 13,
      "outputs": [
        {
          "output_type": "stream",
          "name": "stdout",
          "text": [
            "1/1 [==============================] - 0s 216ms/step\n"
          ]
        },
        {
          "output_type": "execute_result",
          "data": {
            "text/plain": [
              "array([[30.5048]], dtype=float32)"
            ]
          },
          "metadata": {},
          "execution_count": 13
        }
      ]
    },
    {
      "cell_type": "markdown",
      "source": [
        "**It is worse than before model. Because our model is overfitted**\n",
        "\n",
        "Common ways to improve a deep model:\n",
        "1.   Adding layers\n",
        "2.   Increase the number of hidden units\n",
        "3.   Change the activation function\n",
        "4.   Change the optimization function\n",
        "5.   Change the learning rate\n",
        "6.   Fitting on more data\n",
        "7. Fitting for longer\n",
        "\n",
        "\n"
      ],
      "metadata": {
        "id": "BLCXtC-JKPXp"
      }
    },
    {
      "cell_type": "markdown",
      "source": [
        "## Evaluating the model\n",
        "\n",
        "In practice, a typical workflow you'll go through when building neural networks is:\n",
        "\n",
        "Build a model -> fit it > evaluate it -> tweak it -> fit it > evaluate it -> tweak it -> fit it > evaluate it -> tweak it\n",
        "\n",
        "\n",
        "When it comes to evaluation... there are 3 words you should memorize:\n",
        "\n",
        "***Visualize, visualize, visualize***\n",
        "\n",
        "It's a good idea to visualize:\n",
        "* the data - what data are we working within ? What does it look like?\n",
        "* The model itself - what does our model look like?\n",
        "* The training of a model - how does a model perform while it learns ?\n",
        "* The predictions of the model - how do the predictions of a model line up agains the ground truth ( the original label )"
      ],
      "metadata": {
        "id": "-Q1gxBRj75Xf"
      }
    },
    {
      "cell_type": "code",
      "source": [
        "# Make a bigger dataset\n",
        "X = tf.range(-100, 100, 4)\n",
        "X"
      ],
      "metadata": {
        "colab": {
          "base_uri": "https://localhost:8080/"
        },
        "id": "d2eT_CPAYDrv",
        "outputId": "d707d607-92c0-4690-dd6d-4b892449d738"
      },
      "execution_count": 14,
      "outputs": [
        {
          "output_type": "execute_result",
          "data": {
            "text/plain": [
              "<tf.Tensor: shape=(50,), dtype=int32, numpy=\n",
              "array([-100,  -96,  -92,  -88,  -84,  -80,  -76,  -72,  -68,  -64,  -60,\n",
              "        -56,  -52,  -48,  -44,  -40,  -36,  -32,  -28,  -24,  -20,  -16,\n",
              "        -12,   -8,   -4,    0,    4,    8,   12,   16,   20,   24,   28,\n",
              "         32,   36,   40,   44,   48,   52,   56,   60,   64,   68,   72,\n",
              "         76,   80,   84,   88,   92,   96], dtype=int32)>"
            ]
          },
          "metadata": {},
          "execution_count": 14
        }
      ]
    },
    {
      "cell_type": "code",
      "source": [
        "# Make labels for the dataset\n",
        "y = X + 10\n",
        "y"
      ],
      "metadata": {
        "colab": {
          "base_uri": "https://localhost:8080/"
        },
        "id": "JlB91HJJ9B04",
        "outputId": "db9dabc0-6d39-4b5f-ada3-3e98ddadf29f"
      },
      "execution_count": 15,
      "outputs": [
        {
          "output_type": "execute_result",
          "data": {
            "text/plain": [
              "<tf.Tensor: shape=(50,), dtype=int32, numpy=\n",
              "array([-90, -86, -82, -78, -74, -70, -66, -62, -58, -54, -50, -46, -42,\n",
              "       -38, -34, -30, -26, -22, -18, -14, -10,  -6,  -2,   2,   6,  10,\n",
              "        14,  18,  22,  26,  30,  34,  38,  42,  46,  50,  54,  58,  62,\n",
              "        66,  70,  74,  78,  82,  86,  90,  94,  98, 102, 106], dtype=int32)>"
            ]
          },
          "metadata": {},
          "execution_count": 15
        }
      ]
    },
    {
      "cell_type": "code",
      "source": [
        "# Let's visualize the data\n",
        "\n",
        "plt.scatter(X, y, color=\"red\")\n",
        "plt.xlabel(\"X\")\n",
        "plt.ylabel(\"Y\")\n",
        "plt.show()"
      ],
      "metadata": {
        "colab": {
          "base_uri": "https://localhost:8080/",
          "height": 449
        },
        "id": "KOBRN_bl9KWO",
        "outputId": "55dbc3aa-28e7-4970-e2e5-967fa08ea84c"
      },
      "execution_count": 16,
      "outputs": [
        {
          "output_type": "display_data",
          "data": {
            "text/plain": [
              "<Figure size 640x480 with 1 Axes>"
            ],
            "image/png": "[encoded data removed]"
          },
          "metadata": {}
        }
      ]
    },
    {
      "cell_type": "markdown",
      "source": [
        "# The 3 sets...\n",
        "\n",
        "* **Training set** - the model learns from this data, which is typically 70-80% of total data you have available.\n",
        "* **Validation set** - the model gets tuned on this data, which is typically 10-15% of the data available.\n",
        "* **Test set** - The model gets evaluated on this data to test what is has learned, this set is typically 10-15%."
      ],
      "metadata": {
        "id": "Z6UUvlpV-IiM"
      }
    },
    {
      "cell_type": "code",
      "source": [
        "# Split the data into train and test sets\n",
        "X_train = X[:40] # first 40 are training samples (80%)\n",
        "X_test = X[40:] # last 10 are testing samples (20%)\n",
        "\n",
        "y_train = y[:40]\n",
        "y_test = y[40:]\n",
        "\n",
        "len(X_train), len(X_test), len(y_train), len(y_test)"
      ],
      "metadata": {
        "colab": {
          "base_uri": "https://localhost:8080/"
        },
        "id": "8q37qvmq9Yxp",
        "outputId": "c62288c6-2249-4623-b87e-5dff774154d6"
      },
      "execution_count": 17,
      "outputs": [
        {
          "output_type": "execute_result",
          "data": {
            "text/plain": [
              "(40, 10, 40, 10)"
            ]
          },
          "metadata": {},
          "execution_count": 17
        }
      ]
    },
    {
      "cell_type": "markdown",
      "source": [
        "### Visualizing the data\n",
        "\n",
        "Now we've got our data in training and test sets... let's visiualize it again."
      ],
      "metadata": {
        "id": "QBnnE2KAAw2L"
      }
    },
    {
      "cell_type": "code",
      "source": [
        "plt.figure(figsize=(6, 4))\n",
        "plt.scatter(X_train, y_train, color=\"blue\", label=\"training data\")\n",
        "plt.scatter(X_test, y_test, c=\"red\", label=\"testing data\")\n",
        "plt.legend()\n",
        "plt.show()"
      ],
      "metadata": {
        "colab": {
          "base_uri": "https://localhost:8080/",
          "height": 368
        },
        "id": "_3nlJq0x95-g",
        "outputId": "f53dea7d-4d74-4558-de69-90f21ec9272a"
      },
      "execution_count": 18,
      "outputs": [
        {
          "output_type": "display_data",
          "data": {
            "text/plain": [
              "<Figure size 600x400 with 1 Axes>"
            ],
            "image/png": "[encoded data removed]"
          },
          "metadata": {}
        }
      ]
    },
    {
      "cell_type": "code",
      "source": [
        "# Let's have a look at how to build a neural networks for our data\n",
        "\n",
        "# 1. create a model\n",
        "model = tf.keras.Sequential([\n",
        "    tf.keras.layers.Dense(1)\n",
        "])\n",
        "\n",
        "# 2. Compile the model\n",
        "model.compile(\n",
        "    loss = tf.keras.losses.mae,\n",
        "    optimizer = tf.keras.optimizers.SGD(),\n",
        "    metrics=[\"mae\"]\n",
        "    )\n",
        "\n",
        "# 3. Fit the model\n",
        "\n",
        "#model.fit(tf.expand_dims(X_train, axis=-1), y, epochs=100)\n"
      ],
      "metadata": {
        "id": "z40RTjWfBWH-"
      },
      "execution_count": 21,
      "outputs": []
    },
    {
      "cell_type": "code",
      "source": [
        "model.summary()"
      ],
      "metadata": {
        "colab": {
          "base_uri": "https://localhost:8080/",
          "height": 315
        },
        "id": "l9f9KDDCWEMj",
        "outputId": "dd317bd9-7006-4bba-8a31-1c41c24607eb"
      },
      "execution_count": 23,
      "outputs": [
        {
          "output_type": "error",
          "ename": "ValueError",
          "evalue": "ignored",
          "traceback": [
            "\u001b[0;31m---------------------------------------------------------------------------\u001b[0m",
            "\u001b[0;31mValueError\u001b[0m                                Traceback (most recent call last)",
            "\u001b[0;32m<ipython-input-23-5f15418b3570>\u001b[0m in \u001b[0;36m<cell line: 1>\u001b[0;34m()\u001b[0m\n\u001b[0;32m----> 1\u001b[0;31m \u001b[0mmodel\u001b[0m\u001b[0;34m.\u001b[0m\u001b[0msummary\u001b[0m\u001b[0;34m(\u001b[0m\u001b[0;34m)\u001b[0m\u001b[0;34m\u001b[0m\u001b[0;34m\u001b[0m\u001b[0m\n\u001b[0m",
            "\u001b[0;32m/usr/local/lib/python3.10/dist-packages/keras/src/engine/training.py\u001b[0m in \u001b[0;36msummary\u001b[0;34m(self, line_length, positions, print_fn, expand_nested, show_trainable, layer_range)\u001b[0m\n\u001b[1;32m   3480\u001b[0m         \"\"\"\n\u001b[1;32m   3481\u001b[0m         \u001b[0;32mif\u001b[0m \u001b[0;32mnot\u001b[0m \u001b[0mself\u001b[0m\u001b[0;34m.\u001b[0m\u001b[0mbuilt\u001b[0m\u001b[0;34m:\u001b[0m\u001b[0;34m\u001b[0m\u001b[0;34m\u001b[0m\u001b[0m\n\u001b[0;32m-> 3482\u001b[0;31m             raise ValueError(\n\u001b[0m\u001b[1;32m   3483\u001b[0m                 \u001b[0;34m\"This model has not yet been built. \"\u001b[0m\u001b[0;34m\u001b[0m\u001b[0;34m\u001b[0m\u001b[0m\n\u001b[1;32m   3484\u001b[0m                 \u001b[0;34m\"Build the model first by calling `build()` or by calling \"\u001b[0m\u001b[0;34m\u001b[0m\u001b[0;34m\u001b[0m\u001b[0m\n",
            "\u001b[0;31mValueError\u001b[0m: This model has not yet been built. Build the model first by calling `build()` or by calling the model on a batch of data."
          ]
        }
      ]
    },
    {
      "cell_type": "code",
      "source": [
        "# Let's create a model which builds automatically by defining the input_shape arg\n",
        "\n",
        "tf.random.set_seed(42)\n",
        "\n",
        "# 1. Create a model\n",
        "model = tf.keras.Sequential([\n",
        "    tf.keras.layers.Dense(units=1, input_shape=[1] ) # X[0] and y[0] is just a number. that's why we put 1\n",
        "])\n",
        "\n",
        "# 2. Compile the model\n",
        "model.compile(\n",
        "    loss = tf.keras.losses.mae,\n",
        "    optimizer = tf.keras.optimizers.SGD(),\n",
        "    metrics=[\"mae\"])\n"
      ],
      "metadata": {
        "id": "znW72Zm2WS1V"
      },
      "execution_count": 37,
      "outputs": []
    },
    {
      "cell_type": "code",
      "source": [
        "model.summary()"
      ],
      "metadata": {
        "colab": {
          "base_uri": "https://localhost:8080/"
        },
        "id": "Wb8Y-E92XO16",
        "outputId": "daa1790e-8b21-41c2-bbc0-bcfa8d2649b2"
      },
      "execution_count": 38,
      "outputs": [
        {
          "output_type": "stream",
          "name": "stdout",
          "text": [
            "Model: \"sequential_9\"\n",
            "_________________________________________________________________\n",
            " Layer (type)                Output Shape              Param #   \n",
            "=================================================================\n",
            " dense_12 (Dense)            (None, 1)                 2         \n",
            "                                                                 \n",
            "=================================================================\n",
            "Total params: 2 (8.00 Byte)\n",
            "Trainable params: 2 (8.00 Byte)\n",
            "Non-trainable params: 0 (0.00 Byte)\n",
            "_________________________________________________________________\n"
          ]
        }
      ]
    },
    {
      "cell_type": "markdown",
      "source": [
        "## Visualizing the model"
      ],
      "metadata": {
        "id": "v3wmdWeCV85q"
      }
    },
    {
      "cell_type": "code",
      "source": [],
      "metadata": {
        "id": "aErz_3OcXOgb"
      },
      "execution_count": null,
      "outputs": []
    },
    {
      "cell_type": "code",
      "source": [],
      "metadata": {
        "colab": {
          "base_uri": "https://localhost:8080/",
          "height": 315
        },
        "id": "EnwGwqHFV2Em",
        "outputId": "a7abad5a-23ac-419c-eb9d-db53726413bc"
      },
      "execution_count": 22,
      "outputs": [
        {
          "output_type": "error",
          "ename": "ValueError",
          "evalue": "ignored",
          "traceback": [
            "\u001b[0;31m---------------------------------------------------------------------------\u001b[0m",
            "\u001b[0;31mValueError\u001b[0m                                Traceback (most recent call last)",
            "\u001b[0;32m<ipython-input-22-5f15418b3570>\u001b[0m in \u001b[0;36m<cell line: 1>\u001b[0;34m()\u001b[0m\n\u001b[0;32m----> 1\u001b[0;31m \u001b[0mmodel\u001b[0m\u001b[0;34m.\u001b[0m\u001b[0msummary\u001b[0m\u001b[0;34m(\u001b[0m\u001b[0;34m)\u001b[0m\u001b[0;34m\u001b[0m\u001b[0;34m\u001b[0m\u001b[0m\n\u001b[0m",
            "\u001b[0;32m/usr/local/lib/python3.10/dist-packages/keras/src/engine/training.py\u001b[0m in \u001b[0;36msummary\u001b[0;34m(self, line_length, positions, print_fn, expand_nested, show_trainable, layer_range)\u001b[0m\n\u001b[1;32m   3480\u001b[0m         \"\"\"\n\u001b[1;32m   3481\u001b[0m         \u001b[0;32mif\u001b[0m \u001b[0;32mnot\u001b[0m \u001b[0mself\u001b[0m\u001b[0;34m.\u001b[0m\u001b[0mbuilt\u001b[0m\u001b[0;34m:\u001b[0m\u001b[0;34m\u001b[0m\u001b[0;34m\u001b[0m\u001b[0m\n\u001b[0;32m-> 3482\u001b[0;31m             raise ValueError(\n\u001b[0m\u001b[1;32m   3483\u001b[0m                 \u001b[0;34m\"This model has not yet been built. \"\u001b[0m\u001b[0;34m\u001b[0m\u001b[0;34m\u001b[0m\u001b[0m\n\u001b[1;32m   3484\u001b[0m                 \u001b[0;34m\"Build the model first by calling `build()` or by calling \"\u001b[0m\u001b[0;34m\u001b[0m\u001b[0;34m\u001b[0m\u001b[0m\n",
            "\u001b[0;31mValueError\u001b[0m: This model has not yet been built. Build the model first by calling `build()` or by calling the model on a batch of data."
          ]
        }
      ]
    },
    {
      "cell_type": "code",
      "source": [],
      "metadata": {
        "id": "i4vlJVS8WAWi"
      },
      "execution_count": null,
      "outputs": []
    }
  ]
}