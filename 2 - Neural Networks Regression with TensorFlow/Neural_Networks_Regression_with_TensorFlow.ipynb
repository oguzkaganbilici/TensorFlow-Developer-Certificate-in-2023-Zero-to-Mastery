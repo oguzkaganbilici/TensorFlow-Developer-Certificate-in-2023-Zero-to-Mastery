{
  "nbformat": 4,
  "nbformat_minor": 0,
  "metadata": {
    "colab": {
      "provenance": [],
      "gpuType": "T4"
    },
    "kernelspec": {
      "name": "python3",
      "display_name": "Python 3"
    },
    "language_info": {
      "name": "python"
    },
    "accelerator": "GPU"
  },
  "cells": [
    {
      "cell_type": "markdown",
      "source": [
        "# Introduction to Regression with Neural Networks in TensorFlow\n",
        "- There are many definitions for a regression problem but in our case, we're going to simplify it: predicting a numerical variable based on some other combination of variables."
      ],
      "metadata": {
        "id": "c2dIRamFITSW"
      }
    },
    {
      "cell_type": "markdown",
      "source": [
        "## Import TensorFlow\n"
      ],
      "metadata": {
        "id": "d_2n5SSwJCDY"
      }
    },
    {
      "cell_type": "code",
      "execution_count": 1,
      "metadata": {
        "colab": {
          "base_uri": "https://localhost:8080/",
          "height": 35
        },
        "id": "vl8-GxuwICqo",
        "outputId": "5c7bbdbc-bcf1-4d99-f46f-00b3fb7cb7d5"
      },
      "outputs": [
        {
          "output_type": "execute_result",
          "data": {
            "text/plain": [
              "'2.14.0'"
            ],
            "application/vnd.google.colaboratory.intrinsic+json": {
              "type": "string"
            }
          },
          "metadata": {},
          "execution_count": 1
        }
      ],
      "source": [
        "import tensorflow as tf\n",
        "tf.__version__"
      ]
    },
    {
      "cell_type": "markdown",
      "source": [
        "## Creating a data to fit"
      ],
      "metadata": {
        "id": "xhCssMgiJBER"
      }
    },
    {
      "cell_type": "code",
      "source": [
        "import numpy as np\n",
        "import matplotlib.pyplot as plt\n",
        "\n",
        "X = np.array([-7., -4., -1., 2., 5., 8., 11., 14.])\n",
        "y = np.array([3., 6., 9., 12., 15., 18., 21., 24. ])\n",
        "\n",
        "# Visualize\n",
        "plt.scatter(X, y)\n",
        "plt.plot(X, y, color=\"red\")\n",
        "plt.xlabel(\"X\")\n",
        "plt.ylabel(\"y\")\n",
        "plt.show()"
      ],
      "metadata": {
        "colab": {
          "base_uri": "https://localhost:8080/",
          "height": 454
        },
        "id": "F73pE9-LIMvK",
        "outputId": "cfefef63-9451-43e7-a551-dfe421d64786"
      },
      "execution_count": 2,
      "outputs": [
        {
          "output_type": "display_data",
          "data": {
            "text/plain": [
              "<Figure size 640x480 with 1 Axes>"
            ],
            "image/png": "[encoded data removed]"
          },
          "metadata": {}
        }
      ]
    },
    {
      "cell_type": "markdown",
      "source": [
        "- From graph, it can be seen that, y = X + 10.\n",
        "\n",
        "X -> input features, independent variable\n",
        "y -> output feature, dependent variable"
      ],
      "metadata": {
        "id": "D8JTRPZlJzYs"
      }
    },
    {
      "cell_type": "markdown",
      "source": [
        "## Input and output shapes\n"
      ],
      "metadata": {
        "id": "0cWSNJbqKcBf"
      }
    },
    {
      "cell_type": "code",
      "source": [
        "# Create a demo tensor for our housing price prediction problem\n",
        "\n",
        "house_info = tf.constant([\"bedroom\", \"bathroom\", \"garage\"])\n",
        "house_price = tf.constant([939700])\n",
        "\n",
        "house_info, house_price"
      ],
      "metadata": {
        "colab": {
          "base_uri": "https://localhost:8080/"
        },
        "id": "G-hntZ_8JeaH",
        "outputId": "78983d35-88ff-4e56-c71e-8016e6bfa72b"
      },
      "execution_count": 3,
      "outputs": [
        {
          "output_type": "execute_result",
          "data": {
            "text/plain": [
              "(<tf.Tensor: shape=(3,), dtype=string, numpy=array([b'bedroom', b'bathroom', b'garage'], dtype=object)>,\n",
              " <tf.Tensor: shape=(1,), dtype=int32, numpy=array([939700], dtype=int32)>)"
            ]
          },
          "metadata": {},
          "execution_count": 3
        }
      ]
    },
    {
      "cell_type": "code",
      "source": [
        "input_shape = X.shape\n",
        "output_shape = y.shape\n",
        "input_shape, output_shape"
      ],
      "metadata": {
        "colab": {
          "base_uri": "https://localhost:8080/"
        },
        "id": "l4B3sVtrKKL-",
        "outputId": "cf5e8e54-0ed8-4298-be6c-dec63f4188a3"
      },
      "execution_count": 4,
      "outputs": [
        {
          "output_type": "execute_result",
          "data": {
            "text/plain": [
              "((8,), (8,))"
            ]
          },
          "metadata": {},
          "execution_count": 4
        }
      ]
    },
    {
      "cell_type": "markdown",
      "source": [
        "## Turn our Numpy array into tensors"
      ],
      "metadata": {
        "id": "zeTZRnVVHij_"
      }
    },
    {
      "cell_type": "code",
      "source": [
        "X = tf.cast(tf.constant(X), dtype=tf.float32)\n",
        "y = tf.cast(tf.constant(y), dtype=tf.float32)\n",
        "X, y"
      ],
      "metadata": {
        "colab": {
          "base_uri": "https://localhost:8080/"
        },
        "id": "1HOrk95hK6Ci",
        "outputId": "e81ba6ea-8dac-4a93-b697-01fb66f00685"
      },
      "execution_count": 5,
      "outputs": [
        {
          "output_type": "execute_result",
          "data": {
            "text/plain": [
              "(<tf.Tensor: shape=(8,), dtype=float32, numpy=array([-7., -4., -1.,  2.,  5.,  8., 11., 14.], dtype=float32)>,\n",
              " <tf.Tensor: shape=(8,), dtype=float32, numpy=array([ 3.,  6.,  9., 12., 15., 18., 21., 24.], dtype=float32)>)"
            ]
          },
          "metadata": {},
          "execution_count": 5
        }
      ]
    },
    {
      "cell_type": "markdown",
      "source": [
        "## Steps in modelling with TensorFlow\n",
        "\n",
        "\n",
        "1.   Creating a model - define the input and output layers, as well as the hidden layers of a deep learning\n",
        "2.   Compiling a model - define  the loss function ( in other words, the function that tells our model how wrong it is) and the optimizer ( tells our model how to improve the patterns its learning) and evalution metrics ( what we can use to interpret the performance of our model)\n",
        "3. Fittin a model - letting the model try to find patterns betwene X & y (features and labels).\n",
        "\n"
      ],
      "metadata": {
        "id": "MIvvMAcfIMdL"
      }
    },
    {
      "cell_type": "code",
      "source": [
        "# Set random seed\n",
        "\n",
        "tf.random.set_seed(42)\n",
        "\n",
        "# 1. Create a model using the Sequential API\n",
        "\n",
        "# Sequential groups a linear stack of layers into a tf.keras.Model.\n",
        "# Sequential provides training and inference features on this model\n",
        "model = tf.keras.Sequential([\n",
        "    tf.keras.layers.Dense(1) # we have 1 input and want 1 output. that's why it's 1\n",
        "])\n",
        "\n",
        "# 2. Compile the model\n",
        "model.compile(\n",
        "    loss=tf.keras.losses.mae, # mae => mean absolute error\n",
        "    optimizer=tf.keras.optimizers.SGD(), # SGD => stochastic gradient descent\n",
        "    metrics=[\"mae\"]\n",
        "              )\n",
        "\n",
        "# 3. Fit the model\n",
        "model.fit(tf.expand_dims(X, axis=-1), y, epochs=5)\n"
      ],
      "metadata": {
        "colab": {
          "base_uri": "https://localhost:8080/"
        },
        "id": "2kdDyNSdH466",
        "outputId": "ea9f6be9-4e6b-4005-ea61-ae24377c2f95"
      },
      "execution_count": 6,
      "outputs": [
        {
          "output_type": "stream",
          "name": "stdout",
          "text": [
            "Epoch 1/5\n",
            "1/1 [==============================] - 6s 6s/step - loss: 10.7508 - mae: 10.7508\n",
            "Epoch 2/5\n",
            "1/1 [==============================] - 0s 12ms/step - loss: 10.6183 - mae: 10.6183\n",
            "Epoch 3/5\n",
            "1/1 [==============================] - 0s 25ms/step - loss: 10.4858 - mae: 10.4858\n",
            "Epoch 4/5\n",
            "1/1 [==============================] - 0s 29ms/step - loss: 10.3533 - mae: 10.3533\n",
            "Epoch 5/5\n",
            "1/1 [==============================] - 0s 39ms/step - loss: 10.2208 - mae: 10.2208\n"
          ]
        },
        {
          "output_type": "execute_result",
          "data": {
            "text/plain": [
              "<keras.src.callbacks.History at 0x7e3420121d50>"
            ]
          },
          "metadata": {},
          "execution_count": 6
        }
      ]
    },
    {
      "cell_type": "code",
      "source": [
        "# Check out X, y\n",
        "\n",
        "X, y"
      ],
      "metadata": {
        "colab": {
          "base_uri": "https://localhost:8080/"
        },
        "id": "btxirzTlIG_R",
        "outputId": "b1dc0400-eeaa-4c5d-9093-1e0e4983a593"
      },
      "execution_count": 7,
      "outputs": [
        {
          "output_type": "execute_result",
          "data": {
            "text/plain": [
              "(<tf.Tensor: shape=(8,), dtype=float32, numpy=array([-7., -4., -1.,  2.,  5.,  8., 11., 14.], dtype=float32)>,\n",
              " <tf.Tensor: shape=(8,), dtype=float32, numpy=array([ 3.,  6.,  9., 12., 15., 18., 21., 24.], dtype=float32)>)"
            ]
          },
          "metadata": {},
          "execution_count": 7
        }
      ]
    },
    {
      "cell_type": "markdown",
      "source": [
        "## Try and make a prediction using our model"
      ],
      "metadata": {
        "id": "fdhHlKl1NZ0t"
      }
    },
    {
      "cell_type": "code",
      "source": [
        "y_pred = model.predict([17.])\n",
        "y_pred"
      ],
      "metadata": {
        "colab": {
          "base_uri": "https://localhost:8080/"
        },
        "id": "MxvRG0HXNX9R",
        "outputId": "f2cbed34-b0a8-4a14-ec6c-0faf2bb96a73"
      },
      "execution_count": 8,
      "outputs": [
        {
          "output_type": "stream",
          "name": "stdout",
          "text": [
            "1/1 [==============================] - 0s 167ms/step\n"
          ]
        },
        {
          "output_type": "execute_result",
          "data": {
            "text/plain": [
              "array([[16.37807]], dtype=float32)"
            ]
          },
          "metadata": {},
          "execution_count": 8
        }
      ]
    },
    {
      "cell_type": "markdown",
      "source": [
        "- Performance of our model is worse than shit. We have to improve it."
      ],
      "metadata": {
        "id": "fkIyMBaNN0ew"
      }
    },
    {
      "cell_type": "markdown",
      "source": [
        "## Improve our model\n",
        "\n",
        "we can improve our model, by altering the steps we took to create a model\n",
        "\n",
        "1.   **Creating a model** - here we might add more layers, increase the number of hidden units (all called neurons) within each of the hidden layers, change the activation function of each layer.\n",
        "2.   **Compiling a model** - here we might change the optimization function or perhaps the **learning rate** of the optimization function.\n",
        "3. **Fitting a model** - here we might fit a model for more **epochs** (leave it traning for longer) or on more data (give the model more examples to learn from)"
      ],
      "metadata": {
        "id": "CRk4tslVE4zD"
      }
    },
    {
      "cell_type": "code",
      "source": [
        "# Let's rebuild our model\n",
        "\n",
        "# 1. Create the model\n",
        "\n",
        "model = tf.keras.Sequential([\n",
        "    tf.keras.layers.Dense(1)\n",
        "])\n",
        "\n",
        "# 2. Compile the model\n",
        "\n",
        "model.compile(\n",
        "    loss=tf.keras.losses.mae,\n",
        "    optimizer=tf.keras.optimizers.SGD(),\n",
        "    metrics=[\"mae\"])\n",
        "\n",
        "# 3. Fit the model (this time we'll train for longer)\n",
        "\n",
        "model.fit(tf.expand_dims(X, axis=-1), y, epochs=100)"
      ],
      "metadata": {
        "colab": {
          "base_uri": "https://localhost:8080/"
        },
        "id": "nylMtQ7rNgRi",
        "outputId": "f92d305c-375d-4818-85be-c52171197f31"
      },
      "execution_count": 9,
      "outputs": [
        {
          "output_type": "stream",
          "name": "stdout",
          "text": [
            "Epoch 1/100\n",
            "1/1 [==============================] - 1s 585ms/step - loss: 16.0066 - mae: 16.0066\n",
            "Epoch 2/100\n",
            "1/1 [==============================] - 0s 17ms/step - loss: 15.7253 - mae: 15.7253\n",
            "Epoch 3/100\n",
            "1/1 [==============================] - 0s 15ms/step - loss: 15.4441 - mae: 15.4441\n",
            "Epoch 4/100\n",
            "1/1 [==============================] - 0s 16ms/step - loss: 15.1628 - mae: 15.1628\n",
            "Epoch 5/100\n",
            "1/1 [==============================] - 0s 15ms/step - loss: 14.9060 - mae: 14.9060\n",
            "Epoch 6/100\n",
            "1/1 [==============================] - 0s 17ms/step - loss: 14.7735 - mae: 14.7735\n",
            "Epoch 7/100\n",
            "1/1 [==============================] - 0s 14ms/step - loss: 14.6410 - mae: 14.6410\n",
            "Epoch 8/100\n",
            "1/1 [==============================] - 0s 15ms/step - loss: 14.5085 - mae: 14.5085\n",
            "Epoch 9/100\n",
            "1/1 [==============================] - 0s 11ms/step - loss: 14.3760 - mae: 14.3760\n",
            "Epoch 10/100\n",
            "1/1 [==============================] - 0s 16ms/step - loss: 14.2435 - mae: 14.2435\n",
            "Epoch 11/100\n",
            "1/1 [==============================] - 0s 19ms/step - loss: 14.1110 - mae: 14.1110\n",
            "Epoch 12/100\n",
            "1/1 [==============================] - 0s 19ms/step - loss: 13.9785 - mae: 13.9785\n",
            "Epoch 13/100\n",
            "1/1 [==============================] - 0s 14ms/step - loss: 13.8460 - mae: 13.8460\n",
            "Epoch 14/100\n",
            "1/1 [==============================] - 0s 21ms/step - loss: 13.7135 - mae: 13.7135\n",
            "Epoch 15/100\n",
            "1/1 [==============================] - 0s 21ms/step - loss: 13.5810 - mae: 13.5810\n",
            "Epoch 16/100\n",
            "1/1 [==============================] - 0s 15ms/step - loss: 13.4485 - mae: 13.4485\n",
            "Epoch 17/100\n",
            "1/1 [==============================] - 0s 13ms/step - loss: 13.3160 - mae: 13.3160\n",
            "Epoch 18/100\n",
            "1/1 [==============================] - 0s 15ms/step - loss: 13.1835 - mae: 13.1835\n",
            "Epoch 19/100\n",
            "1/1 [==============================] - 0s 13ms/step - loss: 13.0510 - mae: 13.0510\n",
            "Epoch 20/100\n",
            "1/1 [==============================] - 0s 14ms/step - loss: 12.9185 - mae: 12.9185\n",
            "Epoch 21/100\n",
            "1/1 [==============================] - 0s 24ms/step - loss: 12.7860 - mae: 12.7860\n",
            "Epoch 22/100\n",
            "1/1 [==============================] - 0s 23ms/step - loss: 12.6535 - mae: 12.6535\n",
            "Epoch 23/100\n",
            "1/1 [==============================] - 0s 13ms/step - loss: 12.5210 - mae: 12.5210\n",
            "Epoch 24/100\n",
            "1/1 [==============================] - 0s 9ms/step - loss: 12.3885 - mae: 12.3885\n",
            "Epoch 25/100\n",
            "1/1 [==============================] - 0s 13ms/step - loss: 12.2560 - mae: 12.2560\n",
            "Epoch 26/100\n",
            "1/1 [==============================] - 0s 12ms/step - loss: 12.1235 - mae: 12.1235\n",
            "Epoch 27/100\n",
            "1/1 [==============================] - 0s 17ms/step - loss: 11.9910 - mae: 11.9910\n",
            "Epoch 28/100\n",
            "1/1 [==============================] - 0s 15ms/step - loss: 11.8585 - mae: 11.8585\n",
            "Epoch 29/100\n",
            "1/1 [==============================] - 0s 15ms/step - loss: 11.7260 - mae: 11.7260\n",
            "Epoch 30/100\n",
            "1/1 [==============================] - 0s 14ms/step - loss: 11.5935 - mae: 11.5935\n",
            "Epoch 31/100\n",
            "1/1 [==============================] - 0s 14ms/step - loss: 11.4610 - mae: 11.4610\n",
            "Epoch 32/100\n",
            "1/1 [==============================] - 0s 13ms/step - loss: 11.3285 - mae: 11.3285\n",
            "Epoch 33/100\n",
            "1/1 [==============================] - 0s 18ms/step - loss: 11.1960 - mae: 11.1960\n",
            "Epoch 34/100\n",
            "1/1 [==============================] - 0s 14ms/step - loss: 11.0635 - mae: 11.0635\n",
            "Epoch 35/100\n",
            "1/1 [==============================] - 0s 14ms/step - loss: 10.9310 - mae: 10.9310\n",
            "Epoch 36/100\n",
            "1/1 [==============================] - 0s 16ms/step - loss: 10.7985 - mae: 10.7985\n",
            "Epoch 37/100\n",
            "1/1 [==============================] - 0s 13ms/step - loss: 10.6660 - mae: 10.6660\n",
            "Epoch 38/100\n",
            "1/1 [==============================] - 0s 13ms/step - loss: 10.5335 - mae: 10.5335\n",
            "Epoch 39/100\n",
            "1/1 [==============================] - 0s 17ms/step - loss: 10.4010 - mae: 10.4010\n",
            "Epoch 40/100\n",
            "1/1 [==============================] - 0s 25ms/step - loss: 10.2685 - mae: 10.2685\n",
            "Epoch 41/100\n",
            "1/1 [==============================] - 0s 11ms/step - loss: 10.1360 - mae: 10.1360\n",
            "Epoch 42/100\n",
            "1/1 [==============================] - 0s 11ms/step - loss: 10.0035 - mae: 10.0035\n",
            "Epoch 43/100\n",
            "1/1 [==============================] - 0s 15ms/step - loss: 9.8710 - mae: 9.8710\n",
            "Epoch 44/100\n",
            "1/1 [==============================] - 0s 19ms/step - loss: 9.7385 - mae: 9.7385\n",
            "Epoch 45/100\n",
            "1/1 [==============================] - 0s 9ms/step - loss: 9.6060 - mae: 9.6060\n",
            "Epoch 46/100\n",
            "1/1 [==============================] - 0s 9ms/step - loss: 9.4735 - mae: 9.4735\n",
            "Epoch 47/100\n",
            "1/1 [==============================] - 0s 9ms/step - loss: 9.3410 - mae: 9.3410\n",
            "Epoch 48/100\n",
            "1/1 [==============================] - 0s 16ms/step - loss: 9.2085 - mae: 9.2085\n",
            "Epoch 49/100\n",
            "1/1 [==============================] - 0s 11ms/step - loss: 9.0760 - mae: 9.0760\n",
            "Epoch 50/100\n",
            "1/1 [==============================] - 0s 16ms/step - loss: 8.9435 - mae: 8.9435\n",
            "Epoch 51/100\n",
            "1/1 [==============================] - 0s 14ms/step - loss: 8.8110 - mae: 8.8110\n",
            "Epoch 52/100\n",
            "1/1 [==============================] - 0s 10ms/step - loss: 8.6785 - mae: 8.6785\n",
            "Epoch 53/100\n",
            "1/1 [==============================] - 0s 10ms/step - loss: 8.5460 - mae: 8.5460\n",
            "Epoch 54/100\n",
            "1/1 [==============================] - 0s 10ms/step - loss: 8.4135 - mae: 8.4135\n",
            "Epoch 55/100\n",
            "1/1 [==============================] - 0s 11ms/step - loss: 8.2810 - mae: 8.2810\n",
            "Epoch 56/100\n",
            "1/1 [==============================] - 0s 33ms/step - loss: 8.1485 - mae: 8.1485\n",
            "Epoch 57/100\n",
            "1/1 [==============================] - 0s 15ms/step - loss: 8.0160 - mae: 8.0160\n",
            "Epoch 58/100\n",
            "1/1 [==============================] - 0s 21ms/step - loss: 7.8835 - mae: 7.8835\n",
            "Epoch 59/100\n",
            "1/1 [==============================] - 0s 20ms/step - loss: 7.7510 - mae: 7.7510\n",
            "Epoch 60/100\n",
            "1/1 [==============================] - 0s 22ms/step - loss: 7.6185 - mae: 7.6185\n",
            "Epoch 61/100\n",
            "1/1 [==============================] - 0s 17ms/step - loss: 7.4860 - mae: 7.4860\n",
            "Epoch 62/100\n",
            "1/1 [==============================] - 0s 27ms/step - loss: 7.3535 - mae: 7.3535\n",
            "Epoch 63/100\n",
            "1/1 [==============================] - 0s 15ms/step - loss: 7.2210 - mae: 7.2210\n",
            "Epoch 64/100\n",
            "1/1 [==============================] - 0s 12ms/step - loss: 7.0885 - mae: 7.0885\n",
            "Epoch 65/100\n",
            "1/1 [==============================] - 0s 11ms/step - loss: 7.0275 - mae: 7.0275\n",
            "Epoch 66/100\n",
            "1/1 [==============================] - 0s 11ms/step - loss: 7.0219 - mae: 7.0219\n",
            "Epoch 67/100\n",
            "1/1 [==============================] - 0s 11ms/step - loss: 7.0163 - mae: 7.0163\n",
            "Epoch 68/100\n",
            "1/1 [==============================] - 0s 12ms/step - loss: 7.0106 - mae: 7.0106\n",
            "Epoch 69/100\n",
            "1/1 [==============================] - 0s 16ms/step - loss: 7.0050 - mae: 7.0050\n",
            "Epoch 70/100\n",
            "1/1 [==============================] - 0s 14ms/step - loss: 6.9994 - mae: 6.9994\n",
            "Epoch 71/100\n",
            "1/1 [==============================] - 0s 22ms/step - loss: 6.9938 - mae: 6.9938\n",
            "Epoch 72/100\n",
            "1/1 [==============================] - 0s 15ms/step - loss: 6.9881 - mae: 6.9881\n",
            "Epoch 73/100\n",
            "1/1 [==============================] - 0s 18ms/step - loss: 6.9825 - mae: 6.9825\n",
            "Epoch 74/100\n",
            "1/1 [==============================] - 0s 12ms/step - loss: 6.9769 - mae: 6.9769\n",
            "Epoch 75/100\n",
            "1/1 [==============================] - 0s 20ms/step - loss: 6.9713 - mae: 6.9713\n",
            "Epoch 76/100\n",
            "1/1 [==============================] - 0s 12ms/step - loss: 6.9656 - mae: 6.9656\n",
            "Epoch 77/100\n",
            "1/1 [==============================] - 0s 30ms/step - loss: 6.9600 - mae: 6.9600\n",
            "Epoch 78/100\n",
            "1/1 [==============================] - 0s 15ms/step - loss: 6.9544 - mae: 6.9544\n",
            "Epoch 79/100\n",
            "1/1 [==============================] - 0s 18ms/step - loss: 6.9488 - mae: 6.9488\n",
            "Epoch 80/100\n",
            "1/1 [==============================] - 0s 17ms/step - loss: 6.9431 - mae: 6.9431\n",
            "Epoch 81/100\n",
            "1/1 [==============================] - 0s 18ms/step - loss: 6.9375 - mae: 6.9375\n",
            "Epoch 82/100\n",
            "1/1 [==============================] - 0s 19ms/step - loss: 6.9319 - mae: 6.9319\n",
            "Epoch 83/100\n",
            "1/1 [==============================] - 0s 11ms/step - loss: 6.9263 - mae: 6.9263\n",
            "Epoch 84/100\n",
            "1/1 [==============================] - 0s 12ms/step - loss: 6.9206 - mae: 6.9206\n",
            "Epoch 85/100\n",
            "1/1 [==============================] - 0s 12ms/step - loss: 6.9150 - mae: 6.9150\n",
            "Epoch 86/100\n",
            "1/1 [==============================] - 0s 24ms/step - loss: 6.9094 - mae: 6.9094\n",
            "Epoch 87/100\n",
            "1/1 [==============================] - 0s 12ms/step - loss: 6.9038 - mae: 6.9038\n",
            "Epoch 88/100\n",
            "1/1 [==============================] - 0s 17ms/step - loss: 6.8981 - mae: 6.8981\n",
            "Epoch 89/100\n",
            "1/1 [==============================] - 0s 18ms/step - loss: 6.8925 - mae: 6.8925\n",
            "Epoch 90/100\n",
            "1/1 [==============================] - 0s 12ms/step - loss: 6.8869 - mae: 6.8869\n",
            "Epoch 91/100\n",
            "1/1 [==============================] - 0s 15ms/step - loss: 6.8813 - mae: 6.8813\n",
            "Epoch 92/100\n",
            "1/1 [==============================] - 0s 14ms/step - loss: 6.8756 - mae: 6.8756\n",
            "Epoch 93/100\n",
            "1/1 [==============================] - 0s 21ms/step - loss: 6.8700 - mae: 6.8700\n",
            "Epoch 94/100\n",
            "1/1 [==============================] - 0s 18ms/step - loss: 6.8644 - mae: 6.8644\n",
            "Epoch 95/100\n",
            "1/1 [==============================] - 0s 19ms/step - loss: 6.8588 - mae: 6.8588\n",
            "Epoch 96/100\n",
            "1/1 [==============================] - 0s 15ms/step - loss: 6.8531 - mae: 6.8531\n",
            "Epoch 97/100\n",
            "1/1 [==============================] - 0s 21ms/step - loss: 6.8475 - mae: 6.8475\n",
            "Epoch 98/100\n",
            "1/1 [==============================] - 0s 13ms/step - loss: 6.8419 - mae: 6.8419\n",
            "Epoch 99/100\n",
            "1/1 [==============================] - 0s 10ms/step - loss: 6.8363 - mae: 6.8363\n",
            "Epoch 100/100\n",
            "1/1 [==============================] - 0s 15ms/step - loss: 6.8306 - mae: 6.8306\n"
          ]
        },
        {
          "output_type": "execute_result",
          "data": {
            "text/plain": [
              "<keras.src.callbacks.History at 0x7e33e2341f90>"
            ]
          },
          "metadata": {},
          "execution_count": 9
        }
      ]
    },
    {
      "cell_type": "markdown",
      "source": [
        "## Try and make a prediction using our new model"
      ],
      "metadata": {
        "id": "15eb95siIOeo"
      }
    },
    {
      "cell_type": "code",
      "source": [
        "y_pred = model.predict([17.])\n",
        "y_pred"
      ],
      "metadata": {
        "colab": {
          "base_uri": "https://localhost:8080/"
        },
        "id": "qmZRIiNXHl0E",
        "outputId": "c51691f2-17fa-4250-9e52-4571664e68d9"
      },
      "execution_count": 10,
      "outputs": [
        {
          "output_type": "stream",
          "name": "stdout",
          "text": [
            "1/1 [==============================] - 0s 72ms/step\n"
          ]
        },
        {
          "output_type": "execute_result",
          "data": {
            "text/plain": [
              "array([[29.624956]], dtype=float32)"
            ]
          },
          "metadata": {},
          "execution_count": 10
        }
      ]
    },
    {
      "cell_type": "markdown",
      "source": [
        "- ***It's much better than before. Let's continue to improve our model***"
      ],
      "metadata": {
        "id": "1Mg-oDhIIpjr"
      }
    },
    {
      "cell_type": "code",
      "source": [
        "# 1. Create the model with an extra hidden layer with 100 hidden units\n",
        "model = tf.keras.Sequential([\n",
        "    tf.keras.layers.Dense(100, activation=\"relu\"),\n",
        "    tf.keras.layers.Dense(100, activation=None),\n",
        "    tf.keras.layers.Dense(100, activation=None),\n",
        "    tf.keras.layers.Dense(1)\n",
        "])\n",
        "\n",
        "# 2. Compile the model\n",
        "model.compile(\n",
        "    loss=tf.keras.losses.mae,\n",
        "    optimizer=tf.keras.optimizers.Adam(lr=0.001),\n",
        "    metrics=[\"mae\"]\n",
        "    )\n",
        "\n",
        "# 3. Fit the model\n",
        "\n",
        "model.fit(tf.expand_dims(X, axis=-1), y, epochs=100)"
      ],
      "metadata": {
        "colab": {
          "base_uri": "https://localhost:8080/"
        },
        "id": "n-aofDusInT4",
        "outputId": "6ddf37bc-cbd2-441f-d172-aa752b4365e1"
      },
      "execution_count": 11,
      "outputs": [
        {
          "output_type": "stream",
          "name": "stderr",
          "text": [
            "WARNING:absl:`lr` is deprecated in Keras optimizer, please use `learning_rate` or use the legacy optimizer, e.g.,tf.keras.optimizers.legacy.Adam.\n"
          ]
        },
        {
          "output_type": "stream",
          "name": "stdout",
          "text": [
            "Epoch 1/100\n",
            "1/1 [==============================] - 3s 3s/step - loss: 14.3488 - mae: 14.3488\n",
            "Epoch 2/100\n",
            "1/1 [==============================] - 0s 22ms/step - loss: 13.2361 - mae: 13.2361\n",
            "Epoch 3/100\n",
            "1/1 [==============================] - 0s 13ms/step - loss: 12.1340 - mae: 12.1340\n",
            "Epoch 4/100\n",
            "1/1 [==============================] - 0s 12ms/step - loss: 11.0939 - mae: 11.0939\n",
            "Epoch 5/100\n",
            "1/1 [==============================] - 0s 12ms/step - loss: 10.2042 - mae: 10.2042\n",
            "Epoch 6/100\n",
            "1/1 [==============================] - 0s 35ms/step - loss: 9.2756 - mae: 9.2756\n",
            "Epoch 7/100\n",
            "1/1 [==============================] - 0s 16ms/step - loss: 8.3021 - mae: 8.3021\n",
            "Epoch 8/100\n",
            "1/1 [==============================] - 0s 17ms/step - loss: 7.2760 - mae: 7.2760\n",
            "Epoch 9/100\n",
            "1/1 [==============================] - 0s 16ms/step - loss: 6.1886 - mae: 6.1886\n",
            "Epoch 10/100\n",
            "1/1 [==============================] - 0s 13ms/step - loss: 5.0300 - mae: 5.0300\n",
            "Epoch 11/100\n",
            "1/1 [==============================] - 0s 16ms/step - loss: 4.1037 - mae: 4.1037\n",
            "Epoch 12/100\n",
            "1/1 [==============================] - 0s 19ms/step - loss: 4.1215 - mae: 4.1215\n",
            "Epoch 13/100\n",
            "1/1 [==============================] - 0s 15ms/step - loss: 4.4396 - mae: 4.4396\n",
            "Epoch 14/100\n",
            "1/1 [==============================] - 0s 23ms/step - loss: 4.8888 - mae: 4.8888\n",
            "Epoch 15/100\n",
            "1/1 [==============================] - 0s 27ms/step - loss: 5.1348 - mae: 5.1348\n",
            "Epoch 16/100\n",
            "1/1 [==============================] - 0s 20ms/step - loss: 5.2052 - mae: 5.2052\n",
            "Epoch 17/100\n",
            "1/1 [==============================] - 0s 10ms/step - loss: 5.1288 - mae: 5.1288\n",
            "Epoch 18/100\n",
            "1/1 [==============================] - 0s 19ms/step - loss: 4.9476 - mae: 4.9476\n",
            "Epoch 19/100\n",
            "1/1 [==============================] - 0s 15ms/step - loss: 4.6871 - mae: 4.6871\n",
            "Epoch 20/100\n",
            "1/1 [==============================] - 0s 13ms/step - loss: 4.3592 - mae: 4.3592\n",
            "Epoch 21/100\n",
            "1/1 [==============================] - 0s 19ms/step - loss: 4.0964 - mae: 4.0964\n",
            "Epoch 22/100\n",
            "1/1 [==============================] - 0s 16ms/step - loss: 3.9566 - mae: 3.9566\n",
            "Epoch 23/100\n",
            "1/1 [==============================] - 0s 16ms/step - loss: 3.8178 - mae: 3.8178\n",
            "Epoch 24/100\n",
            "1/1 [==============================] - 0s 13ms/step - loss: 3.8646 - mae: 3.8646\n",
            "Epoch 25/100\n",
            "1/1 [==============================] - 0s 14ms/step - loss: 3.9813 - mae: 3.9813\n",
            "Epoch 26/100\n",
            "1/1 [==============================] - 0s 26ms/step - loss: 4.1598 - mae: 4.1598\n",
            "Epoch 27/100\n",
            "1/1 [==============================] - 0s 13ms/step - loss: 4.2272 - mae: 4.2272\n",
            "Epoch 28/100\n",
            "1/1 [==============================] - 0s 18ms/step - loss: 4.1081 - mae: 4.1081\n",
            "Epoch 29/100\n",
            "1/1 [==============================] - 0s 12ms/step - loss: 3.9311 - mae: 3.9311\n",
            "Epoch 30/100\n",
            "1/1 [==============================] - 0s 14ms/step - loss: 3.8222 - mae: 3.8222\n",
            "Epoch 31/100\n",
            "1/1 [==============================] - 0s 13ms/step - loss: 3.7014 - mae: 3.7014\n",
            "Epoch 32/100\n",
            "1/1 [==============================] - 0s 13ms/step - loss: 3.7233 - mae: 3.7233\n",
            "Epoch 33/100\n",
            "1/1 [==============================] - 0s 15ms/step - loss: 3.7628 - mae: 3.7628\n",
            "Epoch 34/100\n",
            "1/1 [==============================] - 0s 22ms/step - loss: 3.8066 - mae: 3.8066\n",
            "Epoch 35/100\n",
            "1/1 [==============================] - 0s 13ms/step - loss: 3.8318 - mae: 3.8318\n",
            "Epoch 36/100\n",
            "1/1 [==============================] - 0s 12ms/step - loss: 3.8397 - mae: 3.8397\n",
            "Epoch 37/100\n",
            "1/1 [==============================] - 0s 22ms/step - loss: 3.8317 - mae: 3.8317\n",
            "Epoch 38/100\n",
            "1/1 [==============================] - 0s 21ms/step - loss: 3.8092 - mae: 3.8092\n",
            "Epoch 39/100\n",
            "1/1 [==============================] - 0s 12ms/step - loss: 3.8091 - mae: 3.8091\n",
            "Epoch 40/100\n",
            "1/1 [==============================] - 0s 17ms/step - loss: 3.7424 - mae: 3.7424\n",
            "Epoch 41/100\n",
            "1/1 [==============================] - 0s 22ms/step - loss: 3.6993 - mae: 3.6993\n",
            "Epoch 42/100\n",
            "1/1 [==============================] - 0s 13ms/step - loss: 3.6459 - mae: 3.6459\n",
            "Epoch 43/100\n",
            "1/1 [==============================] - 0s 15ms/step - loss: 3.5835 - mae: 3.5835\n",
            "Epoch 44/100\n",
            "1/1 [==============================] - 0s 11ms/step - loss: 3.5139 - mae: 3.5139\n",
            "Epoch 45/100\n",
            "1/1 [==============================] - 0s 11ms/step - loss: 3.5434 - mae: 3.5434\n",
            "Epoch 46/100\n",
            "1/1 [==============================] - 0s 12ms/step - loss: 3.5845 - mae: 3.5845\n",
            "Epoch 47/100\n",
            "1/1 [==============================] - 0s 10ms/step - loss: 3.5987 - mae: 3.5987\n",
            "Epoch 48/100\n",
            "1/1 [==============================] - 0s 26ms/step - loss: 3.5878 - mae: 3.5878\n",
            "Epoch 49/100\n",
            "1/1 [==============================] - 0s 13ms/step - loss: 3.5541 - mae: 3.5541\n",
            "Epoch 50/100\n",
            "1/1 [==============================] - 0s 11ms/step - loss: 3.4992 - mae: 3.4992\n",
            "Epoch 51/100\n",
            "1/1 [==============================] - 0s 11ms/step - loss: 3.4240 - mae: 3.4240\n",
            "Epoch 52/100\n",
            "1/1 [==============================] - 0s 12ms/step - loss: 3.4461 - mae: 3.4461\n",
            "Epoch 53/100\n",
            "1/1 [==============================] - 0s 22ms/step - loss: 3.4643 - mae: 3.4643\n",
            "Epoch 54/100\n",
            "1/1 [==============================] - 0s 23ms/step - loss: 3.4659 - mae: 3.4659\n",
            "Epoch 55/100\n",
            "1/1 [==============================] - 0s 48ms/step - loss: 3.4524 - mae: 3.4524\n",
            "Epoch 56/100\n",
            "1/1 [==============================] - 0s 22ms/step - loss: 3.4703 - mae: 3.4703\n",
            "Epoch 57/100\n",
            "1/1 [==============================] - 0s 22ms/step - loss: 3.4175 - mae: 3.4175\n",
            "Epoch 58/100\n",
            "1/1 [==============================] - 0s 12ms/step - loss: 3.3796 - mae: 3.3796\n",
            "Epoch 59/100\n",
            "1/1 [==============================] - 0s 14ms/step - loss: 3.3455 - mae: 3.3455\n",
            "Epoch 60/100\n",
            "1/1 [==============================] - 0s 12ms/step - loss: 3.3003 - mae: 3.3003\n",
            "Epoch 61/100\n",
            "1/1 [==============================] - 0s 33ms/step - loss: 3.3266 - mae: 3.3266\n",
            "Epoch 62/100\n",
            "1/1 [==============================] - 0s 18ms/step - loss: 3.3502 - mae: 3.3502\n",
            "Epoch 63/100\n",
            "1/1 [==============================] - 0s 16ms/step - loss: 3.3435 - mae: 3.3435\n",
            "Epoch 64/100\n",
            "1/1 [==============================] - 0s 14ms/step - loss: 3.3093 - mae: 3.3093\n",
            "Epoch 65/100\n",
            "1/1 [==============================] - 0s 22ms/step - loss: 3.2496 - mae: 3.2496\n",
            "Epoch 66/100\n",
            "1/1 [==============================] - 0s 16ms/step - loss: 3.2161 - mae: 3.2161\n",
            "Epoch 67/100\n",
            "1/1 [==============================] - 0s 15ms/step - loss: 3.2203 - mae: 3.2203\n",
            "Epoch 68/100\n",
            "1/1 [==============================] - 0s 27ms/step - loss: 3.2090 - mae: 3.2090\n",
            "Epoch 69/100\n",
            "1/1 [==============================] - 0s 14ms/step - loss: 3.1844 - mae: 3.1844\n",
            "Epoch 70/100\n",
            "1/1 [==============================] - 0s 13ms/step - loss: 3.1468 - mae: 3.1468\n",
            "Epoch 71/100\n",
            "1/1 [==============================] - 0s 26ms/step - loss: 3.0972 - mae: 3.0972\n",
            "Epoch 72/100\n",
            "1/1 [==============================] - 0s 15ms/step - loss: 3.0709 - mae: 3.0709\n",
            "Epoch 73/100\n",
            "1/1 [==============================] - 0s 15ms/step - loss: 3.0437 - mae: 3.0437\n",
            "Epoch 74/100\n",
            "1/1 [==============================] - 0s 15ms/step - loss: 3.0065 - mae: 3.0065\n",
            "Epoch 75/100\n",
            "1/1 [==============================] - 0s 18ms/step - loss: 2.9859 - mae: 2.9859\n",
            "Epoch 76/100\n",
            "1/1 [==============================] - 0s 15ms/step - loss: 2.9792 - mae: 2.9792\n",
            "Epoch 77/100\n",
            "1/1 [==============================] - 0s 15ms/step - loss: 2.9830 - mae: 2.9830\n",
            "Epoch 78/100\n",
            "1/1 [==============================] - 0s 22ms/step - loss: 2.9401 - mae: 2.9401\n",
            "Epoch 79/100\n",
            "1/1 [==============================] - 0s 19ms/step - loss: 2.9075 - mae: 2.9075\n",
            "Epoch 80/100\n",
            "1/1 [==============================] - 0s 13ms/step - loss: 2.9296 - mae: 2.9296\n",
            "Epoch 81/100\n",
            "1/1 [==============================] - 0s 12ms/step - loss: 2.9157 - mae: 2.9157\n",
            "Epoch 82/100\n",
            "1/1 [==============================] - 0s 12ms/step - loss: 2.8667 - mae: 2.8667\n",
            "Epoch 83/100\n",
            "1/1 [==============================] - 0s 31ms/step - loss: 2.8330 - mae: 2.8330\n",
            "Epoch 84/100\n",
            "1/1 [==============================] - 0s 20ms/step - loss: 2.8222 - mae: 2.8222\n",
            "Epoch 85/100\n",
            "1/1 [==============================] - 0s 27ms/step - loss: 2.7952 - mae: 2.7952\n",
            "Epoch 86/100\n",
            "1/1 [==============================] - 0s 15ms/step - loss: 2.7532 - mae: 2.7532\n",
            "Epoch 87/100\n",
            "1/1 [==============================] - 0s 18ms/step - loss: 2.7424 - mae: 2.7424\n",
            "Epoch 88/100\n",
            "1/1 [==============================] - 0s 17ms/step - loss: 2.6893 - mae: 2.6893\n",
            "Epoch 89/100\n",
            "1/1 [==============================] - 0s 20ms/step - loss: 2.6713 - mae: 2.6713\n",
            "Epoch 90/100\n",
            "1/1 [==============================] - 0s 16ms/step - loss: 2.6134 - mae: 2.6134\n",
            "Epoch 91/100\n",
            "1/1 [==============================] - 0s 17ms/step - loss: 2.6125 - mae: 2.6125\n",
            "Epoch 92/100\n",
            "1/1 [==============================] - 0s 16ms/step - loss: 2.5989 - mae: 2.5989\n",
            "Epoch 93/100\n",
            "1/1 [==============================] - 0s 19ms/step - loss: 2.5673 - mae: 2.5673\n",
            "Epoch 94/100\n",
            "1/1 [==============================] - 0s 14ms/step - loss: 2.5451 - mae: 2.5451\n",
            "Epoch 95/100\n",
            "1/1 [==============================] - 0s 23ms/step - loss: 2.4752 - mae: 2.4752\n",
            "Epoch 96/100\n",
            "1/1 [==============================] - 0s 14ms/step - loss: 2.4156 - mae: 2.4156\n",
            "Epoch 97/100\n",
            "1/1 [==============================] - 0s 14ms/step - loss: 2.4338 - mae: 2.4338\n",
            "Epoch 98/100\n",
            "1/1 [==============================] - 0s 15ms/step - loss: 2.4196 - mae: 2.4196\n",
            "Epoch 99/100\n",
            "1/1 [==============================] - 0s 15ms/step - loss: 2.3582 - mae: 2.3582\n",
            "Epoch 100/100\n",
            "1/1 [==============================] - 0s 22ms/step - loss: 2.2519 - mae: 2.2519\n"
          ]
        },
        {
          "output_type": "execute_result",
          "data": {
            "text/plain": [
              "<keras.src.callbacks.History at 0x7e33d1325150>"
            ]
          },
          "metadata": {},
          "execution_count": 11
        }
      ]
    },
    {
      "cell_type": "code",
      "source": [
        "y_pred = model.predict([17.])\n",
        "y_pred"
      ],
      "metadata": {
        "colab": {
          "base_uri": "https://localhost:8080/"
        },
        "id": "8GMSgwfxJjam",
        "outputId": "3401c417-4636-4859-80ea-cd6bd23e3f57"
      },
      "execution_count": 12,
      "outputs": [
        {
          "output_type": "stream",
          "name": "stdout",
          "text": [
            "1/1 [==============================] - 0s 269ms/step\n"
          ]
        },
        {
          "output_type": "execute_result",
          "data": {
            "text/plain": [
              "array([[31.040222]], dtype=float32)"
            ]
          },
          "metadata": {},
          "execution_count": 12
        }
      ]
    },
    {
      "cell_type": "markdown",
      "source": [
        "**It is worse than before model. Because our model is overfitted**\n",
        "\n",
        "Common ways to improve a deep model:\n",
        "1.   Adding layers\n",
        "2.   Increase the number of hidden units\n",
        "3.   Change the activation function\n",
        "4.   Change the optimization function\n",
        "5.   Change the learning rate\n",
        "6.   Fitting on more data\n",
        "7. Fitting for longer\n",
        "\n",
        "\n"
      ],
      "metadata": {
        "id": "BLCXtC-JKPXp"
      }
    },
    {
      "cell_type": "markdown",
      "source": [
        "## Evaluating the model\n",
        "\n",
        "In practice, a typical workflow you'll go through when building neural networks is:\n",
        "\n",
        "Build a model -> fit it > evaluate it -> tweak it -> fit it > evaluate it -> tweak it -> fit it > evaluate it -> tweak it\n",
        "\n",
        "\n",
        "When it comes to evaluation... there are 3 words you should memorize:\n",
        "\n",
        "***Visualize, visualize, visualize***\n",
        "\n",
        "It's a good idea to visualize:\n",
        "* the data - what data are we working within ? What does it look like?\n",
        "* The model itself - what does our model look like?\n",
        "* The training of a model - how does a model perform while it learns ?\n",
        "* The predictions of the model - how do the predictions of a model line up agains the ground truth ( the original label )"
      ],
      "metadata": {
        "id": "-Q1gxBRj75Xf"
      }
    },
    {
      "cell_type": "code",
      "source": [
        "# Make a bigger dataset\n",
        "X = tf.range(-100, 100, 4)\n",
        "X"
      ],
      "metadata": {
        "colab": {
          "base_uri": "https://localhost:8080/"
        },
        "id": "d2eT_CPAYDrv",
        "outputId": "516b54f0-2188-464d-f9bf-43a677124f9c"
      },
      "execution_count": 13,
      "outputs": [
        {
          "output_type": "execute_result",
          "data": {
            "text/plain": [
              "<tf.Tensor: shape=(50,), dtype=int32, numpy=\n",
              "array([-100,  -96,  -92,  -88,  -84,  -80,  -76,  -72,  -68,  -64,  -60,\n",
              "        -56,  -52,  -48,  -44,  -40,  -36,  -32,  -28,  -24,  -20,  -16,\n",
              "        -12,   -8,   -4,    0,    4,    8,   12,   16,   20,   24,   28,\n",
              "         32,   36,   40,   44,   48,   52,   56,   60,   64,   68,   72,\n",
              "         76,   80,   84,   88,   92,   96], dtype=int32)>"
            ]
          },
          "metadata": {},
          "execution_count": 13
        }
      ]
    },
    {
      "cell_type": "code",
      "source": [
        "# Make labels for the dataset\n",
        "y = X + 10\n",
        "y"
      ],
      "metadata": {
        "colab": {
          "base_uri": "https://localhost:8080/"
        },
        "id": "JlB91HJJ9B04",
        "outputId": "6f4b1ed0-d728-4b69-bcf7-de1b2888a1ab"
      },
      "execution_count": 14,
      "outputs": [
        {
          "output_type": "execute_result",
          "data": {
            "text/plain": [
              "<tf.Tensor: shape=(50,), dtype=int32, numpy=\n",
              "array([-90, -86, -82, -78, -74, -70, -66, -62, -58, -54, -50, -46, -42,\n",
              "       -38, -34, -30, -26, -22, -18, -14, -10,  -6,  -2,   2,   6,  10,\n",
              "        14,  18,  22,  26,  30,  34,  38,  42,  46,  50,  54,  58,  62,\n",
              "        66,  70,  74,  78,  82,  86,  90,  94,  98, 102, 106], dtype=int32)>"
            ]
          },
          "metadata": {},
          "execution_count": 14
        }
      ]
    },
    {
      "cell_type": "code",
      "source": [
        "# Let's visualize the data\n",
        "\n",
        "plt.scatter(X, y, color=\"red\")\n",
        "plt.xlabel(\"X\")\n",
        "plt.ylabel(\"Y\")\n",
        "plt.show()"
      ],
      "metadata": {
        "colab": {
          "base_uri": "https://localhost:8080/",
          "height": 449
        },
        "id": "KOBRN_bl9KWO",
        "outputId": "03417ea2-c4f5-4a3c-c4db-3a61b33c22c0"
      },
      "execution_count": 15,
      "outputs": [
        {
          "output_type": "display_data",
          "data": {
            "text/plain": [
              "<Figure size 640x480 with 1 Axes>"
            ],
            "image/png": "[encoded data removed]"
          },
          "metadata": {}
        }
      ]
    },
    {
      "cell_type": "markdown",
      "source": [
        "# The 3 sets...\n",
        "\n",
        "* **Training set** - the model learns from this data, which is typically 70-80% of total data you have available.\n",
        "* **Validation set** - the model gets tuned on this data, which is typically 10-15% of the data available.\n",
        "* **Test set** - The model gets evaluated on this data to test what is has learned, this set is typically 10-15%."
      ],
      "metadata": {
        "id": "Z6UUvlpV-IiM"
      }
    },
    {
      "cell_type": "code",
      "source": [
        "# Split the data into train and test sets\n",
        "X_train = X[:40] # first 40 are training samples (80%)\n",
        "X_test = X[40:] # last 10 are testing samples (20%)\n",
        "\n",
        "y_train = y[:40]\n",
        "y_test = y[40:]\n",
        "\n",
        "len(X_train), len(X_test), len(y_train), len(y_test)"
      ],
      "metadata": {
        "colab": {
          "base_uri": "https://localhost:8080/"
        },
        "id": "8q37qvmq9Yxp",
        "outputId": "09c572f1-8e98-4e71-f7ee-89475ca941d7"
      },
      "execution_count": 16,
      "outputs": [
        {
          "output_type": "execute_result",
          "data": {
            "text/plain": [
              "(40, 10, 40, 10)"
            ]
          },
          "metadata": {},
          "execution_count": 16
        }
      ]
    },
    {
      "cell_type": "markdown",
      "source": [
        "### Visualizing the data\n",
        "\n",
        "Now we've got our data in training and test sets... let's visiualize it again."
      ],
      "metadata": {
        "id": "QBnnE2KAAw2L"
      }
    },
    {
      "cell_type": "code",
      "source": [
        "plt.figure(figsize=(6, 4))\n",
        "plt.scatter(X_train, y_train, color=\"blue\", label=\"training data\")\n",
        "plt.scatter(X_test, y_test, c=\"red\", label=\"testing data\")\n",
        "plt.legend()\n",
        "plt.show()"
      ],
      "metadata": {
        "colab": {
          "base_uri": "https://localhost:8080/",
          "height": 368
        },
        "id": "_3nlJq0x95-g",
        "outputId": "8afab2a3-4c03-4697-88dd-364c4bb398f1"
      },
      "execution_count": 17,
      "outputs": [
        {
          "output_type": "display_data",
          "data": {
            "text/plain": [
              "<Figure size 600x400 with 1 Axes>"
            ],
            "image/png": "[encoded data removed]"
          },
          "metadata": {}
        }
      ]
    },
    {
      "cell_type": "code",
      "source": [
        "# Let's have a look at how to build a neural networks for our data\n",
        "\n",
        "# 1. create a model\n",
        "model = tf.keras.Sequential([\n",
        "    tf.keras.layers.Dense(1)\n",
        "])\n",
        "\n",
        "# 2. Compile the model\n",
        "model.compile(\n",
        "    loss = tf.keras.losses.mae,\n",
        "    optimizer = tf.keras.optimizers.SGD(),\n",
        "    metrics=[\"mae\"]\n",
        "    )\n",
        "\n",
        "# 3. Fit the model\n",
        "\n",
        "#model.fit(tf.expand_dims(X_train, axis=-1), y, epochs=100)\n"
      ],
      "metadata": {
        "id": "z40RTjWfBWH-"
      },
      "execution_count": 18,
      "outputs": []
    },
    {
      "cell_type": "code",
      "source": [
        "model.summary()"
      ],
      "metadata": {
        "colab": {
          "base_uri": "https://localhost:8080/",
          "height": 315
        },
        "id": "l9f9KDDCWEMj",
        "outputId": "3ab10eab-2069-4ed4-847f-89c36a68b0b8"
      },
      "execution_count": 19,
      "outputs": [
        {
          "output_type": "error",
          "ename": "ValueError",
          "evalue": "ignored",
          "traceback": [
            "\u001b[0;31m---------------------------------------------------------------------------\u001b[0m",
            "\u001b[0;31mValueError\u001b[0m                                Traceback (most recent call last)",
            "\u001b[0;32m<ipython-input-19-5f15418b3570>\u001b[0m in \u001b[0;36m<cell line: 1>\u001b[0;34m()\u001b[0m\n\u001b[0;32m----> 1\u001b[0;31m \u001b[0mmodel\u001b[0m\u001b[0;34m.\u001b[0m\u001b[0msummary\u001b[0m\u001b[0;34m(\u001b[0m\u001b[0;34m)\u001b[0m\u001b[0;34m\u001b[0m\u001b[0;34m\u001b[0m\u001b[0m\n\u001b[0m",
            "\u001b[0;32m/usr/local/lib/python3.10/dist-packages/keras/src/engine/training.py\u001b[0m in \u001b[0;36msummary\u001b[0;34m(self, line_length, positions, print_fn, expand_nested, show_trainable, layer_range)\u001b[0m\n\u001b[1;32m   3480\u001b[0m         \"\"\"\n\u001b[1;32m   3481\u001b[0m         \u001b[0;32mif\u001b[0m \u001b[0;32mnot\u001b[0m \u001b[0mself\u001b[0m\u001b[0;34m.\u001b[0m\u001b[0mbuilt\u001b[0m\u001b[0;34m:\u001b[0m\u001b[0;34m\u001b[0m\u001b[0;34m\u001b[0m\u001b[0m\n\u001b[0;32m-> 3482\u001b[0;31m             raise ValueError(\n\u001b[0m\u001b[1;32m   3483\u001b[0m                 \u001b[0;34m\"This model has not yet been built. \"\u001b[0m\u001b[0;34m\u001b[0m\u001b[0;34m\u001b[0m\u001b[0m\n\u001b[1;32m   3484\u001b[0m                 \u001b[0;34m\"Build the model first by calling `build()` or by calling \"\u001b[0m\u001b[0;34m\u001b[0m\u001b[0;34m\u001b[0m\u001b[0m\n",
            "\u001b[0;31mValueError\u001b[0m: This model has not yet been built. Build the model first by calling `build()` or by calling the model on a batch of data."
          ]
        }
      ]
    },
    {
      "cell_type": "code",
      "source": [
        "# Let's create a model which builds automatically by defining the input_shape arg\n",
        "\n",
        "tf.random.set_seed(42)\n",
        "\n",
        "# 1. Create a model\n",
        "model = tf.keras.Sequential([\n",
        "    tf.keras.layers.Dense(units=10, input_shape=[1], name=\"Input_Layer\" ), # X[0] and y[0] is just a number. that's why we put 1\n",
        "    tf.keras.layers.Dense(units=1, name=\"Output_Layer\")\n",
        "], name=\"My_model\")\n",
        "\n",
        "# 2. Compile the model\n",
        "model.compile(\n",
        "    loss = tf.keras.losses.mae,\n",
        "    optimizer = tf.keras.optimizers.SGD(),\n",
        "    metrics=[\"mae\"])\n"
      ],
      "metadata": {
        "id": "znW72Zm2WS1V"
      },
      "execution_count": 29,
      "outputs": []
    },
    {
      "cell_type": "code",
      "source": [
        "model.summary()"
      ],
      "metadata": {
        "colab": {
          "base_uri": "https://localhost:8080/"
        },
        "id": "Wb8Y-E92XO16",
        "outputId": "013f71fb-ef9a-4c45-dfcb-517a7904b5b5"
      },
      "execution_count": 30,
      "outputs": [
        {
          "output_type": "stream",
          "name": "stdout",
          "text": [
            "Model: \"My_model\"\n",
            "_________________________________________________________________\n",
            " Layer (type)                Output Shape              Param #   \n",
            "=================================================================\n",
            " Input_Layer (Dense)         (None, 10)                20        \n",
            "                                                                 \n",
            " Output_Layer (Dense)        (None, 1)                 11        \n",
            "                                                                 \n",
            "=================================================================\n",
            "Total params: 31 (124.00 Byte)\n",
            "Trainable params: 31 (124.00 Byte)\n",
            "Non-trainable params: 0 (0.00 Byte)\n",
            "_________________________________________________________________\n"
          ]
        }
      ]
    },
    {
      "cell_type": "markdown",
      "source": [
        " * Total params - total number of parameters in the model.\n",
        " * Trainable params - these are the parameters ( patterns ) the model can update as it trains.\n",
        " * Non-trainable params - these parameters aren't updated during training ( this is typical when you parameters from other models during **transfer learning**)"
      ],
      "metadata": {
        "id": "hwEQKnaKvkMv"
      }
    },
    {
      "cell_type": "code",
      "source": [
        "# Let's fit our model to the training data\n",
        "\n",
        "model.fit(tf.expand_dims(X_train, axis=-1), y_train, epochs=100, verbose=0) # verbose = 0 means dont show the epochs"
      ],
      "metadata": {
        "colab": {
          "base_uri": "https://localhost:8080/"
        },
        "id": "2NoDlNm5xo8X",
        "outputId": "bf7ca102-1abc-4385-f610-a3141550b2d4"
      },
      "execution_count": 31,
      "outputs": [
        {
          "output_type": "execute_result",
          "data": {
            "text/plain": [
              "<keras.src.callbacks.History at 0x7e340ff98dc0>"
            ]
          },
          "metadata": {},
          "execution_count": 31
        }
      ]
    },
    {
      "cell_type": "code",
      "source": [
        "from tensorflow.keras.utils import plot_model # Converts a Keras model to dot format and save to a file.\n",
        "\n",
        "plot_model(model=model, show_shapes=True)"
      ],
      "metadata": {
        "colab": {
          "base_uri": "https://localhost:8080/",
          "height": 312
        },
        "id": "STy-ligBGN_C",
        "outputId": "70e87dd6-cc82-41e8-f6bf-d59343f9a5b4"
      },
      "execution_count": 32,
      "outputs": [
        {
          "output_type": "execute_result",
          "data": {
            "image/png": "[encoded data removed]",
            "text/plain": [
              "<IPython.core.display.Image object>"
            ]
          },
          "metadata": {},
          "execution_count": 32
        }
      ]
    },
    {
      "cell_type": "markdown",
      "source": [
        "## Visualizing our model predictions\n",
        "\n",
        "To visualize predictions, it's a good idea to plot them against the ground truth labels.\n",
        "\n",
        "Often you will see this in the form of `y_test` or `y_true` versus `y_pred` (ground truth versus your model's predictions.)"
      ],
      "metadata": {
        "id": "v3wmdWeCV85q"
      }
    },
    {
      "cell_type": "code",
      "source": [
        "# Let's make some predictions\n",
        "\n",
        "y_pred = model.predict(X_test)\n",
        "y_pred, y_test"
      ],
      "metadata": {
        "id": "aErz_3OcXOgb",
        "colab": {
          "base_uri": "https://localhost:8080/"
        },
        "outputId": "61745e33-c21a-4b8a-b4ca-62e6bf3d0d76"
      },
      "execution_count": 34,
      "outputs": [
        {
          "output_type": "stream",
          "name": "stdout",
          "text": [
            "1/1 [==============================] - 0s 27ms/step\n"
          ]
        },
        {
          "output_type": "execute_result",
          "data": {
            "text/plain": [
              "(array([[ 78.18419 ],\n",
              "        [ 83.278725],\n",
              "        [ 88.37326 ],\n",
              "        [ 93.46779 ],\n",
              "        [ 98.56233 ],\n",
              "        [103.65686 ],\n",
              "        [108.75139 ],\n",
              "        [113.845924],\n",
              "        [118.94045 ],\n",
              "        [124.03498 ]], dtype=float32),\n",
              " <tf.Tensor: shape=(10,), dtype=int32, numpy=array([ 70,  74,  78,  82,  86,  90,  94,  98, 102, 106], dtype=int32)>)"
            ]
          },
          "metadata": {},
          "execution_count": 34
        }
      ]
    },
    {
      "cell_type": "code",
      "source": [
        "# Let's create a plotting function"
      ],
      "metadata": {
        "id": "EnwGwqHFV2Em"
      },
      "execution_count": 35,
      "outputs": []
    },
    {
      "cell_type": "code",
      "source": [
        "def plot_predictions(training_data=X_train, train_labels=y_train,\n",
        "                     test_data=X_test, test_labels=y_test, predictions=y_pred):\n",
        "  \"\"\"\n",
        "  Plots training data, test data and compares predictions to ground truth labels\n",
        "  \"\"\"\n",
        "\n",
        "  plt.figure(figsize=(6, 4))\n",
        "  # Plot training data in blue\n",
        "  plt.scatter(training_data, train_labels, c=\"b\", label=\"Training Data\")\n",
        "  # Plot test data in green\n",
        "  plt.scatter(test_data, test_labels, c=\"g\", label=\"Testing Data\")\n",
        "  # Plot model's predictions in red\n",
        "  plt.scatter(test_data, predictions, c=\"red\", label=\"Predictions\")\n",
        "  plt.legend()\n",
        "  plt.xlabel(\"X\")\n",
        "  plt.ylabel(\"Y\")\n",
        "  plt.show()"
      ],
      "metadata": {
        "id": "i4vlJVS8WAWi"
      },
      "execution_count": 42,
      "outputs": []
    },
    {
      "cell_type": "code",
      "source": [
        "plot_predictions()"
      ],
      "metadata": {
        "colab": {
          "base_uri": "https://localhost:8080/",
          "height": 388
        },
        "id": "AjY_4xgJYnUF",
        "outputId": "dc9026b5-4ed5-437c-b821-7c0612b6fc0f"
      },
      "execution_count": 43,
      "outputs": [
        {
          "output_type": "display_data",
          "data": {
            "text/plain": [
              "<Figure size 600x400 with 1 Axes>"
            ],
            "image/png": "[encoded data removed]"
          },
          "metadata": {}
        }
      ]
    },
    {
      "cell_type": "markdown",
      "source": [
        "## Evaluating our model's predictions with regression evaluation metrics\n",
        "\n",
        "Depending on the problem you're working on, there will be different evaluation metrics to evaluate your model's predictions.\n",
        "\n",
        "Since we're working on a regression, two of the main metrics:\n",
        "\n",
        "\n",
        "1.   `MAE` - mean absolute error, \"on average, how wrong is each of my model's predictions\n",
        "2.   `MSE` - mean square error, \"square the average erros\"\n",
        "\n"
      ],
      "metadata": {
        "id": "7YcFPg8gZrCd"
      }
    },
    {
      "cell_type": "code",
      "source": [
        "# Evaluate the model on test\n",
        "model.evaluate(X_test, y_test)"
      ],
      "metadata": {
        "colab": {
          "base_uri": "https://localhost:8080/"
        },
        "id": "9FovXE2bZUqQ",
        "outputId": "95e71026-93bf-46ac-c99b-5b628635071d"
      },
      "execution_count": 44,
      "outputs": [
        {
          "output_type": "stream",
          "name": "stdout",
          "text": [
            "1/1 [==============================] - 0s 196ms/step - loss: 13.1096 - mae: 13.1096\n"
          ]
        },
        {
          "output_type": "execute_result",
          "data": {
            "text/plain": [
              "[13.109590530395508, 13.109590530395508]"
            ]
          },
          "metadata": {},
          "execution_count": 44
        }
      ]
    },
    {
      "cell_type": "markdown",
      "source": [
        "### Calculate the mean absolute error"
      ],
      "metadata": {
        "id": "xf4xTkNtchj_"
      }
    },
    {
      "cell_type": "markdown",
      "source": [
        "When we check the shape of y_test and y_pred, we can see they are different and also y_pred is not a tensor."
      ],
      "metadata": {
        "id": "UslTWQKCfO9o"
      }
    },
    {
      "cell_type": "code",
      "source": [
        "print(\"Shape of y_test: {}\\nShape of y_pred:{}\".format(y_test.shape, y_pred.shape))"
      ],
      "metadata": {
        "colab": {
          "base_uri": "https://localhost:8080/"
        },
        "id": "wVJ1GcJHcuzo",
        "outputId": "b2e2a943-76dc-4032-97e1-af1eb3f990da"
      },
      "execution_count": 60,
      "outputs": [
        {
          "output_type": "stream",
          "name": "stdout",
          "text": [
            "Shape of y_test: (10,)\n",
            "Shape of y_pred:(10, 1)\n"
          ]
        }
      ]
    },
    {
      "cell_type": "markdown",
      "source": [
        "That's why we have to convert y_pred into a tensor first and squuze it later."
      ],
      "metadata": {
        "id": "pPCHV68SftyU"
      }
    },
    {
      "cell_type": "code",
      "source": [
        "mae = tf.keras.losses.mean_absolute_error(y_test, tf.squeeze(tf.constant(y_pred)))\n",
        "mae"
      ],
      "metadata": {
        "colab": {
          "base_uri": "https://localhost:8080/"
        },
        "id": "SAf9Zrg6cU9L",
        "outputId": "b60fff1b-9b9f-4c98-8ef0-15e190794045"
      },
      "execution_count": 65,
      "outputs": [
        {
          "output_type": "execute_result",
          "data": {
            "text/plain": [
              "<tf.Tensor: shape=(), dtype=float32, numpy=13.109591>"
            ]
          },
          "metadata": {},
          "execution_count": 65
        }
      ]
    },
    {
      "cell_type": "markdown",
      "source": [
        "## Calculate the mean squaare error"
      ],
      "metadata": {
        "id": "oU4vOMpAgM8A"
      }
    },
    {
      "cell_type": "code",
      "source": [
        "mse = tf.keras.losses.mean_squared_error(y_true=y_test, y_pred=tf.squeeze(tf.constant(y_pred)))\n",
        "mse"
      ],
      "metadata": {
        "colab": {
          "base_uri": "https://localhost:8080/"
        },
        "id": "9pUEWWv6cvN-",
        "outputId": "34a0554d-fe2f-4b63-e8c0-99eb915e5ca5"
      },
      "execution_count": 66,
      "outputs": [
        {
          "output_type": "execute_result",
          "data": {
            "text/plain": [
              "<tf.Tensor: shape=(), dtype=float32, numpy=181.74487>"
            ]
          },
          "metadata": {},
          "execution_count": 66
        }
      ]
    },
    {
      "cell_type": "code",
      "source": [],
      "metadata": {
        "id": "EXHNAPlJgY2h"
      },
      "execution_count": null,
      "outputs": []
    }
  ]
}