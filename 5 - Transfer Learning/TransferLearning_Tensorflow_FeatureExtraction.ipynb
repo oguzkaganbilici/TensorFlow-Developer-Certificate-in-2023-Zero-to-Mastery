{
  "nbformat": 4,
  "nbformat_minor": 0,
  "metadata": {
    "colab": {
      "provenance": [],
      "gpuType": "T4",
      "toc_visible": true
    },
    "kernelspec": {
      "name": "python3",
      "display_name": "Python 3"
    },
    "language_info": {
      "name": "python"
    },
    "accelerator": "GPU"
  },
  "cells": [
    {
      "cell_type": "markdown",
      "source": [
        "# Transfer Learning with TensorFlow with Part-1: Feature Extraction\n",
        "\n",
        "> Transfer learning is leveraging a working model's existing architecture and learned patterns for our own problems.\n",
        "\n",
        "There are two main benefits:\n",
        "1. Can leverage an existing neural network architecture proven to work on problems similar to our own.\n",
        "2. Can leverage a working neural network architecture which has already learned patterns on similar data to our own, then we can adapt those patterns to our own data."
      ],
      "metadata": {
        "id": "g4hU6394S413"
      }
    },
    {
      "cell_type": "markdown",
      "source": [
        "# Are we using GPU or TPU ?\n",
        "\n"
      ],
      "metadata": {
        "id": "c0mO1Uc_WtH-"
      }
    },
    {
      "cell_type": "code",
      "execution_count": 1,
      "metadata": {
        "colab": {
          "base_uri": "https://localhost:8080/"
        },
        "id": "gA4vAMCnSmHN",
        "outputId": "8d514a85-3960-4368-91a8-547738414f19"
      },
      "outputs": [
        {
          "output_type": "stream",
          "name": "stdout",
          "text": [
            "Fri Jan 12 13:23:36 2024       \n",
            "+---------------------------------------------------------------------------------------+\n",
            "| NVIDIA-SMI 535.104.05             Driver Version: 535.104.05   CUDA Version: 12.2     |\n",
            "|-----------------------------------------+----------------------+----------------------+\n",
            "| GPU  Name                 Persistence-M | Bus-Id        Disp.A | Volatile Uncorr. ECC |\n",
            "| Fan  Temp   Perf          Pwr:Usage/Cap |         Memory-Usage | GPU-Util  Compute M. |\n",
            "|                                         |                      |               MIG M. |\n",
            "|=========================================+======================+======================|\n",
            "|   0  Tesla T4                       Off | 00000000:00:04.0 Off |                    0 |\n",
            "| N/A   42C    P8               9W /  70W |      0MiB / 15360MiB |      0%      Default |\n",
            "|                                         |                      |                  N/A |\n",
            "+-----------------------------------------+----------------------+----------------------+\n",
            "                                                                                         \n",
            "+---------------------------------------------------------------------------------------+\n",
            "| Processes:                                                                            |\n",
            "|  GPU   GI   CI        PID   Type   Process name                            GPU Memory |\n",
            "|        ID   ID                                                             Usage      |\n",
            "|=======================================================================================|\n",
            "|  No running processes found                                                           |\n",
            "+---------------------------------------------------------------------------------------+\n"
          ]
        }
      ],
      "source": [
        "!nvidia-smi"
      ]
    },
    {
      "cell_type": "markdown",
      "source": [
        "# Downloading and becoming one with the data\n"
      ],
      "metadata": {
        "id": "Z11vkxgNW37Q"
      }
    },
    {
      "cell_type": "code",
      "source": [
        "import zipfile\n",
        "\n",
        "# Download the data\n",
        "!wget https://storage.googleapis.com/ztm_tf_course/food_vision/10_food_classes_10_percent.zip\n",
        "\n",
        "# Unzip the downloaded file\n",
        "zip_ref = zipfile.ZipFile(\"10_food_classes_10_percent.zip\")\n",
        "zip_ref.extractall()\n",
        "zip_ref.close()\n"
      ],
      "metadata": {
        "colab": {
          "base_uri": "https://localhost:8080/"
        },
        "id": "y2t0mcXsW0Gz",
        "outputId": "2848e5f2-979f-4583-cc44-5f1b8d798873"
      },
      "execution_count": 2,
      "outputs": [
        {
          "output_type": "stream",
          "name": "stdout",
          "text": [
            "--2024-01-12 13:23:36--  https://storage.googleapis.com/ztm_tf_course/food_vision/10_food_classes_10_percent.zip\n",
            "Resolving storage.googleapis.com (storage.googleapis.com)... 108.177.127.207, 172.217.218.207, 142.250.153.207, ...\n",
            "Connecting to storage.googleapis.com (storage.googleapis.com)|108.177.127.207|:443... connected.\n",
            "HTTP request sent, awaiting response... 200 OK\n",
            "Length: 168546183 (161M) [application/zip]\n",
            "Saving to: ‘10_food_classes_10_percent.zip’\n",
            "\n",
            "10_food_classes_10_ 100%[===================>] 160.74M  41.0MB/s    in 4.5s    \n",
            "\n",
            "2024-01-12 13:23:41 (35.7 MB/s) - ‘10_food_classes_10_percent.zip’ saved [168546183/168546183]\n",
            "\n"
          ]
        }
      ]
    },
    {
      "cell_type": "code",
      "source": [
        "# How many images in each folder ?\n",
        "import os\n",
        "\n",
        "# Walk through 10 percent data directory and list number of files\n",
        "for dirpath, dirnames, filenames in os.walk(\"10_food_classes_10_percent\"):\n",
        "  print(f\"There are {len(dirnames)} directories and {len(filenames)} images in {dirpath} \")\n"
      ],
      "metadata": {
        "colab": {
          "base_uri": "https://localhost:8080/"
        },
        "id": "qh2gv4VTXWsg",
        "outputId": "d86f34b5-d4cb-45e9-dce8-252d487ee431"
      },
      "execution_count": 3,
      "outputs": [
        {
          "output_type": "stream",
          "name": "stdout",
          "text": [
            "There are 2 directories and 0 images in 10_food_classes_10_percent \n",
            "There are 10 directories and 0 images in 10_food_classes_10_percent/train \n",
            "There are 0 directories and 75 images in 10_food_classes_10_percent/train/steak \n",
            "There are 0 directories and 75 images in 10_food_classes_10_percent/train/grilled_salmon \n",
            "There are 0 directories and 75 images in 10_food_classes_10_percent/train/chicken_wings \n",
            "There are 0 directories and 75 images in 10_food_classes_10_percent/train/chicken_curry \n",
            "There are 0 directories and 75 images in 10_food_classes_10_percent/train/sushi \n",
            "There are 0 directories and 75 images in 10_food_classes_10_percent/train/pizza \n",
            "There are 0 directories and 75 images in 10_food_classes_10_percent/train/ramen \n",
            "There are 0 directories and 75 images in 10_food_classes_10_percent/train/ice_cream \n",
            "There are 0 directories and 75 images in 10_food_classes_10_percent/train/hamburger \n",
            "There are 0 directories and 75 images in 10_food_classes_10_percent/train/fried_rice \n",
            "There are 10 directories and 0 images in 10_food_classes_10_percent/test \n",
            "There are 0 directories and 250 images in 10_food_classes_10_percent/test/steak \n",
            "There are 0 directories and 250 images in 10_food_classes_10_percent/test/grilled_salmon \n",
            "There are 0 directories and 250 images in 10_food_classes_10_percent/test/chicken_wings \n",
            "There are 0 directories and 250 images in 10_food_classes_10_percent/test/chicken_curry \n",
            "There are 0 directories and 250 images in 10_food_classes_10_percent/test/sushi \n",
            "There are 0 directories and 250 images in 10_food_classes_10_percent/test/pizza \n",
            "There are 0 directories and 250 images in 10_food_classes_10_percent/test/ramen \n",
            "There are 0 directories and 250 images in 10_food_classes_10_percent/test/ice_cream \n",
            "There are 0 directories and 250 images in 10_food_classes_10_percent/test/hamburger \n",
            "There are 0 directories and 250 images in 10_food_classes_10_percent/test/fried_rice \n"
          ]
        }
      ]
    },
    {
      "cell_type": "markdown",
      "source": [
        "# Creating data loaders\n",
        "\n",
        "We'll use the ImageDataGenerator class to load in our images in batches"
      ],
      "metadata": {
        "id": "WJ1UMei8bMOr"
      }
    },
    {
      "cell_type": "code",
      "source": [
        "# Set up data inputs\n",
        "from tensorflow.keras.preprocessing.image import ImageDataGenerator\n",
        "\n",
        "IMAGE_SHAPE = (224, 224)\n",
        "BATCH_SIZE = 32\n",
        "EPOCHS = 5\n",
        "\n",
        "train_dir = \"10_food_classes_10_percent/train/\"\n",
        "test_dir = \"10_food_classes_10_percent/test/\"\n",
        "\n",
        "train_datagen = ImageDataGenerator(rescale=1/255.)\n",
        "test_datagen = ImageDataGenerator(rescale=1/255.)\n",
        "\n",
        "print(\"Training images:\")\n",
        "\n",
        "train_data_10_percent = train_datagen.flow_from_directory(\n",
        "    train_dir,\n",
        "    target_size = IMAGE_SHAPE,\n",
        "    batch_size = BATCH_SIZE,\n",
        "    class_mode = \"categorical\"\n",
        ")\n",
        "\n",
        "print(\"Testing images:\")\n",
        "test_data_10_percent = test_datagen.flow_from_directory(\n",
        "    test_dir,\n",
        "    target_size = IMAGE_SHAPE,\n",
        "    batch_size = BATCH_SIZE,\n",
        "    class_mode = \"categorical\"\n",
        ")"
      ],
      "metadata": {
        "colab": {
          "base_uri": "https://localhost:8080/"
        },
        "id": "1Gafkk74Yb0n",
        "outputId": "a3e8a08d-e16d-41b8-c11d-a9e770b262f6"
      },
      "execution_count": 4,
      "outputs": [
        {
          "output_type": "stream",
          "name": "stdout",
          "text": [
            "Training images:\n",
            "Found 750 images belonging to 10 classes.\n",
            "Testing images:\n",
            "Found 2500 images belonging to 10 classes.\n"
          ]
        }
      ]
    },
    {
      "cell_type": "markdown",
      "source": [
        "# Setting up callbacks (things to run whilst our model trains)\n",
        "\n",
        "> Callbacks are extra functionality you can add to your models to be performed during or after training. Some of the most popular callbacks:\n",
        "\n",
        "* Tracking experiments with the TensorBoard callback\n",
        "* Model checkpoint with the ModelCheckpoint callback\n",
        "* Stopping a model from training (before it trains too long and overfits) with the EarlyStopping callback\n"
      ],
      "metadata": {
        "id": "R9rdOQU66A40"
      }
    },
    {
      "cell_type": "code",
      "source": [
        "# Create TensorBoard callback\n",
        "# (Functionized because we need to create a new one for each model)\n",
        "\n",
        "import datetime\n",
        "\n",
        "def create_tensorboard_callback(dir_name, experiment_name):\n",
        "  log_dir = dir_name + \"/\" + experiment_name + \"/\" + datetime.datetime.now().strftime(\"%Y%m%d-%H%M%S\")\n",
        "  tensorboard_callback = tf.keras.callbacks.TensorBoard(log_dir=log_dir)\n",
        "  print(f\"Saving TensorBoard log files to: {log_dir}\")\n",
        "  return tensorboard_callback"
      ],
      "metadata": {
        "id": "-GEJA4OLbW9P"
      },
      "execution_count": 5,
      "outputs": []
    },
    {
      "cell_type": "markdown",
      "source": [
        "> **Note:** You can customize the directory where your TensorBoard logs (model training metrics) get saved to whatever you like.\n",
        "\n",
        "The `log_dir` parameter we've created above is only one option."
      ],
      "metadata": {
        "id": "3Wm8JCvo-GUy"
      }
    },
    {
      "cell_type": "markdown",
      "source": [
        "# Creating models using TensorFlow Hub\n",
        "\n",
        "In the past we've used TensorFlow to create our own models layer by layer from scratch.\n",
        "\n",
        "Now we're going to do a similar process, except the majority of our model's layers are going to come from TensorFlow Hub.\n",
        "\n",
        "We can access pretrained models on: https://www.tensorflow.org/hub?hl=tr\n"
      ],
      "metadata": {
        "id": "TiDf9_LL-WEB"
      }
    },
    {
      "cell_type": "code",
      "source": [
        "#"
      ],
      "metadata": {
        "id": "HYb6O-689uDf"
      },
      "execution_count": null,
      "outputs": []
    }
  ]
}