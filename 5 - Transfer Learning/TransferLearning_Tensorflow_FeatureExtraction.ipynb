{
  "nbformat": 4,
  "nbformat_minor": 0,
  "metadata": {
    "colab": {
      "provenance": [],
      "gpuType": "T4"
    },
    "kernelspec": {
      "name": "python3",
      "display_name": "Python 3"
    },
    "language_info": {
      "name": "python"
    },
    "accelerator": "GPU"
  },
  "cells": [
    {
      "cell_type": "markdown",
      "source": [
        "# Transfer Learning with TensorFlow with Part-1: Feature Extraction\n",
        "\n",
        "> Transfer learning is leveraging a working model's existing architecture and learned patterns for our own problems.\n",
        "\n",
        "There are two main benefits:\n",
        "1. Can leverage an existing neural network architecture proven to work on problems similar to our own.\n",
        "2. Can leverage a working neural network architecture which has already learned patterns on similar data to our own, then we can adapt those patterns to our own data."
      ],
      "metadata": {
        "id": "g4hU6394S413"
      }
    },
    {
      "cell_type": "markdown",
      "source": [
        "# Are we using GPU or TPU ?\n",
        "\n"
      ],
      "metadata": {
        "id": "c0mO1Uc_WtH-"
      }
    },
    {
      "cell_type": "code",
      "execution_count": 5,
      "metadata": {
        "colab": {
          "base_uri": "https://localhost:8080/"
        },
        "id": "gA4vAMCnSmHN",
        "outputId": "a6375d8e-8ed2-4ed8-bcd0-fa6183910bdc"
      },
      "outputs": [
        {
          "output_type": "stream",
          "name": "stdout",
          "text": [
            "Thu Jan 11 12:10:06 2024       \n",
            "+---------------------------------------------------------------------------------------+\n",
            "| NVIDIA-SMI 535.104.05             Driver Version: 535.104.05   CUDA Version: 12.2     |\n",
            "|-----------------------------------------+----------------------+----------------------+\n",
            "| GPU  Name                 Persistence-M | Bus-Id        Disp.A | Volatile Uncorr. ECC |\n",
            "| Fan  Temp   Perf          Pwr:Usage/Cap |         Memory-Usage | GPU-Util  Compute M. |\n",
            "|                                         |                      |               MIG M. |\n",
            "|=========================================+======================+======================|\n",
            "|   0  Tesla T4                       Off | 00000000:00:04.0 Off |                    0 |\n",
            "| N/A   41C    P8               9W /  70W |      0MiB / 15360MiB |      0%      Default |\n",
            "|                                         |                      |                  N/A |\n",
            "+-----------------------------------------+----------------------+----------------------+\n",
            "                                                                                         \n",
            "+---------------------------------------------------------------------------------------+\n",
            "| Processes:                                                                            |\n",
            "|  GPU   GI   CI        PID   Type   Process name                            GPU Memory |\n",
            "|        ID   ID                                                             Usage      |\n",
            "|=======================================================================================|\n",
            "|  No running processes found                                                           |\n",
            "+---------------------------------------------------------------------------------------+\n"
          ]
        }
      ],
      "source": [
        "!nvidia-smi"
      ]
    },
    {
      "cell_type": "markdown",
      "source": [
        "# Downloading and becoming one with the data\n"
      ],
      "metadata": {
        "id": "Z11vkxgNW37Q"
      }
    },
    {
      "cell_type": "code",
      "source": [
        "import zipfile\n",
        "\n",
        "# Download the data\n",
        "!wget https://storage.googleapis.com/ztm_tf_course/food_vision/10_food_classes_10_percent.zip\n",
        "\n",
        "# Unzip the downloaded file\n",
        "zip_ref = zipfile.ZipFile(\"10_food_classes_10_percent.zip\")\n",
        "zip_ref.extractall()\n",
        "zip_ref.close()\n"
      ],
      "metadata": {
        "colab": {
          "base_uri": "https://localhost:8080/"
        },
        "id": "y2t0mcXsW0Gz",
        "outputId": "4c9b3531-f6f4-4f50-b6c8-a790ff46b83b"
      },
      "execution_count": 6,
      "outputs": [
        {
          "output_type": "stream",
          "name": "stdout",
          "text": [
            "--2024-01-11 12:10:07--  https://storage.googleapis.com/ztm_tf_course/food_vision/10_food_classes_10_percent.zip\n",
            "Resolving storage.googleapis.com (storage.googleapis.com)... 142.251.2.207, 74.125.137.207, 142.250.101.207, ...\n",
            "Connecting to storage.googleapis.com (storage.googleapis.com)|142.251.2.207|:443... connected.\n",
            "HTTP request sent, awaiting response... 200 OK\n",
            "Length: 168546183 (161M) [application/zip]\n",
            "Saving to: ‘10_food_classes_10_percent.zip.1’\n",
            "\n",
            "10_food_classes_10_ 100%[===================>] 160.74M   250MB/s    in 0.6s    \n",
            "\n",
            "2024-01-11 12:10:08 (250 MB/s) - ‘10_food_classes_10_percent.zip.1’ saved [168546183/168546183]\n",
            "\n"
          ]
        }
      ]
    },
    {
      "cell_type": "code",
      "source": [
        "# How many images in each folder ?\n",
        "import os\n",
        "\n",
        "# Walk through 10 percent data directory and list number of files\n",
        "for dirpath, dirnames, filenames in os.walk(\"10_food_classes_10_percent\"):\n",
        "  print(f\"There are {len(dirnames)} directories and {len(filenames)} images in {dirpath} \")\n"
      ],
      "metadata": {
        "colab": {
          "base_uri": "https://localhost:8080/"
        },
        "id": "qh2gv4VTXWsg",
        "outputId": "d5267926-c0cf-4c62-d0bc-401e3b389707"
      },
      "execution_count": 7,
      "outputs": [
        {
          "output_type": "stream",
          "name": "stdout",
          "text": [
            "There are 2 directories and 0 images in 10_food_classes_10_percent \n",
            "There are 10 directories and 0 images in 10_food_classes_10_percent/test \n",
            "There are 0 directories and 250 images in 10_food_classes_10_percent/test/pizza \n",
            "There are 0 directories and 250 images in 10_food_classes_10_percent/test/ramen \n",
            "There are 0 directories and 250 images in 10_food_classes_10_percent/test/chicken_curry \n",
            "There are 0 directories and 250 images in 10_food_classes_10_percent/test/grilled_salmon \n",
            "There are 0 directories and 250 images in 10_food_classes_10_percent/test/steak \n",
            "There are 0 directories and 250 images in 10_food_classes_10_percent/test/sushi \n",
            "There are 0 directories and 250 images in 10_food_classes_10_percent/test/chicken_wings \n",
            "There are 0 directories and 250 images in 10_food_classes_10_percent/test/fried_rice \n",
            "There are 0 directories and 250 images in 10_food_classes_10_percent/test/ice_cream \n",
            "There are 0 directories and 250 images in 10_food_classes_10_percent/test/hamburger \n",
            "There are 10 directories and 0 images in 10_food_classes_10_percent/train \n",
            "There are 0 directories and 75 images in 10_food_classes_10_percent/train/pizza \n",
            "There are 0 directories and 75 images in 10_food_classes_10_percent/train/ramen \n",
            "There are 0 directories and 75 images in 10_food_classes_10_percent/train/chicken_curry \n",
            "There are 0 directories and 75 images in 10_food_classes_10_percent/train/grilled_salmon \n",
            "There are 0 directories and 75 images in 10_food_classes_10_percent/train/steak \n",
            "There are 0 directories and 75 images in 10_food_classes_10_percent/train/sushi \n",
            "There are 0 directories and 75 images in 10_food_classes_10_percent/train/chicken_wings \n",
            "There are 0 directories and 75 images in 10_food_classes_10_percent/train/fried_rice \n",
            "There are 0 directories and 75 images in 10_food_classes_10_percent/train/ice_cream \n",
            "There are 0 directories and 75 images in 10_food_classes_10_percent/train/hamburger \n"
          ]
        }
      ]
    },
    {
      "cell_type": "markdown",
      "source": [
        "## Creating data loaders\n",
        "\n",
        "We'll use the ImageDataGenerator class to load in our images in batches"
      ],
      "metadata": {
        "id": "WJ1UMei8bMOr"
      }
    },
    {
      "cell_type": "code",
      "source": [
        "# Set up data inputs\n",
        "from tensorflow.keras.preprocessing.image import ImageDataGenerator\n",
        "\n",
        "IMAGE_SHAPE = (224, 224)\n",
        "BATCH_SIZE = 32\n",
        "EPOCHS = 5\n",
        "\n",
        "train_dir = \"10_food_classes_10_percent/train/\"\n",
        "test_dir = \"10_food_classes_10_percent/test/\"\n",
        "\n",
        "train_datagen = ImageDataGenerator(rescale=1/255.)\n",
        "test_datagen = ImageDataGenerator(rescale=1/255.)\n",
        "\n",
        "print(\"Training images:\")\n",
        "\n",
        "train_data_10_percent = train_datagen.flow_from_directory(\n",
        "    train_dir,\n",
        "    target_size = IMAGE_SHAPE,\n",
        "    batch_size = BATCH_SIZE,\n",
        "    class_mode = \"categorical\"\n",
        ")\n",
        "\n",
        "print(\"Testing images:\")\n",
        "test_data_10_percent = test_datagen.flow_from_directory(\n",
        "    test_dir,\n",
        "    target_size = IMAGE_SHAPE,\n",
        "    batch_size = BATCH_SIZE,\n",
        "    class_mode = \"categorical\"\n",
        ")"
      ],
      "metadata": {
        "colab": {
          "base_uri": "https://localhost:8080/"
        },
        "id": "1Gafkk74Yb0n",
        "outputId": "9865c8fa-455c-45fb-9882-510f0209a069"
      },
      "execution_count": 11,
      "outputs": [
        {
          "output_type": "stream",
          "name": "stdout",
          "text": [
            "Training images:\n",
            "Found 750 images belonging to 10 classes.\n",
            "Testing images:\n",
            "Found 2500 images belonging to 10 classes.\n"
          ]
        }
      ]
    },
    {
      "cell_type": "code",
      "source": [],
      "metadata": {
        "id": "-GEJA4OLbW9P"
      },
      "execution_count": 8,
      "outputs": []
    }
  ]
}