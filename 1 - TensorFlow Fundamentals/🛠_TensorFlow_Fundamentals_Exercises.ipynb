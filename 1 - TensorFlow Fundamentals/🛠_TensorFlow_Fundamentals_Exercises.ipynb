{
  "nbformat": 4,
  "nbformat_minor": 0,
  "metadata": {
    "colab": {
      "provenance": []
    },
    "kernelspec": {
      "name": "python3",
      "display_name": "Python 3"
    },
    "language_info": {
      "name": "python"
    }
  },
  "cells": [
    {
      "cell_type": "code",
      "execution_count": 1,
      "metadata": {
        "id": "_ZO6gBU16MkG"
      },
      "outputs": [],
      "source": [
        "import tensorflow as tf"
      ]
    },
    {
      "cell_type": "markdown",
      "source": [
        "* Create a vector, scalar, matrix and tensor with values of your choosing using tf.constant()."
      ],
      "metadata": {
        "id": "E5WAmBXm8X71"
      }
    },
    {
      "cell_type": "code",
      "source": [
        "vector = tf.constant([10., 7.])\n",
        "scalar = tf.constant(10)\n",
        "matrix = tf.constant([[10., 7.],\n",
        "                      [11, 16]])\n",
        "\n",
        "tensor = tf.constant([\n",
        "    [\n",
        "        [10., 7., 3.],\n",
        "         [5., 4., 3.]\n",
        "        ],\n",
        "     [\n",
        "        [6., 5., 4.],\n",
        "        [3., 2., 1.]\n",
        "        ],\n",
        "    [\n",
        "        [1., 2., 3.],\n",
        "        [4., 5., 6.]\n",
        "    ]\n",
        "])\n",
        "\n",
        "scalar,vector, matrix, tensor"
      ],
      "metadata": {
        "colab": {
          "base_uri": "https://localhost:8080/"
        },
        "id": "W0L0lp9E6d5t",
        "outputId": "84a6f8f1-db78-46ed-f1e8-153fcefeed03"
      },
      "execution_count": 14,
      "outputs": [
        {
          "output_type": "execute_result",
          "data": {
            "text/plain": [
              "(<tf.Tensor: shape=(), dtype=int32, numpy=10>,\n",
              " <tf.Tensor: shape=(2,), dtype=float32, numpy=array([10.,  7.], dtype=float32)>,\n",
              " <tf.Tensor: shape=(2, 2), dtype=float32, numpy=\n",
              " array([[10.,  7.],\n",
              "        [11., 16.]], dtype=float32)>,\n",
              " <tf.Tensor: shape=(3, 2, 3), dtype=float32, numpy=\n",
              " array([[[10.,  7.,  3.],\n",
              "         [ 5.,  4.,  3.]],\n",
              " \n",
              "        [[ 6.,  5.,  4.],\n",
              "         [ 3.,  2.,  1.]],\n",
              " \n",
              "        [[ 1.,  2.,  3.],\n",
              "         [ 4.,  5.,  6.]]], dtype=float32)>)"
            ]
          },
          "metadata": {},
          "execution_count": 14
        }
      ]
    },
    {
      "cell_type": "markdown",
      "source": [
        "* Find the shape, rank and size of the tensors you created in 1."
      ],
      "metadata": {
        "id": "-4ul8kul8iCM"
      }
    },
    {
      "cell_type": "code",
      "source": [
        "print(\"Shape of tensor: {}\\nRank of tensor: {}\\nSize of tensor: {}\".format(tensor.shape, tensor.ndim, tf.size(tensor)))"
      ],
      "metadata": {
        "colab": {
          "base_uri": "https://localhost:8080/"
        },
        "id": "CHU8gL9-8iiL",
        "outputId": "86949a25-798e-43cf-9ba3-032f38d64be4"
      },
      "execution_count": 17,
      "outputs": [
        {
          "output_type": "stream",
          "name": "stdout",
          "text": [
            "Shape of tensor: (3, 2, 3)\n",
            "Rank of tensor: 3\n",
            "Size of tensor: 18\n"
          ]
        }
      ]
    },
    {
      "cell_type": "markdown",
      "source": [
        "* Create two tensors containing random values between 0 and 1 with shape [5, 300].\n"
      ],
      "metadata": {
        "id": "tXLWt91W9LqO"
      }
    },
    {
      "cell_type": "code",
      "source": [
        "random_1 = tf.constant(tf.random.uniform(minval=0, maxval=1, shape=(5,300)))\n",
        "random_2 = tf.Variable(tf.random.uniform(minval=0, maxval=1, shape=(5, 300)))\n",
        "random_1, random_2"
      ],
      "metadata": {
        "colab": {
          "base_uri": "https://localhost:8080/"
        },
        "id": "zKDRkej19Oqj",
        "outputId": "894493c9-3c1e-400f-83d6-861b666349fa"
      },
      "execution_count": 29,
      "outputs": [
        {
          "output_type": "execute_result",
          "data": {
            "text/plain": [
              "(<tf.Tensor: shape=(5, 300), dtype=float32, numpy=\n",
              " array([[0.5486244 , 0.7709118 , 0.8073604 , ..., 0.9827212 , 0.39545727,\n",
              "         0.7195983 ],\n",
              "        [0.7424617 , 0.5374359 , 0.9724717 , ..., 0.74005795, 0.42786264,\n",
              "         0.7426647 ],\n",
              "        [0.6344037 , 0.02231801, 0.649994  , ..., 0.7191012 , 0.4796425 ,\n",
              "         0.21168947],\n",
              "        [0.75454783, 0.6508584 , 0.64073133, ..., 0.03456092, 0.07477319,\n",
              "         0.88514376],\n",
              "        [0.3306867 , 0.50337934, 0.40651703, ..., 0.09679854, 0.38833594,\n",
              "         0.1273315 ]], dtype=float32)>,\n",
              " <tf.Variable 'Variable:0' shape=(5, 300) dtype=float32, numpy=\n",
              " array([[0.9505478 , 0.67767215, 0.28040934, ..., 0.7906331 , 0.14496613,\n",
              "         0.8562764 ],\n",
              "        [0.26595795, 0.2533753 , 0.61897385, ..., 0.11923075, 0.9173912 ,\n",
              "         0.10874856],\n",
              "        [0.5988337 , 0.09842598, 0.26624477, ..., 0.36022353, 0.11457884,\n",
              "         0.17654836],\n",
              "        [0.39946055, 0.34142077, 0.80306685, ..., 0.19015563, 0.96765006,\n",
              "         0.8431066 ],\n",
              "        [0.57706976, 0.24166036, 0.6598866 , ..., 0.8286257 , 0.13052964,\n",
              "         0.61884415]], dtype=float32)>)"
            ]
          },
          "metadata": {},
          "execution_count": 29
        }
      ]
    },
    {
      "cell_type": "markdown",
      "source": [
        "* Multiply the two tensors you created in 3 using matrix multiplication.\n"
      ],
      "metadata": {
        "id": "MNBcxAVj-21V"
      }
    },
    {
      "cell_type": "code",
      "source": [
        "tf.matmul(random_1, random_2, transpose_b=True)"
      ],
      "metadata": {
        "colab": {
          "base_uri": "https://localhost:8080/"
        },
        "id": "bI7FW4ly9wnf",
        "outputId": "33045e3e-7ad6-4309-bb00-436f338f3203"
      },
      "execution_count": 32,
      "outputs": [
        {
          "output_type": "execute_result",
          "data": {
            "text/plain": [
              "<tf.Tensor: shape=(5, 5), dtype=float32, numpy=\n",
              "array([[69.0794  , 69.78428 , 70.50389 , 72.67869 , 68.827965],\n",
              "       [73.9797  , 78.36183 , 75.33462 , 74.74452 , 78.78995 ],\n",
              "       [72.36304 , 75.79319 , 74.437965, 74.48978 , 72.38256 ],\n",
              "       [73.82128 , 73.35205 , 70.16255 , 74.92376 , 73.306404],\n",
              "       [73.759094, 75.65152 , 73.489204, 76.74079 , 73.54016 ]],\n",
              "      dtype=float32)>"
            ]
          },
          "metadata": {},
          "execution_count": 32
        }
      ]
    },
    {
      "cell_type": "markdown",
      "source": [
        "* Multiply the two tensors you created in 3 using dot product.\n"
      ],
      "metadata": {
        "id": "KL3Fz6Fv_c3k"
      }
    },
    {
      "cell_type": "code",
      "source": [
        "tf.tensordot(random_1, tf.transpose(random_2), axes = 1)"
      ],
      "metadata": {
        "colab": {
          "base_uri": "https://localhost:8080/"
        },
        "id": "9If0ij8U--Jn",
        "outputId": "ecfd5c79-9f3e-4732-c314-7522d9d60f67"
      },
      "execution_count": 35,
      "outputs": [
        {
          "output_type": "execute_result",
          "data": {
            "text/plain": [
              "<tf.Tensor: shape=(5, 5), dtype=float32, numpy=\n",
              "array([[69.0794  , 69.78428 , 70.50389 , 72.67869 , 68.827965],\n",
              "       [73.9797  , 78.36183 , 75.33462 , 74.74452 , 78.78995 ],\n",
              "       [72.36304 , 75.79319 , 74.437965, 74.48978 , 72.38256 ],\n",
              "       [73.82128 , 73.35205 , 70.16255 , 74.92376 , 73.306404],\n",
              "       [73.759094, 75.65152 , 73.489204, 76.74079 , 73.54016 ]],\n",
              "      dtype=float32)>"
            ]
          },
          "metadata": {},
          "execution_count": 35
        }
      ]
    },
    {
      "cell_type": "markdown",
      "source": [
        "* Create a tensor with random values between 0 and 1 with shape [224, 224, 3]."
      ],
      "metadata": {
        "id": "UqQsDzsH_xTW"
      }
    },
    {
      "cell_type": "code",
      "source": [
        "random_3 = tf.random.uniform(minval=0, maxval=1, shape=(224, 224, 3))\n",
        "random_3"
      ],
      "metadata": {
        "colab": {
          "base_uri": "https://localhost:8080/"
        },
        "id": "sQE4ma26_mJM",
        "outputId": "5f5aae7f-8e4f-42de-9994-69bf8a18cca4"
      },
      "execution_count": 36,
      "outputs": [
        {
          "output_type": "execute_result",
          "data": {
            "text/plain": [
              "<tf.Tensor: shape=(224, 224, 3), dtype=float32, numpy=\n",
              "array([[[0.29191852, 0.6509105 , 0.8507019 ],\n",
              "        [0.38791287, 0.17844772, 0.21560001],\n",
              "        [0.42006516, 0.6894294 , 0.5809721 ],\n",
              "        ...,\n",
              "        [0.97675836, 0.62121284, 0.03908062],\n",
              "        [0.37908053, 0.03705502, 0.41908252],\n",
              "        [0.3146044 , 0.38396192, 0.7619809 ]],\n",
              "\n",
              "       [[0.21290958, 0.38501334, 0.863927  ],\n",
              "        [0.05414033, 0.15838051, 0.16623926],\n",
              "        [0.43272507, 0.9369056 , 0.40347445],\n",
              "        ...,\n",
              "        [0.63114154, 0.9056406 , 0.58486927],\n",
              "        [0.15007567, 0.5480801 , 0.200755  ],\n",
              "        [0.38837492, 0.11288393, 0.1595993 ]],\n",
              "\n",
              "       [[0.13769901, 0.03395164, 0.61931956],\n",
              "        [0.27249813, 0.87549853, 0.3900653 ],\n",
              "        [0.41171694, 0.20379996, 0.7188623 ],\n",
              "        ...,\n",
              "        [0.23090553, 0.37314963, 0.31420386],\n",
              "        [0.06096232, 0.0737915 , 0.00317645],\n",
              "        [0.6459135 , 0.46993005, 0.9425    ]],\n",
              "\n",
              "       ...,\n",
              "\n",
              "       [[0.76626813, 0.59890866, 0.7948297 ],\n",
              "        [0.93605554, 0.37784827, 0.07040381],\n",
              "        [0.48580706, 0.32917786, 0.00937712],\n",
              "        ...,\n",
              "        [0.14245057, 0.51127374, 0.7992672 ],\n",
              "        [0.7077371 , 0.0569005 , 0.582942  ],\n",
              "        [0.3524233 , 0.53006077, 0.04964542]],\n",
              "\n",
              "       [[0.18089926, 0.6284318 , 0.68818426],\n",
              "        [0.72307944, 0.63025963, 0.9292079 ],\n",
              "        [0.23392367, 0.23839629, 0.51869977],\n",
              "        ...,\n",
              "        [0.3733312 , 0.02317536, 0.51523983],\n",
              "        [0.471061  , 0.60147893, 0.06626976],\n",
              "        [0.11866665, 0.52066374, 0.19261944]],\n",
              "\n",
              "       [[0.30981195, 0.90397406, 0.3796141 ],\n",
              "        [0.8571788 , 0.76560163, 0.8877367 ],\n",
              "        [0.06796741, 0.36813617, 0.28845882],\n",
              "        ...,\n",
              "        [0.11466146, 0.8338928 , 0.85065854],\n",
              "        [0.8211354 , 0.8531673 , 0.04641008],\n",
              "        [0.68700147, 0.66389656, 0.2288065 ]]], dtype=float32)>"
            ]
          },
          "metadata": {},
          "execution_count": 36
        }
      ]
    },
    {
      "cell_type": "markdown",
      "source": [
        "* Find the min and max values of the tensor you created in 6 along the first axis.\n"
      ],
      "metadata": {
        "id": "QQrUlcuUAKyG"
      }
    },
    {
      "cell_type": "code",
      "source": [
        "max_val = tf.reduce_max(random_3)\n",
        "min_val = tf.reduce_min(random_3)\n",
        "max_val, min_val"
      ],
      "metadata": {
        "colab": {
          "base_uri": "https://localhost:8080/"
        },
        "id": "eUqpB6-sACjF",
        "outputId": "0c79655b-8ffa-4085-9dc5-f2575e588857"
      },
      "execution_count": 41,
      "outputs": [
        {
          "output_type": "execute_result",
          "data": {
            "text/plain": [
              "(<tf.Tensor: shape=(), dtype=float32, numpy=0.99999976>,\n",
              " <tf.Tensor: shape=(), dtype=float32, numpy=8.702278e-06>)"
            ]
          },
          "metadata": {},
          "execution_count": 41
        }
      ]
    },
    {
      "cell_type": "markdown",
      "source": [
        "* Created a tensor with random values of shape [1, 224, 224, 3] then squeeze it to change the shape to [224, 224, 3].\n"
      ],
      "metadata": {
        "id": "TgpjdMP4A6LL"
      }
    },
    {
      "cell_type": "code",
      "source": [
        "random_4 = tf.random.normal(shape=(1, 224, 224, 3))\n",
        "squuzed_random_4 = tf.squeeze(random_4)\n",
        "\n",
        "random_4.shape, squuzed_random_4.shape"
      ],
      "metadata": {
        "colab": {
          "base_uri": "https://localhost:8080/"
        },
        "id": "UBXkyCCSAQPM",
        "outputId": "d91ea448-1ba4-4f45-c6cd-8b5061593292"
      },
      "execution_count": 45,
      "outputs": [
        {
          "output_type": "execute_result",
          "data": {
            "text/plain": [
              "(TensorShape([1, 224, 224, 3]), TensorShape([224, 224, 3]))"
            ]
          },
          "metadata": {},
          "execution_count": 45
        }
      ]
    },
    {
      "cell_type": "markdown",
      "source": [
        "* Create a tensor with shape [10] using your own choice of values, then find the index which has the maximum value.\n"
      ],
      "metadata": {
        "id": "0WPF6D_NBXGC"
      }
    },
    {
      "cell_type": "code",
      "source": [
        "my_tensor = tf.Variable([12, 3,2, 5, 23, 5,56,7, 1,2])\n",
        "max_indeces = tf.argmax(my_tensor)\n",
        "my_tensor.shape, max_indeces, my_tensor[max_indeces]"
      ],
      "metadata": {
        "colab": {
          "base_uri": "https://localhost:8080/"
        },
        "id": "l3zl89XKBCX3",
        "outputId": "14a6288d-646e-425c-852a-f1c9e57b8989"
      },
      "execution_count": 50,
      "outputs": [
        {
          "output_type": "execute_result",
          "data": {
            "text/plain": [
              "(TensorShape([10]),\n",
              " <tf.Tensor: shape=(), dtype=int64, numpy=6>,\n",
              " <tf.Tensor: shape=(), dtype=int32, numpy=56>)"
            ]
          },
          "metadata": {},
          "execution_count": 50
        }
      ]
    },
    {
      "cell_type": "markdown",
      "source": [
        "* One-hot encode the tensor you created in 9"
      ],
      "metadata": {
        "id": "NbnTcL_uB_T-"
      }
    },
    {
      "cell_type": "code",
      "source": [
        "tf.one_hot(my_tensor, depth=10)"
      ],
      "metadata": {
        "colab": {
          "base_uri": "https://localhost:8080/"
        },
        "id": "RQ2sfnULBgxV",
        "outputId": "e6ce137a-c2b2-4146-8563-c63d55c25a3a"
      },
      "execution_count": 51,
      "outputs": [
        {
          "output_type": "execute_result",
          "data": {
            "text/plain": [
              "<tf.Tensor: shape=(10, 10), dtype=float32, numpy=\n",
              "array([[0., 0., 0., 0., 0., 0., 0., 0., 0., 0.],\n",
              "       [0., 0., 0., 1., 0., 0., 0., 0., 0., 0.],\n",
              "       [0., 0., 1., 0., 0., 0., 0., 0., 0., 0.],\n",
              "       [0., 0., 0., 0., 0., 1., 0., 0., 0., 0.],\n",
              "       [0., 0., 0., 0., 0., 0., 0., 0., 0., 0.],\n",
              "       [0., 0., 0., 0., 0., 1., 0., 0., 0., 0.],\n",
              "       [0., 0., 0., 0., 0., 0., 0., 0., 0., 0.],\n",
              "       [0., 0., 0., 0., 0., 0., 0., 1., 0., 0.],\n",
              "       [0., 1., 0., 0., 0., 0., 0., 0., 0., 0.],\n",
              "       [0., 0., 1., 0., 0., 0., 0., 0., 0., 0.]], dtype=float32)>"
            ]
          },
          "metadata": {},
          "execution_count": 51
        }
      ]
    },
    {
      "cell_type": "code",
      "source": [],
      "metadata": {
        "id": "CR2iYJovCG6Q"
      },
      "execution_count": null,
      "outputs": []
    }
  ]
}